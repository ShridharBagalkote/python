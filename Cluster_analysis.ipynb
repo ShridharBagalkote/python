{
  "cells": [
    {
      "cell_type": "markdown",
      "metadata": {
        "id": "view-in-github",
        "colab_type": "text"
      },
      "source": [
        "<a href=\"https://colab.research.google.com/github/ShridharBagalkote/python/blob/main/Cluster_analysis.ipynb\" target=\"_parent\"><img src=\"https://colab.research.google.com/assets/colab-badge.svg\" alt=\"Open In Colab\"/></a>"
      ]
    },
    {
      "cell_type": "code",
      "execution_count": null,
      "id": "122cfba3",
      "metadata": {
        "id": "122cfba3"
      },
      "outputs": [],
      "source": [
        "# Import the packages\n",
        "import numpy as np\n",
        "import pandas as pd\n",
        "import matplotlib.pyplot as plt\n",
        "import warnings\n",
        "warnings.filterwarnings(\"ignore\")"
      ]
    },
    {
      "cell_type": "markdown",
      "id": "8e6cb7b2",
      "metadata": {
        "id": "8e6cb7b2"
      },
      "source": [
        "**Mall customer data**\n",
        "\n",
        "- It has four columns having CustomerID, Gender , Age, Income and Spending score\n",
        "\n",
        "- Spending score between 1 to 100\n",
        "\n",
        "- More spending score means more valuable customer\n",
        "\n",
        "- Income and Spending score are the important variables\n",
        "\n",
        "- Group the data based on Income and Spending score"
      ]
    },
    {
      "cell_type": "code",
      "execution_count": null,
      "id": "9b3114b2",
      "metadata": {
        "id": "9b3114b2",
        "outputId": "974ab358-ad59-4e6f-f365-5c49cbe0b281"
      },
      "outputs": [
        {
          "data": {
            "text/plain": [
              "(200, 5)"
            ]
          },
          "execution_count": 2,
          "metadata": {},
          "output_type": "execute_result"
        }
      ],
      "source": [
        "# Read the data:\n",
        "data=pd.read_csv(\"Mall_Customers.csv\")\n",
        "data.shape"
      ]
    },
    {
      "cell_type": "code",
      "execution_count": null,
      "id": "8b53888d-012e-4666-95fa-4b530c16caf9",
      "metadata": {
        "id": "8b53888d-012e-4666-95fa-4b530c16caf9",
        "outputId": "ff5a0900-838c-47f5-d56e-d8ab180eabcf"
      },
      "outputs": [
        {
          "data": {
            "text/plain": [
              "Index(['CustomerID', 'Genre', 'Age', 'Annual Income (k$)',\n",
              "       'Spending Score (1-100)'],\n",
              "      dtype='object')"
            ]
          },
          "execution_count": 3,
          "metadata": {},
          "output_type": "execute_result"
        }
      ],
      "source": [
        "data.columns"
      ]
    },
    {
      "cell_type": "code",
      "execution_count": null,
      "id": "145eba61",
      "metadata": {
        "id": "145eba61",
        "outputId": "266c2b34-3c14-40ae-81d5-5457100ab96a"
      },
      "outputs": [
        {
          "data": {
            "text/html": [
              "<div>\n",
              "<style scoped>\n",
              "    .dataframe tbody tr th:only-of-type {\n",
              "        vertical-align: middle;\n",
              "    }\n",
              "\n",
              "    .dataframe tbody tr th {\n",
              "        vertical-align: top;\n",
              "    }\n",
              "\n",
              "    .dataframe thead th {\n",
              "        text-align: right;\n",
              "    }\n",
              "</style>\n",
              "<table border=\"1\" class=\"dataframe\">\n",
              "  <thead>\n",
              "    <tr style=\"text-align: right;\">\n",
              "      <th></th>\n",
              "      <th>CustomerID</th>\n",
              "      <th>Genre</th>\n",
              "      <th>Age</th>\n",
              "      <th>Annual Income (k$)</th>\n",
              "      <th>Spending Score (1-100)</th>\n",
              "    </tr>\n",
              "  </thead>\n",
              "  <tbody>\n",
              "    <tr>\n",
              "      <th>0</th>\n",
              "      <td>1</td>\n",
              "      <td>Male</td>\n",
              "      <td>19</td>\n",
              "      <td>15</td>\n",
              "      <td>39</td>\n",
              "    </tr>\n",
              "    <tr>\n",
              "      <th>1</th>\n",
              "      <td>2</td>\n",
              "      <td>Male</td>\n",
              "      <td>21</td>\n",
              "      <td>15</td>\n",
              "      <td>81</td>\n",
              "    </tr>\n",
              "    <tr>\n",
              "      <th>2</th>\n",
              "      <td>3</td>\n",
              "      <td>Female</td>\n",
              "      <td>20</td>\n",
              "      <td>16</td>\n",
              "      <td>6</td>\n",
              "    </tr>\n",
              "    <tr>\n",
              "      <th>3</th>\n",
              "      <td>4</td>\n",
              "      <td>Female</td>\n",
              "      <td>23</td>\n",
              "      <td>16</td>\n",
              "      <td>77</td>\n",
              "    </tr>\n",
              "    <tr>\n",
              "      <th>4</th>\n",
              "      <td>5</td>\n",
              "      <td>Female</td>\n",
              "      <td>31</td>\n",
              "      <td>17</td>\n",
              "      <td>40</td>\n",
              "    </tr>\n",
              "  </tbody>\n",
              "</table>\n",
              "</div>"
            ],
            "text/plain": [
              "   CustomerID   Genre  Age  Annual Income (k$)  Spending Score (1-100)\n",
              "0           1    Male   19                  15                      39\n",
              "1           2    Male   21                  15                      81\n",
              "2           3  Female   20                  16                       6\n",
              "3           4  Female   23                  16                      77\n",
              "4           5  Female   31                  17                      40"
            ]
          },
          "execution_count": 4,
          "metadata": {},
          "output_type": "execute_result"
        }
      ],
      "source": [
        "data.head()"
      ]
    },
    {
      "cell_type": "code",
      "execution_count": null,
      "id": "29b896be",
      "metadata": {
        "id": "29b896be",
        "outputId": "0e516308-c2d1-4cbb-8398-5d4fcfe7d06f"
      },
      "outputs": [
        {
          "data": {
            "text/plain": [
              "array([[ 15,  39],\n",
              "       [ 15,  81],\n",
              "       [ 16,   6],\n",
              "       [ 16,  77],\n",
              "       [ 17,  40],\n",
              "       [ 17,  76],\n",
              "       [ 18,   6],\n",
              "       [ 18,  94],\n",
              "       [ 19,   3],\n",
              "       [ 19,  72],\n",
              "       [ 19,  14],\n",
              "       [ 19,  99],\n",
              "       [ 20,  15],\n",
              "       [ 20,  77],\n",
              "       [ 20,  13],\n",
              "       [ 20,  79],\n",
              "       [ 21,  35],\n",
              "       [ 21,  66],\n",
              "       [ 23,  29],\n",
              "       [ 23,  98],\n",
              "       [ 24,  35],\n",
              "       [ 24,  73],\n",
              "       [ 25,   5],\n",
              "       [ 25,  73],\n",
              "       [ 28,  14],\n",
              "       [ 28,  82],\n",
              "       [ 28,  32],\n",
              "       [ 28,  61],\n",
              "       [ 29,  31],\n",
              "       [ 29,  87],\n",
              "       [ 30,   4],\n",
              "       [ 30,  73],\n",
              "       [ 33,   4],\n",
              "       [ 33,  92],\n",
              "       [ 33,  14],\n",
              "       [ 33,  81],\n",
              "       [ 34,  17],\n",
              "       [ 34,  73],\n",
              "       [ 37,  26],\n",
              "       [ 37,  75],\n",
              "       [ 38,  35],\n",
              "       [ 38,  92],\n",
              "       [ 39,  36],\n",
              "       [ 39,  61],\n",
              "       [ 39,  28],\n",
              "       [ 39,  65],\n",
              "       [ 40,  55],\n",
              "       [ 40,  47],\n",
              "       [ 40,  42],\n",
              "       [ 40,  42],\n",
              "       [ 42,  52],\n",
              "       [ 42,  60],\n",
              "       [ 43,  54],\n",
              "       [ 43,  60],\n",
              "       [ 43,  45],\n",
              "       [ 43,  41],\n",
              "       [ 44,  50],\n",
              "       [ 44,  46],\n",
              "       [ 46,  51],\n",
              "       [ 46,  46],\n",
              "       [ 46,  56],\n",
              "       [ 46,  55],\n",
              "       [ 47,  52],\n",
              "       [ 47,  59],\n",
              "       [ 48,  51],\n",
              "       [ 48,  59],\n",
              "       [ 48,  50],\n",
              "       [ 48,  48],\n",
              "       [ 48,  59],\n",
              "       [ 48,  47],\n",
              "       [ 49,  55],\n",
              "       [ 49,  42],\n",
              "       [ 50,  49],\n",
              "       [ 50,  56],\n",
              "       [ 54,  47],\n",
              "       [ 54,  54],\n",
              "       [ 54,  53],\n",
              "       [ 54,  48],\n",
              "       [ 54,  52],\n",
              "       [ 54,  42],\n",
              "       [ 54,  51],\n",
              "       [ 54,  55],\n",
              "       [ 54,  41],\n",
              "       [ 54,  44],\n",
              "       [ 54,  57],\n",
              "       [ 54,  46],\n",
              "       [ 57,  58],\n",
              "       [ 57,  55],\n",
              "       [ 58,  60],\n",
              "       [ 58,  46],\n",
              "       [ 59,  55],\n",
              "       [ 59,  41],\n",
              "       [ 60,  49],\n",
              "       [ 60,  40],\n",
              "       [ 60,  42],\n",
              "       [ 60,  52],\n",
              "       [ 60,  47],\n",
              "       [ 60,  50],\n",
              "       [ 61,  42],\n",
              "       [ 61,  49],\n",
              "       [ 62,  41],\n",
              "       [ 62,  48],\n",
              "       [ 62,  59],\n",
              "       [ 62,  55],\n",
              "       [ 62,  56],\n",
              "       [ 62,  42],\n",
              "       [ 63,  50],\n",
              "       [ 63,  46],\n",
              "       [ 63,  43],\n",
              "       [ 63,  48],\n",
              "       [ 63,  52],\n",
              "       [ 63,  54],\n",
              "       [ 64,  42],\n",
              "       [ 64,  46],\n",
              "       [ 65,  48],\n",
              "       [ 65,  50],\n",
              "       [ 65,  43],\n",
              "       [ 65,  59],\n",
              "       [ 67,  43],\n",
              "       [ 67,  57],\n",
              "       [ 67,  56],\n",
              "       [ 67,  40],\n",
              "       [ 69,  58],\n",
              "       [ 69,  91],\n",
              "       [ 70,  29],\n",
              "       [ 70,  77],\n",
              "       [ 71,  35],\n",
              "       [ 71,  95],\n",
              "       [ 71,  11],\n",
              "       [ 71,  75],\n",
              "       [ 71,   9],\n",
              "       [ 71,  75],\n",
              "       [ 72,  34],\n",
              "       [ 72,  71],\n",
              "       [ 73,   5],\n",
              "       [ 73,  88],\n",
              "       [ 73,   7],\n",
              "       [ 73,  73],\n",
              "       [ 74,  10],\n",
              "       [ 74,  72],\n",
              "       [ 75,   5],\n",
              "       [ 75,  93],\n",
              "       [ 76,  40],\n",
              "       [ 76,  87],\n",
              "       [ 77,  12],\n",
              "       [ 77,  97],\n",
              "       [ 77,  36],\n",
              "       [ 77,  74],\n",
              "       [ 78,  22],\n",
              "       [ 78,  90],\n",
              "       [ 78,  17],\n",
              "       [ 78,  88],\n",
              "       [ 78,  20],\n",
              "       [ 78,  76],\n",
              "       [ 78,  16],\n",
              "       [ 78,  89],\n",
              "       [ 78,   1],\n",
              "       [ 78,  78],\n",
              "       [ 78,   1],\n",
              "       [ 78,  73],\n",
              "       [ 79,  35],\n",
              "       [ 79,  83],\n",
              "       [ 81,   5],\n",
              "       [ 81,  93],\n",
              "       [ 85,  26],\n",
              "       [ 85,  75],\n",
              "       [ 86,  20],\n",
              "       [ 86,  95],\n",
              "       [ 87,  27],\n",
              "       [ 87,  63],\n",
              "       [ 87,  13],\n",
              "       [ 87,  75],\n",
              "       [ 87,  10],\n",
              "       [ 87,  92],\n",
              "       [ 88,  13],\n",
              "       [ 88,  86],\n",
              "       [ 88,  15],\n",
              "       [ 88,  69],\n",
              "       [ 93,  14],\n",
              "       [ 93,  90],\n",
              "       [ 97,  32],\n",
              "       [ 97,  86],\n",
              "       [ 98,  15],\n",
              "       [ 98,  88],\n",
              "       [ 99,  39],\n",
              "       [ 99,  97],\n",
              "       [101,  24],\n",
              "       [101,  68],\n",
              "       [103,  17],\n",
              "       [103,  85],\n",
              "       [103,  23],\n",
              "       [103,  69],\n",
              "       [113,   8],\n",
              "       [113,  91],\n",
              "       [120,  16],\n",
              "       [120,  79],\n",
              "       [126,  28],\n",
              "       [126,  74],\n",
              "       [137,  18],\n",
              "       [137,  83]], dtype=int64)"
            ]
          },
          "execution_count": 5,
          "metadata": {},
          "output_type": "execute_result"
        }
      ],
      "source": [
        "# Select only income and Spending score columns\n",
        "# M-1: select by using column names\n",
        "# M-2: select by usong iloc\n",
        "# M-3 : by droping unwanted columns\n",
        "X=data.iloc[:,[3,4]].values\n",
        "X"
      ]
    },
    {
      "cell_type": "code",
      "execution_count": null,
      "id": "30d31517-b4b5-49c0-ae23-3f6ea7837df4",
      "metadata": {
        "id": "30d31517-b4b5-49c0-ae23-3f6ea7837df4"
      },
      "outputs": [],
      "source": []
    },
    {
      "cell_type": "markdown",
      "id": "379a2dac-767d-49eb-8876-197b5e139e13",
      "metadata": {
        "id": "379a2dac-767d-49eb-8876-197b5e139e13"
      },
      "source": [
        "**Scatter plots**"
      ]
    },
    {
      "cell_type": "code",
      "execution_count": null,
      "id": "897fdf37",
      "metadata": {
        "id": "897fdf37",
        "outputId": "094fee5a-f086-4fe9-b2a0-d695b53b2cde"
      },
      "outputs": [
        {
          "data": {
            "text/plain": [
              "Index(['CustomerID', 'Genre', 'Age', 'Annual Income (k$)',\n",
              "       'Spending Score (1-100)'],\n",
              "      dtype='object')"
            ]
          },
          "execution_count": 6,
          "metadata": {},
          "output_type": "execute_result"
        }
      ],
      "source": [
        "data.columns"
      ]
    },
    {
      "cell_type": "code",
      "execution_count": null,
      "id": "af65a0f2",
      "metadata": {
        "id": "af65a0f2",
        "outputId": "6ba1e15d-eb57-4c74-8e93-16b05b976f59"
      },
      "outputs": [
        {
          "data": {
            "image/png": "[encoded data removed]",
            "text/plain": [
              "<Figure size 640x480 with 1 Axes>"
            ]
          },
          "metadata": {},
          "output_type": "display_data"
        }
      ],
      "source": [
        "plt.scatter(data['Annual Income (k$)'],data['Spending Score (1-100)'])\n",
        "plt.show()"
      ]
    },
    {
      "cell_type": "markdown",
      "id": "f3286688",
      "metadata": {
        "id": "f3286688"
      },
      "source": [
        "$K-Means$"
      ]
    },
    {
      "cell_type": "markdown",
      "id": "bcf7f724-0fd8-423e-b0ed-6b9c99d380f7",
      "metadata": {
        "id": "bcf7f724-0fd8-423e-b0ed-6b9c99d380f7"
      },
      "source": [
        "**WCSS**\n",
        "\n",
        "- From above scatter plots we observered there might be 5 optimal clusters can be available\n",
        "\n",
        "- in order to get optimal cluster we will use **elbow method**\n",
        "\n",
        "- elbow method is a graph between cluster vs WCSS\n",
        "\n",
        "- so first we will calculate wcss for one cluster i.e.k=1\n",
        "\n",
        "- then we repeat the process for multiple clutsers\n",
        "\n",
        "- then we plot the graph"
      ]
    },
    {
      "cell_type": "code",
      "execution_count": null,
      "id": "01b1bd26",
      "metadata": {
        "id": "01b1bd26"
      },
      "outputs": [],
      "source": [
        "# We need to decide the number of clusters\n",
        "# Elbow method\n",
        "# Within cluster sum of squares(wcss)\n",
        "# we randomly gives 10 clusters, for each cluster will calculate within sum of squares"
      ]
    },
    {
      "cell_type": "markdown",
      "id": "911ae8d2-3a6f-468d-91ae-37e4aa4b5e98",
      "metadata": {
        "id": "911ae8d2-3a6f-468d-91ae-37e4aa4b5e98"
      },
      "source": [
        "<img id=\"dimg_305\" src=\"data:image/png;base64,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\" class=\"YQ4gaf\" height=\"192\" style=\"object-position:64% 0%\" width=\"262\" alt=\"K-means -Elbow method (clustering)\" data-csiid=\"16\" data-atf=\"1\">"
      ]
    },
    {
      "cell_type": "markdown",
      "id": "69f04b7e",
      "metadata": {
        "id": "69f04b7e"
      },
      "source": [
        "**First we Check for one cluster to understand Within sum of squares concept**"
      ]
    },
    {
      "cell_type": "code",
      "execution_count": null,
      "id": "65adaa26",
      "metadata": {
        "id": "65adaa26"
      },
      "outputs": [],
      "source": [
        "from sklearn.cluster import KMeans"
      ]
    },
    {
      "cell_type": "code",
      "execution_count": null,
      "id": "c86f8e1f",
      "metadata": {
        "id": "c86f8e1f"
      },
      "outputs": [],
      "source": [
        "### Just applying One cluster\n",
        "### Base model"
      ]
    },
    {
      "cell_type": "code",
      "execution_count": null,
      "id": "0f4b5601",
      "metadata": {
        "id": "0f4b5601",
        "outputId": "cfa5b7b7-295c-4a5c-f2ef-2120c4650f66"
      },
      "outputs": [
        {
          "data": {
            "text/html": [
              "<style>#sk-container-id-1 {color: black;background-color: white;}#sk-container-id-1 pre{padding: 0;}#sk-container-id-1 div.sk-toggleable {background-color: white;}#sk-container-id-1 label.sk-toggleable__label {cursor: pointer;display: block;width: 100%;margin-bottom: 0;padding: 0.3em;box-sizing: border-box;text-align: center;}#sk-container-id-1 label.sk-toggleable__label-arrow:before {content: \"▸\";float: left;margin-right: 0.25em;color: #696969;}#sk-container-id-1 label.sk-toggleable__label-arrow:hover:before {color: black;}#sk-container-id-1 div.sk-estimator:hover label.sk-toggleable__label-arrow:before {color: black;}#sk-container-id-1 div.sk-toggleable__content {max-height: 0;max-width: 0;overflow: hidden;text-align: left;background-color: #f0f8ff;}#sk-container-id-1 div.sk-toggleable__content pre {margin: 0.2em;color: black;border-radius: 0.25em;background-color: #f0f8ff;}#sk-container-id-1 input.sk-toggleable__control:checked~div.sk-toggleable__content {max-height: 200px;max-width: 100%;overflow: auto;}#sk-container-id-1 input.sk-toggleable__control:checked~label.sk-toggleable__label-arrow:before {content: \"▾\";}#sk-container-id-1 div.sk-estimator input.sk-toggleable__control:checked~label.sk-toggleable__label {background-color: #d4ebff;}#sk-container-id-1 div.sk-label input.sk-toggleable__control:checked~label.sk-toggleable__label {background-color: #d4ebff;}#sk-container-id-1 input.sk-hidden--visually {border: 0;clip: rect(1px 1px 1px 1px);clip: rect(1px, 1px, 1px, 1px);height: 1px;margin: -1px;overflow: hidden;padding: 0;position: absolute;width: 1px;}#sk-container-id-1 div.sk-estimator {font-family: monospace;background-color: #f0f8ff;border: 1px dotted black;border-radius: 0.25em;box-sizing: border-box;margin-bottom: 0.5em;}#sk-container-id-1 div.sk-estimator:hover {background-color: #d4ebff;}#sk-container-id-1 div.sk-parallel-item::after {content: \"\";width: 100%;border-bottom: 1px solid gray;flex-grow: 1;}#sk-container-id-1 div.sk-label:hover label.sk-toggleable__label {background-color: #d4ebff;}#sk-container-id-1 div.sk-serial::before {content: \"\";position: absolute;border-left: 1px solid gray;box-sizing: border-box;top: 0;bottom: 0;left: 50%;z-index: 0;}#sk-container-id-1 div.sk-serial {display: flex;flex-direction: column;align-items: center;background-color: white;padding-right: 0.2em;padding-left: 0.2em;position: relative;}#sk-container-id-1 div.sk-item {position: relative;z-index: 1;}#sk-container-id-1 div.sk-parallel {display: flex;align-items: stretch;justify-content: center;background-color: white;position: relative;}#sk-container-id-1 div.sk-item::before, #sk-container-id-1 div.sk-parallel-item::before {content: \"\";position: absolute;border-left: 1px solid gray;box-sizing: border-box;top: 0;bottom: 0;left: 50%;z-index: -1;}#sk-container-id-1 div.sk-parallel-item {display: flex;flex-direction: column;z-index: 1;position: relative;background-color: white;}#sk-container-id-1 div.sk-parallel-item:first-child::after {align-self: flex-end;width: 50%;}#sk-container-id-1 div.sk-parallel-item:last-child::after {align-self: flex-start;width: 50%;}#sk-container-id-1 div.sk-parallel-item:only-child::after {width: 0;}#sk-container-id-1 div.sk-dashed-wrapped {border: 1px dashed gray;margin: 0 0.4em 0.5em 0.4em;box-sizing: border-box;padding-bottom: 0.4em;background-color: white;}#sk-container-id-1 div.sk-label label {font-family: monospace;font-weight: bold;display: inline-block;line-height: 1.2em;}#sk-container-id-1 div.sk-label-container {text-align: center;}#sk-container-id-1 div.sk-container {/* jupyter's `normalize.less` sets `[hidden] { display: none; }` but bootstrap.min.css set `[hidden] { display: none !important; }` so we also need the `!important` here to be able to override the default hidden behavior on the sphinx rendered scikit-learn.org. See: https://github.com/scikit-learn/scikit-learn/issues/21755 */display: inline-block !important;position: relative;}#sk-container-id-1 div.sk-text-repr-fallback {display: none;}</style><div id=\"sk-container-id-1\" class=\"sk-top-container\"><div class=\"sk-text-repr-fallback\"><pre>KMeans(n_clusters=1, random_state=1234)</pre><b>In a Jupyter environment, please rerun this cell to show the HTML representation or trust the notebook. <br />On GitHub, the HTML representation is unable to render, please try loading this page with nbviewer.org.</b></div><div class=\"sk-container\" hidden><div class=\"sk-item\"><div class=\"sk-estimator sk-toggleable\"><input class=\"sk-toggleable__control sk-hidden--visually\" id=\"sk-estimator-id-1\" type=\"checkbox\" checked><label for=\"sk-estimator-id-1\" class=\"sk-toggleable__label sk-toggleable__label-arrow\">KMeans</label><div class=\"sk-toggleable__content\"><pre>KMeans(n_clusters=1, random_state=1234)</pre></div></div></div></div></div>"
            ],
            "text/plain": [
              "KMeans(n_clusters=1, random_state=1234)"
            ]
          },
          "execution_count": 10,
          "metadata": {},
          "output_type": "execute_result"
        }
      ],
      "source": [
        "kmeans_1=KMeans(n_clusters=1,max_iter=300,random_state=1234)\n",
        "kmeans_1\n",
        "\n",
        "# n_clusters= no of clusters to choose\n",
        "# max_iter= the distance calculations\n",
        "# random state= picking a random observations"
      ]
    },
    {
      "cell_type": "code",
      "execution_count": null,
      "id": "797a9a21-17f6-4873-9b7f-87926d71cf9c",
      "metadata": {
        "id": "797a9a21-17f6-4873-9b7f-87926d71cf9c"
      },
      "outputs": [],
      "source": [
        "# select only Annual income and spending score\n",
        "X=data.iloc[:,[3,4]]"
      ]
    },
    {
      "cell_type": "code",
      "execution_count": null,
      "id": "87937887",
      "metadata": {
        "id": "87937887",
        "outputId": "f1c82f39-1d06-41e9-c3c5-fc1dfa230c95"
      },
      "outputs": [
        {
          "data": {
            "text/html": [
              "<style>#sk-container-id-2 {color: black;background-color: white;}#sk-container-id-2 pre{padding: 0;}#sk-container-id-2 div.sk-toggleable {background-color: white;}#sk-container-id-2 label.sk-toggleable__label {cursor: pointer;display: block;width: 100%;margin-bottom: 0;padding: 0.3em;box-sizing: border-box;text-align: center;}#sk-container-id-2 label.sk-toggleable__label-arrow:before {content: \"▸\";float: left;margin-right: 0.25em;color: #696969;}#sk-container-id-2 label.sk-toggleable__label-arrow:hover:before {color: black;}#sk-container-id-2 div.sk-estimator:hover label.sk-toggleable__label-arrow:before {color: black;}#sk-container-id-2 div.sk-toggleable__content {max-height: 0;max-width: 0;overflow: hidden;text-align: left;background-color: #f0f8ff;}#sk-container-id-2 div.sk-toggleable__content pre {margin: 0.2em;color: black;border-radius: 0.25em;background-color: #f0f8ff;}#sk-container-id-2 input.sk-toggleable__control:checked~div.sk-toggleable__content {max-height: 200px;max-width: 100%;overflow: auto;}#sk-container-id-2 input.sk-toggleable__control:checked~label.sk-toggleable__label-arrow:before {content: \"▾\";}#sk-container-id-2 div.sk-estimator input.sk-toggleable__control:checked~label.sk-toggleable__label {background-color: #d4ebff;}#sk-container-id-2 div.sk-label input.sk-toggleable__control:checked~label.sk-toggleable__label {background-color: #d4ebff;}#sk-container-id-2 input.sk-hidden--visually {border: 0;clip: rect(1px 1px 1px 1px);clip: rect(1px, 1px, 1px, 1px);height: 1px;margin: -1px;overflow: hidden;padding: 0;position: absolute;width: 1px;}#sk-container-id-2 div.sk-estimator {font-family: monospace;background-color: #f0f8ff;border: 1px dotted black;border-radius: 0.25em;box-sizing: border-box;margin-bottom: 0.5em;}#sk-container-id-2 div.sk-estimator:hover {background-color: #d4ebff;}#sk-container-id-2 div.sk-parallel-item::after {content: \"\";width: 100%;border-bottom: 1px solid gray;flex-grow: 1;}#sk-container-id-2 div.sk-label:hover label.sk-toggleable__label {background-color: #d4ebff;}#sk-container-id-2 div.sk-serial::before {content: \"\";position: absolute;border-left: 1px solid gray;box-sizing: border-box;top: 0;bottom: 0;left: 50%;z-index: 0;}#sk-container-id-2 div.sk-serial {display: flex;flex-direction: column;align-items: center;background-color: white;padding-right: 0.2em;padding-left: 0.2em;position: relative;}#sk-container-id-2 div.sk-item {position: relative;z-index: 1;}#sk-container-id-2 div.sk-parallel {display: flex;align-items: stretch;justify-content: center;background-color: white;position: relative;}#sk-container-id-2 div.sk-item::before, #sk-container-id-2 div.sk-parallel-item::before {content: \"\";position: absolute;border-left: 1px solid gray;box-sizing: border-box;top: 0;bottom: 0;left: 50%;z-index: -1;}#sk-container-id-2 div.sk-parallel-item {display: flex;flex-direction: column;z-index: 1;position: relative;background-color: white;}#sk-container-id-2 div.sk-parallel-item:first-child::after {align-self: flex-end;width: 50%;}#sk-container-id-2 div.sk-parallel-item:last-child::after {align-self: flex-start;width: 50%;}#sk-container-id-2 div.sk-parallel-item:only-child::after {width: 0;}#sk-container-id-2 div.sk-dashed-wrapped {border: 1px dashed gray;margin: 0 0.4em 0.5em 0.4em;box-sizing: border-box;padding-bottom: 0.4em;background-color: white;}#sk-container-id-2 div.sk-label label {font-family: monospace;font-weight: bold;display: inline-block;line-height: 1.2em;}#sk-container-id-2 div.sk-label-container {text-align: center;}#sk-container-id-2 div.sk-container {/* jupyter's `normalize.less` sets `[hidden] { display: none; }` but bootstrap.min.css set `[hidden] { display: none !important; }` so we also need the `!important` here to be able to override the default hidden behavior on the sphinx rendered scikit-learn.org. See: https://github.com/scikit-learn/scikit-learn/issues/21755 */display: inline-block !important;position: relative;}#sk-container-id-2 div.sk-text-repr-fallback {display: none;}</style><div id=\"sk-container-id-2\" class=\"sk-top-container\"><div class=\"sk-text-repr-fallback\"><pre>KMeans(n_clusters=1, random_state=1234)</pre><b>In a Jupyter environment, please rerun this cell to show the HTML representation or trust the notebook. <br />On GitHub, the HTML representation is unable to render, please try loading this page with nbviewer.org.</b></div><div class=\"sk-container\" hidden><div class=\"sk-item\"><div class=\"sk-estimator sk-toggleable\"><input class=\"sk-toggleable__control sk-hidden--visually\" id=\"sk-estimator-id-2\" type=\"checkbox\" checked><label for=\"sk-estimator-id-2\" class=\"sk-toggleable__label sk-toggleable__label-arrow\">KMeans</label><div class=\"sk-toggleable__content\"><pre>KMeans(n_clusters=1, random_state=1234)</pre></div></div></div></div></div>"
            ],
            "text/plain": [
              "KMeans(n_clusters=1, random_state=1234)"
            ]
          },
          "execution_count": 12,
          "metadata": {},
          "output_type": "execute_result"
        }
      ],
      "source": [
        "kmeans_1.fit(X)"
      ]
    },
    {
      "cell_type": "code",
      "execution_count": null,
      "id": "f0c03e06-091f-40b9-829d-eb3dbc7d494a",
      "metadata": {
        "id": "f0c03e06-091f-40b9-829d-eb3dbc7d494a",
        "outputId": "9a792652-3ef1-4057-ec1e-d8c7cfd054d1"
      },
      "outputs": [
        {
          "data": {
            "text/html": [
              "<style>#sk-container-id-3 {color: black;background-color: white;}#sk-container-id-3 pre{padding: 0;}#sk-container-id-3 div.sk-toggleable {background-color: white;}#sk-container-id-3 label.sk-toggleable__label {cursor: pointer;display: block;width: 100%;margin-bottom: 0;padding: 0.3em;box-sizing: border-box;text-align: center;}#sk-container-id-3 label.sk-toggleable__label-arrow:before {content: \"▸\";float: left;margin-right: 0.25em;color: #696969;}#sk-container-id-3 label.sk-toggleable__label-arrow:hover:before {color: black;}#sk-container-id-3 div.sk-estimator:hover label.sk-toggleable__label-arrow:before {color: black;}#sk-container-id-3 div.sk-toggleable__content {max-height: 0;max-width: 0;overflow: hidden;text-align: left;background-color: #f0f8ff;}#sk-container-id-3 div.sk-toggleable__content pre {margin: 0.2em;color: black;border-radius: 0.25em;background-color: #f0f8ff;}#sk-container-id-3 input.sk-toggleable__control:checked~div.sk-toggleable__content {max-height: 200px;max-width: 100%;overflow: auto;}#sk-container-id-3 input.sk-toggleable__control:checked~label.sk-toggleable__label-arrow:before {content: \"▾\";}#sk-container-id-3 div.sk-estimator input.sk-toggleable__control:checked~label.sk-toggleable__label {background-color: #d4ebff;}#sk-container-id-3 div.sk-label input.sk-toggleable__control:checked~label.sk-toggleable__label {background-color: #d4ebff;}#sk-container-id-3 input.sk-hidden--visually {border: 0;clip: rect(1px 1px 1px 1px);clip: rect(1px, 1px, 1px, 1px);height: 1px;margin: -1px;overflow: hidden;padding: 0;position: absolute;width: 1px;}#sk-container-id-3 div.sk-estimator {font-family: monospace;background-color: #f0f8ff;border: 1px dotted black;border-radius: 0.25em;box-sizing: border-box;margin-bottom: 0.5em;}#sk-container-id-3 div.sk-estimator:hover {background-color: #d4ebff;}#sk-container-id-3 div.sk-parallel-item::after {content: \"\";width: 100%;border-bottom: 1px solid gray;flex-grow: 1;}#sk-container-id-3 div.sk-label:hover label.sk-toggleable__label {background-color: #d4ebff;}#sk-container-id-3 div.sk-serial::before {content: \"\";position: absolute;border-left: 1px solid gray;box-sizing: border-box;top: 0;bottom: 0;left: 50%;z-index: 0;}#sk-container-id-3 div.sk-serial {display: flex;flex-direction: column;align-items: center;background-color: white;padding-right: 0.2em;padding-left: 0.2em;position: relative;}#sk-container-id-3 div.sk-item {position: relative;z-index: 1;}#sk-container-id-3 div.sk-parallel {display: flex;align-items: stretch;justify-content: center;background-color: white;position: relative;}#sk-container-id-3 div.sk-item::before, #sk-container-id-3 div.sk-parallel-item::before {content: \"\";position: absolute;border-left: 1px solid gray;box-sizing: border-box;top: 0;bottom: 0;left: 50%;z-index: -1;}#sk-container-id-3 div.sk-parallel-item {display: flex;flex-direction: column;z-index: 1;position: relative;background-color: white;}#sk-container-id-3 div.sk-parallel-item:first-child::after {align-self: flex-end;width: 50%;}#sk-container-id-3 div.sk-parallel-item:last-child::after {align-self: flex-start;width: 50%;}#sk-container-id-3 div.sk-parallel-item:only-child::after {width: 0;}#sk-container-id-3 div.sk-dashed-wrapped {border: 1px dashed gray;margin: 0 0.4em 0.5em 0.4em;box-sizing: border-box;padding-bottom: 0.4em;background-color: white;}#sk-container-id-3 div.sk-label label {font-family: monospace;font-weight: bold;display: inline-block;line-height: 1.2em;}#sk-container-id-3 div.sk-label-container {text-align: center;}#sk-container-id-3 div.sk-container {/* jupyter's `normalize.less` sets `[hidden] { display: none; }` but bootstrap.min.css set `[hidden] { display: none !important; }` so we also need the `!important` here to be able to override the default hidden behavior on the sphinx rendered scikit-learn.org. See: https://github.com/scikit-learn/scikit-learn/issues/21755 */display: inline-block !important;position: relative;}#sk-container-id-3 div.sk-text-repr-fallback {display: none;}</style><div id=\"sk-container-id-3\" class=\"sk-top-container\"><div class=\"sk-text-repr-fallback\"><pre>KMeans(n_clusters=1, random_state=1234)</pre><b>In a Jupyter environment, please rerun this cell to show the HTML representation or trust the notebook. <br />On GitHub, the HTML representation is unable to render, please try loading this page with nbviewer.org.</b></div><div class=\"sk-container\" hidden><div class=\"sk-item\"><div class=\"sk-estimator sk-toggleable\"><input class=\"sk-toggleable__control sk-hidden--visually\" id=\"sk-estimator-id-3\" type=\"checkbox\" checked><label for=\"sk-estimator-id-3\" class=\"sk-toggleable__label sk-toggleable__label-arrow\">KMeans</label><div class=\"sk-toggleable__content\"><pre>KMeans(n_clusters=1, random_state=1234)</pre></div></div></div></div></div>"
            ],
            "text/plain": [
              "KMeans(n_clusters=1, random_state=1234)"
            ]
          },
          "execution_count": 13,
          "metadata": {},
          "output_type": "execute_result"
        }
      ],
      "source": [
        "from sklearn.cluster import KMeans\n",
        "kmeans_1=KMeans(n_clusters=1,max_iter=300,random_state=1234)\n",
        "kmeans_1.fit(X)\n",
        "# we are not interested which data point\n",
        "# belongs tow which cluster\n",
        "# bcz here only one cluster"
      ]
    },
    {
      "cell_type": "markdown",
      "id": "6772d7be",
      "metadata": {
        "id": "6772d7be"
      },
      "source": [
        "$Intertia$:\n",
        "\n",
        "- measures how well a dataset was clustered by K-Means.\n",
        "\n",
        "- It is calculated by measuring the distance between each data point and its centroid, squaring this distance,\n",
        "\n",
        "- and summing these squares across one cluster\n",
        "\n",
        "- Interita also called as **Within Cluster sum of squares(WCSS)**\n",
        "\n",
        "- Choose the clusters find the distance between each data point to the cluster centroid\n",
        "\n",
        "- Add all the distances is nothing but WCSS"
      ]
    },
    {
      "cell_type": "code",
      "execution_count": null,
      "id": "c08bad83",
      "metadata": {
        "id": "c08bad83",
        "outputId": "230ee566-5977-4a05-f022-cc81c0c68640"
      },
      "outputs": [
        {
          "data": {
            "text/plain": [
              "269981.28"
            ]
          },
          "execution_count": 15,
          "metadata": {},
          "output_type": "execute_result"
        }
      ],
      "source": [
        "kmeans_1.inertia_  # Variance"
      ]
    },
    {
      "cell_type": "code",
      "execution_count": null,
      "id": "5026296e",
      "metadata": {
        "id": "5026296e",
        "outputId": "15f0b52f-29fd-49c7-bb67-3f9561cd8e32"
      },
      "outputs": [
        {
          "data": {
            "text/plain": [
              "array([[60.56, 50.2 ]])"
            ]
          },
          "execution_count": 16,
          "metadata": {},
          "output_type": "execute_result"
        }
      ],
      "source": [
        "means=kmeans_1.cluster_centers_\n",
        "means"
      ]
    },
    {
      "cell_type": "code",
      "execution_count": null,
      "id": "4c1fc81d",
      "metadata": {
        "id": "4c1fc81d",
        "outputId": "e23c913b-de4a-47c4-dd94-2cf54c7db505"
      },
      "outputs": [
        {
          "data": {
            "text/plain": [
              "(60.56, 50.2)"
            ]
          },
          "execution_count": 17,
          "metadata": {},
          "output_type": "execute_result"
        }
      ],
      "source": [
        "data['Annual Income (k$)'].mean(),data['Spending Score (1-100)'].mean()"
      ]
    },
    {
      "cell_type": "code",
      "execution_count": null,
      "id": "3cab7234-da3b-496a-b471-16d4cc33ad6f",
      "metadata": {
        "id": "3cab7234-da3b-496a-b471-16d4cc33ad6f",
        "outputId": "33d40bf9-09b6-46ba-e98e-f9ed970fe4c5"
      },
      "outputs": [
        {
          "data": {
            "text/plain": [
              "array([[ 15,  39],\n",
              "       [ 15,  81],\n",
              "       [ 16,   6],\n",
              "       [ 16,  77],\n",
              "       [ 17,  40],\n",
              "       [ 17,  76],\n",
              "       [ 18,   6],\n",
              "       [ 18,  94],\n",
              "       [ 19,   3],\n",
              "       [ 19,  72],\n",
              "       [ 19,  14],\n",
              "       [ 19,  99],\n",
              "       [ 20,  15],\n",
              "       [ 20,  77],\n",
              "       [ 20,  13],\n",
              "       [ 20,  79],\n",
              "       [ 21,  35],\n",
              "       [ 21,  66],\n",
              "       [ 23,  29],\n",
              "       [ 23,  98],\n",
              "       [ 24,  35],\n",
              "       [ 24,  73],\n",
              "       [ 25,   5],\n",
              "       [ 25,  73],\n",
              "       [ 28,  14],\n",
              "       [ 28,  82],\n",
              "       [ 28,  32],\n",
              "       [ 28,  61],\n",
              "       [ 29,  31],\n",
              "       [ 29,  87],\n",
              "       [ 30,   4],\n",
              "       [ 30,  73],\n",
              "       [ 33,   4],\n",
              "       [ 33,  92],\n",
              "       [ 33,  14],\n",
              "       [ 33,  81],\n",
              "       [ 34,  17],\n",
              "       [ 34,  73],\n",
              "       [ 37,  26],\n",
              "       [ 37,  75],\n",
              "       [ 38,  35],\n",
              "       [ 38,  92],\n",
              "       [ 39,  36],\n",
              "       [ 39,  61],\n",
              "       [ 39,  28],\n",
              "       [ 39,  65],\n",
              "       [ 40,  55],\n",
              "       [ 40,  47],\n",
              "       [ 40,  42],\n",
              "       [ 40,  42],\n",
              "       [ 42,  52],\n",
              "       [ 42,  60],\n",
              "       [ 43,  54],\n",
              "       [ 43,  60],\n",
              "       [ 43,  45],\n",
              "       [ 43,  41],\n",
              "       [ 44,  50],\n",
              "       [ 44,  46],\n",
              "       [ 46,  51],\n",
              "       [ 46,  46],\n",
              "       [ 46,  56],\n",
              "       [ 46,  55],\n",
              "       [ 47,  52],\n",
              "       [ 47,  59],\n",
              "       [ 48,  51],\n",
              "       [ 48,  59],\n",
              "       [ 48,  50],\n",
              "       [ 48,  48],\n",
              "       [ 48,  59],\n",
              "       [ 48,  47],\n",
              "       [ 49,  55],\n",
              "       [ 49,  42],\n",
              "       [ 50,  49],\n",
              "       [ 50,  56],\n",
              "       [ 54,  47],\n",
              "       [ 54,  54],\n",
              "       [ 54,  53],\n",
              "       [ 54,  48],\n",
              "       [ 54,  52],\n",
              "       [ 54,  42],\n",
              "       [ 54,  51],\n",
              "       [ 54,  55],\n",
              "       [ 54,  41],\n",
              "       [ 54,  44],\n",
              "       [ 54,  57],\n",
              "       [ 54,  46],\n",
              "       [ 57,  58],\n",
              "       [ 57,  55],\n",
              "       [ 58,  60],\n",
              "       [ 58,  46],\n",
              "       [ 59,  55],\n",
              "       [ 59,  41],\n",
              "       [ 60,  49],\n",
              "       [ 60,  40],\n",
              "       [ 60,  42],\n",
              "       [ 60,  52],\n",
              "       [ 60,  47],\n",
              "       [ 60,  50],\n",
              "       [ 61,  42],\n",
              "       [ 61,  49],\n",
              "       [ 62,  41],\n",
              "       [ 62,  48],\n",
              "       [ 62,  59],\n",
              "       [ 62,  55],\n",
              "       [ 62,  56],\n",
              "       [ 62,  42],\n",
              "       [ 63,  50],\n",
              "       [ 63,  46],\n",
              "       [ 63,  43],\n",
              "       [ 63,  48],\n",
              "       [ 63,  52],\n",
              "       [ 63,  54],\n",
              "       [ 64,  42],\n",
              "       [ 64,  46],\n",
              "       [ 65,  48],\n",
              "       [ 65,  50],\n",
              "       [ 65,  43],\n",
              "       [ 65,  59],\n",
              "       [ 67,  43],\n",
              "       [ 67,  57],\n",
              "       [ 67,  56],\n",
              "       [ 67,  40],\n",
              "       [ 69,  58],\n",
              "       [ 69,  91],\n",
              "       [ 70,  29],\n",
              "       [ 70,  77],\n",
              "       [ 71,  35],\n",
              "       [ 71,  95],\n",
              "       [ 71,  11],\n",
              "       [ 71,  75],\n",
              "       [ 71,   9],\n",
              "       [ 71,  75],\n",
              "       [ 72,  34],\n",
              "       [ 72,  71],\n",
              "       [ 73,   5],\n",
              "       [ 73,  88],\n",
              "       [ 73,   7],\n",
              "       [ 73,  73],\n",
              "       [ 74,  10],\n",
              "       [ 74,  72],\n",
              "       [ 75,   5],\n",
              "       [ 75,  93],\n",
              "       [ 76,  40],\n",
              "       [ 76,  87],\n",
              "       [ 77,  12],\n",
              "       [ 77,  97],\n",
              "       [ 77,  36],\n",
              "       [ 77,  74],\n",
              "       [ 78,  22],\n",
              "       [ 78,  90],\n",
              "       [ 78,  17],\n",
              "       [ 78,  88],\n",
              "       [ 78,  20],\n",
              "       [ 78,  76],\n",
              "       [ 78,  16],\n",
              "       [ 78,  89],\n",
              "       [ 78,   1],\n",
              "       [ 78,  78],\n",
              "       [ 78,   1],\n",
              "       [ 78,  73],\n",
              "       [ 79,  35],\n",
              "       [ 79,  83],\n",
              "       [ 81,   5],\n",
              "       [ 81,  93],\n",
              "       [ 85,  26],\n",
              "       [ 85,  75],\n",
              "       [ 86,  20],\n",
              "       [ 86,  95],\n",
              "       [ 87,  27],\n",
              "       [ 87,  63],\n",
              "       [ 87,  13],\n",
              "       [ 87,  75],\n",
              "       [ 87,  10],\n",
              "       [ 87,  92],\n",
              "       [ 88,  13],\n",
              "       [ 88,  86],\n",
              "       [ 88,  15],\n",
              "       [ 88,  69],\n",
              "       [ 93,  14],\n",
              "       [ 93,  90],\n",
              "       [ 97,  32],\n",
              "       [ 97,  86],\n",
              "       [ 98,  15],\n",
              "       [ 98,  88],\n",
              "       [ 99,  39],\n",
              "       [ 99,  97],\n",
              "       [101,  24],\n",
              "       [101,  68],\n",
              "       [103,  17],\n",
              "       [103,  85],\n",
              "       [103,  23],\n",
              "       [103,  69],\n",
              "       [113,   8],\n",
              "       [113,  91],\n",
              "       [120,  16],\n",
              "       [120,  79],\n",
              "       [126,  28],\n",
              "       [126,  74],\n",
              "       [137,  18],\n",
              "       [137,  83]], dtype=int64)"
            ]
          },
          "execution_count": 28,
          "metadata": {},
          "output_type": "execute_result"
        }
      ],
      "source": [
        "X.values"
      ]
    },
    {
      "cell_type": "code",
      "execution_count": null,
      "id": "2c8b7a9a-521d-470a-bc65-a476c3e8f3aa",
      "metadata": {
        "id": "2c8b7a9a-521d-470a-bc65-a476c3e8f3aa",
        "outputId": "cc4cdb0f-ee17-40c6-9d1a-20212acdb74d"
      },
      "outputs": [
        {
          "data": {
            "text/plain": [
              "269981.28"
            ]
          },
          "execution_count": 27,
          "metadata": {},
          "output_type": "execute_result"
        }
      ],
      "source": [
        "np.sum(np.square(X.values-means))"
      ]
    },
    {
      "cell_type": "code",
      "execution_count": null,
      "id": "068446e9-4b32-45ed-a828-adb309f4317a",
      "metadata": {
        "id": "068446e9-4b32-45ed-a828-adb309f4317a",
        "outputId": "36d81fca-0167-4b47-cbdc-e316d3485608"
      },
      "outputs": [
        {
          "name": "stdout",
          "output_type": "stream",
          "text": [
            "2075.7136\n",
            "125.44000000000007\n",
            "4151.4272\n",
            "[15 39]\n",
            "[[60.56 50.2 ]]\n",
            "2201.1536000000046\n"
          ]
        }
      ],
      "source": [
        "############ 1 point ####################\n",
        "print((15-60.56)**2)\n",
        "print((39-50.2)**2)\n",
        "print((15-60.56)**2+(15-60.56)**2)\n",
        "#####################################\n",
        "print(X.values[0])\n",
        "print(means)\n",
        "print(np.sum(np.square(X.values[0]-means)))\n"
      ]
    },
    {
      "cell_type": "code",
      "execution_count": null,
      "id": "6334bcd4-c7bd-4067-8ca4-18d96f3b6fdb",
      "metadata": {
        "id": "6334bcd4-c7bd-4067-8ca4-18d96f3b6fdb",
        "outputId": "2daa6abd-5e64-42cb-ea73-16c0dd714029"
      },
      "outputs": [
        {
          "data": {
            "text/plain": [
              "269981.28000000014"
            ]
          },
          "execution_count": 32,
          "metadata": {},
          "output_type": "execute_result"
        }
      ],
      "source": [
        "summ=0\n",
        "for i in X.values:\n",
        "    d=np.sum(np.square(i-means))\n",
        "    summ=summ+d\n",
        "summ\n",
        "\n",
        "#(15-60.56)^2+(39-50.2)^2"
      ]
    },
    {
      "cell_type": "markdown",
      "id": "58a6a8e0",
      "metadata": {
        "id": "58a6a8e0"
      },
      "source": [
        "**Try to identify optimal clusters using elbow method**"
      ]
    },
    {
      "cell_type": "code",
      "execution_count": null,
      "id": "a7277bd2",
      "metadata": {
        "id": "a7277bd2",
        "outputId": "93dbcbb1-7366-4c7b-f2eb-b04a9516836f"
      },
      "outputs": [
        {
          "data": {
            "text/plain": [
              "269981.28"
            ]
          },
          "execution_count": 19,
          "metadata": {},
          "output_type": "execute_result"
        }
      ],
      "source": [
        "# Read the data\n",
        "# X  take only two columns\n",
        "from sklearn.cluster import KMeans\n",
        "kmeans_1=KMeans(n_clusters=1,max_iter=300,random_state=1234)\n",
        "kmeans_1.fit(X)\n",
        "kmeans_1.inertia_"
      ]
    },
    {
      "cell_type": "code",
      "execution_count": null,
      "id": "7a7ff5a6",
      "metadata": {
        "id": "7a7ff5a6"
      },
      "outputs": [],
      "source": [
        "import warnings\n",
        "\n",
        "warnings.filterwarnings('ignore')\n",
        "\n",
        "wss=[]\n",
        "for i in range(1,21):\n",
        "    kmeans=KMeans(n_clusters=i,max_iter=300,random_state=1234)\n",
        "    kmeans.fit(X)\n",
        "    wss.append(round(kmeans.inertia_,2))"
      ]
    },
    {
      "cell_type": "code",
      "execution_count": null,
      "id": "24fa3048",
      "metadata": {
        "id": "24fa3048",
        "outputId": "71a28fea-8847-4f06-a71f-5697dbe5c19d"
      },
      "outputs": [
        {
          "data": {
            "text/plain": [
              "[269981.28,\n",
              " 181363.6,\n",
              " 106348.37,\n",
              " 73679.79,\n",
              " 44448.46,\n",
              " 37239.84,\n",
              " 31615.31,\n",
              " 25028.02,\n",
              " 21818.11,\n",
              " 20001.94,\n",
              " 17511.74,\n",
              " 16213.45,\n",
              " 14300.04,\n",
              " 12773.03,\n",
              " 12003.53,\n",
              " 11425.68,\n",
              " 10413.97,\n",
              " 9237.43,\n",
              " 8646.61,\n",
              " 8115.22]"
            ]
          },
          "execution_count": 30,
          "metadata": {},
          "output_type": "execute_result"
        }
      ],
      "source": [
        "wss\n",
        "\n",
        "# If you are increase more clusters\n",
        "# data points will be divided across the clusters\n",
        "#"
      ]
    },
    {
      "cell_type": "code",
      "execution_count": null,
      "id": "bde633a4-349d-4412-afc3-ff3fde101f09",
      "metadata": {
        "id": "bde633a4-349d-4412-afc3-ff3fde101f09",
        "outputId": "856eb0b9-2c4a-4a18-a502-938b8a7b426d"
      },
      "outputs": [
        {
          "data": {
            "text/html": [
              "<div>\n",
              "<style scoped>\n",
              "    .dataframe tbody tr th:only-of-type {\n",
              "        vertical-align: middle;\n",
              "    }\n",
              "\n",
              "    .dataframe tbody tr th {\n",
              "        vertical-align: top;\n",
              "    }\n",
              "\n",
              "    .dataframe thead th {\n",
              "        text-align: right;\n",
              "    }\n",
              "</style>\n",
              "<table border=\"1\" class=\"dataframe\">\n",
              "  <thead>\n",
              "    <tr style=\"text-align: right;\">\n",
              "      <th></th>\n",
              "      <th>0</th>\n",
              "      <th>1</th>\n",
              "    </tr>\n",
              "  </thead>\n",
              "  <tbody>\n",
              "    <tr>\n",
              "      <th>0</th>\n",
              "      <td>269981.28</td>\n",
              "      <td>1</td>\n",
              "    </tr>\n",
              "    <tr>\n",
              "      <th>1</th>\n",
              "      <td>181363.60</td>\n",
              "      <td>2</td>\n",
              "    </tr>\n",
              "    <tr>\n",
              "      <th>2</th>\n",
              "      <td>106348.37</td>\n",
              "      <td>3</td>\n",
              "    </tr>\n",
              "    <tr>\n",
              "      <th>3</th>\n",
              "      <td>73679.79</td>\n",
              "      <td>4</td>\n",
              "    </tr>\n",
              "    <tr>\n",
              "      <th>4</th>\n",
              "      <td>44448.46</td>\n",
              "      <td>5</td>\n",
              "    </tr>\n",
              "    <tr>\n",
              "      <th>5</th>\n",
              "      <td>37239.84</td>\n",
              "      <td>6</td>\n",
              "    </tr>\n",
              "    <tr>\n",
              "      <th>6</th>\n",
              "      <td>31615.31</td>\n",
              "      <td>7</td>\n",
              "    </tr>\n",
              "    <tr>\n",
              "      <th>7</th>\n",
              "      <td>25028.02</td>\n",
              "      <td>8</td>\n",
              "    </tr>\n",
              "    <tr>\n",
              "      <th>8</th>\n",
              "      <td>21818.11</td>\n",
              "      <td>9</td>\n",
              "    </tr>\n",
              "    <tr>\n",
              "      <th>9</th>\n",
              "      <td>20001.94</td>\n",
              "      <td>10</td>\n",
              "    </tr>\n",
              "    <tr>\n",
              "      <th>10</th>\n",
              "      <td>17511.74</td>\n",
              "      <td>11</td>\n",
              "    </tr>\n",
              "    <tr>\n",
              "      <th>11</th>\n",
              "      <td>16213.45</td>\n",
              "      <td>12</td>\n",
              "    </tr>\n",
              "    <tr>\n",
              "      <th>12</th>\n",
              "      <td>14300.04</td>\n",
              "      <td>13</td>\n",
              "    </tr>\n",
              "    <tr>\n",
              "      <th>13</th>\n",
              "      <td>12773.03</td>\n",
              "      <td>14</td>\n",
              "    </tr>\n",
              "    <tr>\n",
              "      <th>14</th>\n",
              "      <td>12003.53</td>\n",
              "      <td>15</td>\n",
              "    </tr>\n",
              "    <tr>\n",
              "      <th>15</th>\n",
              "      <td>11425.68</td>\n",
              "      <td>16</td>\n",
              "    </tr>\n",
              "    <tr>\n",
              "      <th>16</th>\n",
              "      <td>10413.97</td>\n",
              "      <td>17</td>\n",
              "    </tr>\n",
              "    <tr>\n",
              "      <th>17</th>\n",
              "      <td>9237.43</td>\n",
              "      <td>18</td>\n",
              "    </tr>\n",
              "    <tr>\n",
              "      <th>18</th>\n",
              "      <td>8646.61</td>\n",
              "      <td>19</td>\n",
              "    </tr>\n",
              "    <tr>\n",
              "      <th>19</th>\n",
              "      <td>8115.22</td>\n",
              "      <td>20</td>\n",
              "    </tr>\n",
              "  </tbody>\n",
              "</table>\n",
              "</div>"
            ],
            "text/plain": [
              "            0   1\n",
              "0   269981.28   1\n",
              "1   181363.60   2\n",
              "2   106348.37   3\n",
              "3    73679.79   4\n",
              "4    44448.46   5\n",
              "5    37239.84   6\n",
              "6    31615.31   7\n",
              "7    25028.02   8\n",
              "8    21818.11   9\n",
              "9    20001.94  10\n",
              "10   17511.74  11\n",
              "11   16213.45  12\n",
              "12   14300.04  13\n",
              "13   12773.03  14\n",
              "14   12003.53  15\n",
              "15   11425.68  16\n",
              "16   10413.97  17\n",
              "17    9237.43  18\n",
              "18    8646.61  19\n",
              "19    8115.22  20"
            ]
          },
          "execution_count": 24,
          "metadata": {},
          "output_type": "execute_result"
        }
      ],
      "source": [
        "pd.DataFrame(zip(wss,range(1,21)))"
      ]
    },
    {
      "cell_type": "code",
      "execution_count": null,
      "id": "4340cf0f",
      "metadata": {
        "id": "4340cf0f",
        "outputId": "f9120ffc-8850-45f1-f059-1e1de5d724a4"
      },
      "outputs": [
        {
          "data": {
            "image/png": "[encoded data removed]",
            "text/plain": [
              "<Figure size 640x480 with 1 Axes>"
            ]
          },
          "metadata": {},
          "output_type": "display_data"
        }
      ],
      "source": [
        "plt.scatter(range(1,21),wss)\n",
        "plt.plot(range(1,21),wss)\n",
        "plt.title(\"The Elbow method\")\n",
        "plt.xlabel(\"clusters\")\n",
        "plt.ylabel(\"WSS\")\n",
        "plt.show()"
      ]
    },
    {
      "cell_type": "markdown",
      "id": "86d7b172",
      "metadata": {
        "id": "86d7b172"
      },
      "source": [
        "**Using elbow method we decided number of clusters are 5**\n",
        "\n",
        "- now Read the KMeans method\n",
        "\n",
        "- give 5 clusters\n",
        "\n",
        "- fit is using to calculate inertia\n",
        "\n",
        "- once we got our optimal cluters, we need to get the cluster of each data point\n",
        "\n",
        "- for that we need to use **fit_predict**\n",
        "\n",
        "- predict the clusters on input X"
      ]
    },
    {
      "cell_type": "code",
      "execution_count": null,
      "id": "5b321689",
      "metadata": {
        "id": "5b321689",
        "outputId": "1ed38aa3-7cc0-4475-903a-9ac3a8859b2f"
      },
      "outputs": [
        {
          "data": {
            "text/plain": [
              "array([0, 3, 0, 3, 0, 3, 0, 3, 0, 3, 0, 3, 0, 3, 0, 3, 0, 3, 0, 3, 0, 3,\n",
              "       0, 3, 0, 3, 0, 3, 0, 3, 0, 3, 0, 3, 0, 3, 0, 3, 0, 3, 0, 3, 0, 4,\n",
              "       0, 3, 4, 4, 4, 4, 4, 4, 4, 4, 4, 4, 4, 4, 4, 4, 4, 4, 4, 4, 4, 4,\n",
              "       4, 4, 4, 4, 4, 4, 4, 4, 4, 4, 4, 4, 4, 4, 4, 4, 4, 4, 4, 4, 4, 4,\n",
              "       4, 4, 4, 4, 4, 4, 4, 4, 4, 4, 4, 4, 4, 4, 4, 4, 4, 4, 4, 4, 4, 4,\n",
              "       4, 4, 4, 4, 4, 4, 4, 4, 4, 4, 4, 4, 4, 1, 2, 1, 4, 1, 2, 1, 2, 1,\n",
              "       4, 1, 2, 1, 2, 1, 2, 1, 2, 1, 4, 1, 2, 1, 2, 1, 2, 1, 2, 1, 2, 1,\n",
              "       2, 1, 2, 1, 2, 1, 2, 1, 2, 1, 2, 1, 2, 1, 2, 1, 2, 1, 2, 1, 2, 1,\n",
              "       2, 1, 2, 1, 2, 1, 2, 1, 2, 1, 2, 1, 2, 1, 2, 1, 2, 1, 2, 1, 2, 1,\n",
              "       2, 1])"
            ]
          },
          "execution_count": 32,
          "metadata": {},
          "output_type": "execute_result"
        }
      ],
      "source": [
        "kmeans=KMeans(n_clusters=5,max_iter=300,random_state=1234)\n",
        "y_clusters=kmeans.fit_predict(X) # which data point belongs to which cluster\n",
        "y_clusters\n",
        "\n",
        "# Here 0= cluster_1\n",
        "# and 4 = cluster_5\n",
        "# Python index start with zero\n",
        "# y_clusters will give that\n",
        "# We have 200 data points in X\n",
        "# X[:3]\n",
        "# income    Spending score   Cluster\n",
        "# 15           39             0       c1\n",
        "# 15           81             3       c4\n",
        "# 16            6             0       c1\n"
      ]
    },
    {
      "cell_type": "code",
      "execution_count": null,
      "id": "b352804e",
      "metadata": {
        "id": "b352804e"
      },
      "outputs": [],
      "source": [
        "data['Cluster_group']=y_clusters\n"
      ]
    },
    {
      "cell_type": "code",
      "execution_count": null,
      "id": "24bbabf4",
      "metadata": {
        "id": "24bbabf4",
        "outputId": "43f4b05f-472a-4cc2-cf15-f960e0125671"
      },
      "outputs": [
        {
          "data": {
            "text/html": [
              "<div>\n",
              "<style scoped>\n",
              "    .dataframe tbody tr th:only-of-type {\n",
              "        vertical-align: middle;\n",
              "    }\n",
              "\n",
              "    .dataframe tbody tr th {\n",
              "        vertical-align: top;\n",
              "    }\n",
              "\n",
              "    .dataframe thead th {\n",
              "        text-align: right;\n",
              "    }\n",
              "</style>\n",
              "<table border=\"1\" class=\"dataframe\">\n",
              "  <thead>\n",
              "    <tr style=\"text-align: right;\">\n",
              "      <th></th>\n",
              "      <th>CustomerID</th>\n",
              "      <th>Genre</th>\n",
              "      <th>Age</th>\n",
              "      <th>Annual Income (k$)</th>\n",
              "      <th>Spending Score (1-100)</th>\n",
              "      <th>Cluster_group</th>\n",
              "    </tr>\n",
              "  </thead>\n",
              "  <tbody>\n",
              "    <tr>\n",
              "      <th>0</th>\n",
              "      <td>1</td>\n",
              "      <td>Male</td>\n",
              "      <td>19</td>\n",
              "      <td>15</td>\n",
              "      <td>39</td>\n",
              "      <td>0</td>\n",
              "    </tr>\n",
              "    <tr>\n",
              "      <th>1</th>\n",
              "      <td>2</td>\n",
              "      <td>Male</td>\n",
              "      <td>21</td>\n",
              "      <td>15</td>\n",
              "      <td>81</td>\n",
              "      <td>3</td>\n",
              "    </tr>\n",
              "    <tr>\n",
              "      <th>2</th>\n",
              "      <td>3</td>\n",
              "      <td>Female</td>\n",
              "      <td>20</td>\n",
              "      <td>16</td>\n",
              "      <td>6</td>\n",
              "      <td>0</td>\n",
              "    </tr>\n",
              "    <tr>\n",
              "      <th>3</th>\n",
              "      <td>4</td>\n",
              "      <td>Female</td>\n",
              "      <td>23</td>\n",
              "      <td>16</td>\n",
              "      <td>77</td>\n",
              "      <td>3</td>\n",
              "    </tr>\n",
              "    <tr>\n",
              "      <th>4</th>\n",
              "      <td>5</td>\n",
              "      <td>Female</td>\n",
              "      <td>31</td>\n",
              "      <td>17</td>\n",
              "      <td>40</td>\n",
              "      <td>0</td>\n",
              "    </tr>\n",
              "  </tbody>\n",
              "</table>\n",
              "</div>"
            ],
            "text/plain": [
              "   CustomerID   Genre  Age  Annual Income (k$)  Spending Score (1-100)  \\\n",
              "0           1    Male   19                  15                      39   \n",
              "1           2    Male   21                  15                      81   \n",
              "2           3  Female   20                  16                       6   \n",
              "3           4  Female   23                  16                      77   \n",
              "4           5  Female   31                  17                      40   \n",
              "\n",
              "   Cluster_group  \n",
              "0              0  \n",
              "1              3  \n",
              "2              0  \n",
              "3              3  \n",
              "4              0  "
            ]
          },
          "execution_count": 34,
          "metadata": {},
          "output_type": "execute_result"
        }
      ],
      "source": [
        "data.head()"
      ]
    },
    {
      "cell_type": "code",
      "execution_count": null,
      "id": "0788fc25-979c-489e-b202-73db32590737",
      "metadata": {
        "id": "0788fc25-979c-489e-b202-73db32590737"
      },
      "outputs": [],
      "source": []
    },
    {
      "cell_type": "code",
      "execution_count": null,
      "id": "2b1cfcb4",
      "metadata": {
        "id": "2b1cfcb4",
        "outputId": "d26e3be7-5467-44d2-ba8e-8e6eb24301e2"
      },
      "outputs": [
        {
          "data": {
            "text/plain": [
              "Cluster_group\n",
              "4    81\n",
              "1    39\n",
              "2    35\n",
              "0    23\n",
              "3    22\n",
              "Name: count, dtype: int64"
            ]
          },
          "execution_count": 35,
          "metadata": {},
          "output_type": "execute_result"
        }
      ],
      "source": [
        "data['Cluster_group'].value_counts()"
      ]
    },
    {
      "cell_type": "code",
      "execution_count": null,
      "id": "938fb216",
      "metadata": {
        "id": "938fb216",
        "outputId": "e40e2a1c-422f-4657-a5bb-6ad015b4cc5b"
      },
      "outputs": [
        {
          "data": {
            "text/html": [
              "<div>\n",
              "<style scoped>\n",
              "    .dataframe tbody tr th:only-of-type {\n",
              "        vertical-align: middle;\n",
              "    }\n",
              "\n",
              "    .dataframe tbody tr th {\n",
              "        vertical-align: top;\n",
              "    }\n",
              "\n",
              "    .dataframe thead th {\n",
              "        text-align: right;\n",
              "    }\n",
              "</style>\n",
              "<table border=\"1\" class=\"dataframe\">\n",
              "  <thead>\n",
              "    <tr style=\"text-align: right;\">\n",
              "      <th></th>\n",
              "      <th>CustomerID</th>\n",
              "      <th>Genre</th>\n",
              "      <th>Age</th>\n",
              "      <th>Annual Income (k$)</th>\n",
              "      <th>Spending Score (1-100)</th>\n",
              "      <th>Cluster_group</th>\n",
              "    </tr>\n",
              "  </thead>\n",
              "  <tbody>\n",
              "    <tr>\n",
              "      <th>0</th>\n",
              "      <td>1</td>\n",
              "      <td>Male</td>\n",
              "      <td>19</td>\n",
              "      <td>15</td>\n",
              "      <td>39</td>\n",
              "      <td>0</td>\n",
              "    </tr>\n",
              "    <tr>\n",
              "      <th>2</th>\n",
              "      <td>3</td>\n",
              "      <td>Female</td>\n",
              "      <td>20</td>\n",
              "      <td>16</td>\n",
              "      <td>6</td>\n",
              "      <td>0</td>\n",
              "    </tr>\n",
              "    <tr>\n",
              "      <th>4</th>\n",
              "      <td>5</td>\n",
              "      <td>Female</td>\n",
              "      <td>31</td>\n",
              "      <td>17</td>\n",
              "      <td>40</td>\n",
              "      <td>0</td>\n",
              "    </tr>\n",
              "    <tr>\n",
              "      <th>6</th>\n",
              "      <td>7</td>\n",
              "      <td>Female</td>\n",
              "      <td>35</td>\n",
              "      <td>18</td>\n",
              "      <td>6</td>\n",
              "      <td>0</td>\n",
              "    </tr>\n",
              "    <tr>\n",
              "      <th>8</th>\n",
              "      <td>9</td>\n",
              "      <td>Male</td>\n",
              "      <td>64</td>\n",
              "      <td>19</td>\n",
              "      <td>3</td>\n",
              "      <td>0</td>\n",
              "    </tr>\n",
              "    <tr>\n",
              "      <th>10</th>\n",
              "      <td>11</td>\n",
              "      <td>Male</td>\n",
              "      <td>67</td>\n",
              "      <td>19</td>\n",
              "      <td>14</td>\n",
              "      <td>0</td>\n",
              "    </tr>\n",
              "    <tr>\n",
              "      <th>12</th>\n",
              "      <td>13</td>\n",
              "      <td>Female</td>\n",
              "      <td>58</td>\n",
              "      <td>20</td>\n",
              "      <td>15</td>\n",
              "      <td>0</td>\n",
              "    </tr>\n",
              "    <tr>\n",
              "      <th>14</th>\n",
              "      <td>15</td>\n",
              "      <td>Male</td>\n",
              "      <td>37</td>\n",
              "      <td>20</td>\n",
              "      <td>13</td>\n",
              "      <td>0</td>\n",
              "    </tr>\n",
              "    <tr>\n",
              "      <th>16</th>\n",
              "      <td>17</td>\n",
              "      <td>Female</td>\n",
              "      <td>35</td>\n",
              "      <td>21</td>\n",
              "      <td>35</td>\n",
              "      <td>0</td>\n",
              "    </tr>\n",
              "    <tr>\n",
              "      <th>18</th>\n",
              "      <td>19</td>\n",
              "      <td>Male</td>\n",
              "      <td>52</td>\n",
              "      <td>23</td>\n",
              "      <td>29</td>\n",
              "      <td>0</td>\n",
              "    </tr>\n",
              "    <tr>\n",
              "      <th>20</th>\n",
              "      <td>21</td>\n",
              "      <td>Male</td>\n",
              "      <td>35</td>\n",
              "      <td>24</td>\n",
              "      <td>35</td>\n",
              "      <td>0</td>\n",
              "    </tr>\n",
              "    <tr>\n",
              "      <th>22</th>\n",
              "      <td>23</td>\n",
              "      <td>Female</td>\n",
              "      <td>46</td>\n",
              "      <td>25</td>\n",
              "      <td>5</td>\n",
              "      <td>0</td>\n",
              "    </tr>\n",
              "    <tr>\n",
              "      <th>24</th>\n",
              "      <td>25</td>\n",
              "      <td>Female</td>\n",
              "      <td>54</td>\n",
              "      <td>28</td>\n",
              "      <td>14</td>\n",
              "      <td>0</td>\n",
              "    </tr>\n",
              "    <tr>\n",
              "      <th>26</th>\n",
              "      <td>27</td>\n",
              "      <td>Female</td>\n",
              "      <td>45</td>\n",
              "      <td>28</td>\n",
              "      <td>32</td>\n",
              "      <td>0</td>\n",
              "    </tr>\n",
              "    <tr>\n",
              "      <th>28</th>\n",
              "      <td>29</td>\n",
              "      <td>Female</td>\n",
              "      <td>40</td>\n",
              "      <td>29</td>\n",
              "      <td>31</td>\n",
              "      <td>0</td>\n",
              "    </tr>\n",
              "    <tr>\n",
              "      <th>30</th>\n",
              "      <td>31</td>\n",
              "      <td>Male</td>\n",
              "      <td>60</td>\n",
              "      <td>30</td>\n",
              "      <td>4</td>\n",
              "      <td>0</td>\n",
              "    </tr>\n",
              "    <tr>\n",
              "      <th>32</th>\n",
              "      <td>33</td>\n",
              "      <td>Male</td>\n",
              "      <td>53</td>\n",
              "      <td>33</td>\n",
              "      <td>4</td>\n",
              "      <td>0</td>\n",
              "    </tr>\n",
              "    <tr>\n",
              "      <th>34</th>\n",
              "      <td>35</td>\n",
              "      <td>Female</td>\n",
              "      <td>49</td>\n",
              "      <td>33</td>\n",
              "      <td>14</td>\n",
              "      <td>0</td>\n",
              "    </tr>\n",
              "    <tr>\n",
              "      <th>36</th>\n",
              "      <td>37</td>\n",
              "      <td>Female</td>\n",
              "      <td>42</td>\n",
              "      <td>34</td>\n",
              "      <td>17</td>\n",
              "      <td>0</td>\n",
              "    </tr>\n",
              "    <tr>\n",
              "      <th>38</th>\n",
              "      <td>39</td>\n",
              "      <td>Female</td>\n",
              "      <td>36</td>\n",
              "      <td>37</td>\n",
              "      <td>26</td>\n",
              "      <td>0</td>\n",
              "    </tr>\n",
              "    <tr>\n",
              "      <th>40</th>\n",
              "      <td>41</td>\n",
              "      <td>Female</td>\n",
              "      <td>65</td>\n",
              "      <td>38</td>\n",
              "      <td>35</td>\n",
              "      <td>0</td>\n",
              "    </tr>\n",
              "    <tr>\n",
              "      <th>42</th>\n",
              "      <td>43</td>\n",
              "      <td>Male</td>\n",
              "      <td>48</td>\n",
              "      <td>39</td>\n",
              "      <td>36</td>\n",
              "      <td>0</td>\n",
              "    </tr>\n",
              "    <tr>\n",
              "      <th>44</th>\n",
              "      <td>45</td>\n",
              "      <td>Female</td>\n",
              "      <td>49</td>\n",
              "      <td>39</td>\n",
              "      <td>28</td>\n",
              "      <td>0</td>\n",
              "    </tr>\n",
              "  </tbody>\n",
              "</table>\n",
              "</div>"
            ],
            "text/plain": [
              "    CustomerID   Genre  Age  Annual Income (k$)  Spending Score (1-100)  \\\n",
              "0            1    Male   19                  15                      39   \n",
              "2            3  Female   20                  16                       6   \n",
              "4            5  Female   31                  17                      40   \n",
              "6            7  Female   35                  18                       6   \n",
              "8            9    Male   64                  19                       3   \n",
              "10          11    Male   67                  19                      14   \n",
              "12          13  Female   58                  20                      15   \n",
              "14          15    Male   37                  20                      13   \n",
              "16          17  Female   35                  21                      35   \n",
              "18          19    Male   52                  23                      29   \n",
              "20          21    Male   35                  24                      35   \n",
              "22          23  Female   46                  25                       5   \n",
              "24          25  Female   54                  28                      14   \n",
              "26          27  Female   45                  28                      32   \n",
              "28          29  Female   40                  29                      31   \n",
              "30          31    Male   60                  30                       4   \n",
              "32          33    Male   53                  33                       4   \n",
              "34          35  Female   49                  33                      14   \n",
              "36          37  Female   42                  34                      17   \n",
              "38          39  Female   36                  37                      26   \n",
              "40          41  Female   65                  38                      35   \n",
              "42          43    Male   48                  39                      36   \n",
              "44          45  Female   49                  39                      28   \n",
              "\n",
              "    Cluster_group  \n",
              "0               0  \n",
              "2               0  \n",
              "4               0  \n",
              "6               0  \n",
              "8               0  \n",
              "10              0  \n",
              "12              0  \n",
              "14              0  \n",
              "16              0  \n",
              "18              0  \n",
              "20              0  \n",
              "22              0  \n",
              "24              0  \n",
              "26              0  \n",
              "28              0  \n",
              "30              0  \n",
              "32              0  \n",
              "34              0  \n",
              "36              0  \n",
              "38              0  \n",
              "40              0  \n",
              "42              0  \n",
              "44              0  "
            ]
          },
          "execution_count": 34,
          "metadata": {},
          "output_type": "execute_result"
        }
      ],
      "source": [
        "# 200 data points\n",
        "# cluster=0   23\n",
        "# I want to retrive only 23 data point\n",
        "data[data['Cluster_group']==0]"
      ]
    },
    {
      "cell_type": "markdown",
      "id": "1f7d6db1-f5c2-4b12-bcac-77ebe097f5d4",
      "metadata": {
        "id": "1f7d6db1-f5c2-4b12-bcac-77ebe097f5d4"
      },
      "source": [
        "**groupby**"
      ]
    },
    {
      "cell_type": "code",
      "execution_count": null,
      "id": "4cd6c6b3-4c67-4429-850b-076a80e15564",
      "metadata": {
        "id": "4cd6c6b3-4c67-4429-850b-076a80e15564",
        "outputId": "cb5972ed-0788-4209-af1d-18d8ce0eb54b"
      },
      "outputs": [
        {
          "data": {
            "text/plain": [
              "<pandas.core.groupby.generic.DataFrameGroupBy object at 0x0000028C59EA8450>"
            ]
          },
          "execution_count": 36,
          "metadata": {},
          "output_type": "execute_result"
        }
      ],
      "source": [
        "data.groupby('Cluster_group')\n",
        "# 5 groups"
      ]
    },
    {
      "cell_type": "code",
      "execution_count": null,
      "id": "4fef9fa5-281d-48e6-8068-db716a9beaca",
      "metadata": {
        "id": "4fef9fa5-281d-48e6-8068-db716a9beaca",
        "outputId": "65b57ff9-af56-42eb-9d98-a7ab4f127d93"
      },
      "outputs": [
        {
          "data": {
            "text/plain": [
              "[(0,\n",
              "      CustomerID   Genre  Age  Annual Income (k$)  Spending Score (1-100)  \\\n",
              "  0            1    Male   19                  15                      39   \n",
              "  2            3  Female   20                  16                       6   \n",
              "  4            5  Female   31                  17                      40   \n",
              "  6            7  Female   35                  18                       6   \n",
              "  8            9    Male   64                  19                       3   \n",
              "  10          11    Male   67                  19                      14   \n",
              "  12          13  Female   58                  20                      15   \n",
              "  14          15    Male   37                  20                      13   \n",
              "  16          17  Female   35                  21                      35   \n",
              "  18          19    Male   52                  23                      29   \n",
              "  20          21    Male   35                  24                      35   \n",
              "  22          23  Female   46                  25                       5   \n",
              "  24          25  Female   54                  28                      14   \n",
              "  26          27  Female   45                  28                      32   \n",
              "  28          29  Female   40                  29                      31   \n",
              "  30          31    Male   60                  30                       4   \n",
              "  32          33    Male   53                  33                       4   \n",
              "  34          35  Female   49                  33                      14   \n",
              "  36          37  Female   42                  34                      17   \n",
              "  38          39  Female   36                  37                      26   \n",
              "  40          41  Female   65                  38                      35   \n",
              "  42          43    Male   48                  39                      36   \n",
              "  44          45  Female   49                  39                      28   \n",
              "  \n",
              "      Cluster_group  \n",
              "  0               0  \n",
              "  2               0  \n",
              "  4               0  \n",
              "  6               0  \n",
              "  8               0  \n",
              "  10              0  \n",
              "  12              0  \n",
              "  14              0  \n",
              "  16              0  \n",
              "  18              0  \n",
              "  20              0  \n",
              "  22              0  \n",
              "  24              0  \n",
              "  26              0  \n",
              "  28              0  \n",
              "  30              0  \n",
              "  32              0  \n",
              "  34              0  \n",
              "  36              0  \n",
              "  38              0  \n",
              "  40              0  \n",
              "  42              0  \n",
              "  44              0  ),\n",
              " (1,\n",
              "       CustomerID   Genre  Age  Annual Income (k$)  Spending Score (1-100)  \\\n",
              "  123         124    Male   39                  69                      91   \n",
              "  125         126  Female   31                  70                      77   \n",
              "  127         128    Male   40                  71                      95   \n",
              "  129         130    Male   38                  71                      75   \n",
              "  131         132    Male   39                  71                      75   \n",
              "  133         134  Female   31                  72                      71   \n",
              "  135         136  Female   29                  73                      88   \n",
              "  137         138    Male   32                  73                      73   \n",
              "  139         140  Female   35                  74                      72   \n",
              "  141         142    Male   32                  75                      93   \n",
              "  143         144  Female   32                  76                      87   \n",
              "  145         146    Male   28                  77                      97   \n",
              "  147         148  Female   32                  77                      74   \n",
              "  149         150    Male   34                  78                      90   \n",
              "  151         152    Male   39                  78                      88   \n",
              "  153         154  Female   38                  78                      76   \n",
              "  155         156  Female   27                  78                      89   \n",
              "  157         158  Female   30                  78                      78   \n",
              "  159         160  Female   30                  78                      73   \n",
              "  161         162  Female   29                  79                      83   \n",
              "  163         164  Female   31                  81                      93   \n",
              "  165         166  Female   36                  85                      75   \n",
              "  167         168  Female   33                  86                      95   \n",
              "  169         170    Male   32                  87                      63   \n",
              "  171         172    Male   28                  87                      75   \n",
              "  173         174    Male   36                  87                      92   \n",
              "  175         176  Female   30                  88                      86   \n",
              "  177         178    Male   27                  88                      69   \n",
              "  179         180    Male   35                  93                      90   \n",
              "  181         182  Female   32                  97                      86   \n",
              "  183         184  Female   29                  98                      88   \n",
              "  185         186    Male   30                  99                      97   \n",
              "  187         188    Male   28                 101                      68   \n",
              "  189         190  Female   36                 103                      85   \n",
              "  191         192  Female   32                 103                      69   \n",
              "  193         194  Female   38                 113                      91   \n",
              "  195         196  Female   35                 120                      79   \n",
              "  197         198    Male   32                 126                      74   \n",
              "  199         200    Male   30                 137                      83   \n",
              "  \n",
              "       Cluster_group  \n",
              "  123              1  \n",
              "  125              1  \n",
              "  127              1  \n",
              "  129              1  \n",
              "  131              1  \n",
              "  133              1  \n",
              "  135              1  \n",
              "  137              1  \n",
              "  139              1  \n",
              "  141              1  \n",
              "  143              1  \n",
              "  145              1  \n",
              "  147              1  \n",
              "  149              1  \n",
              "  151              1  \n",
              "  153              1  \n",
              "  155              1  \n",
              "  157              1  \n",
              "  159              1  \n",
              "  161              1  \n",
              "  163              1  \n",
              "  165              1  \n",
              "  167              1  \n",
              "  169              1  \n",
              "  171              1  \n",
              "  173              1  \n",
              "  175              1  \n",
              "  177              1  \n",
              "  179              1  \n",
              "  181              1  \n",
              "  183              1  \n",
              "  185              1  \n",
              "  187              1  \n",
              "  189              1  \n",
              "  191              1  \n",
              "  193              1  \n",
              "  195              1  \n",
              "  197              1  \n",
              "  199              1  ),\n",
              " (2,\n",
              "       CustomerID   Genre  Age  Annual Income (k$)  Spending Score (1-100)  \\\n",
              "  124         125  Female   23                  70                      29   \n",
              "  128         129    Male   59                  71                      11   \n",
              "  130         131    Male   47                  71                       9   \n",
              "  134         135    Male   20                  73                       5   \n",
              "  136         137  Female   44                  73                       7   \n",
              "  138         139    Male   19                  74                      10   \n",
              "  140         141  Female   57                  75                       5   \n",
              "  144         145    Male   25                  77                      12   \n",
              "  146         147    Male   48                  77                      36   \n",
              "  148         149  Female   34                  78                      22   \n",
              "  150         151    Male   43                  78                      17   \n",
              "  152         153  Female   44                  78                      20   \n",
              "  154         155  Female   47                  78                      16   \n",
              "  156         157    Male   37                  78                       1   \n",
              "  158         159    Male   34                  78                       1   \n",
              "  160         161  Female   56                  79                      35   \n",
              "  162         163    Male   19                  81                       5   \n",
              "  164         165    Male   50                  85                      26   \n",
              "  166         167    Male   42                  86                      20   \n",
              "  168         169  Female   36                  87                      27   \n",
              "  170         171    Male   40                  87                      13   \n",
              "  172         173    Male   36                  87                      10   \n",
              "  174         175  Female   52                  88                      13   \n",
              "  176         177    Male   58                  88                      15   \n",
              "  178         179    Male   59                  93                      14   \n",
              "  180         181  Female   37                  97                      32   \n",
              "  182         183    Male   46                  98                      15   \n",
              "  184         185  Female   41                  99                      39   \n",
              "  186         187  Female   54                 101                      24   \n",
              "  188         189  Female   41                 103                      17   \n",
              "  190         191  Female   34                 103                      23   \n",
              "  192         193    Male   33                 113                       8   \n",
              "  194         195  Female   47                 120                      16   \n",
              "  196         197  Female   45                 126                      28   \n",
              "  198         199    Male   32                 137                      18   \n",
              "  \n",
              "       Cluster_group  \n",
              "  124              2  \n",
              "  128              2  \n",
              "  130              2  \n",
              "  134              2  \n",
              "  136              2  \n",
              "  138              2  \n",
              "  140              2  \n",
              "  144              2  \n",
              "  146              2  \n",
              "  148              2  \n",
              "  150              2  \n",
              "  152              2  \n",
              "  154              2  \n",
              "  156              2  \n",
              "  158              2  \n",
              "  160              2  \n",
              "  162              2  \n",
              "  164              2  \n",
              "  166              2  \n",
              "  168              2  \n",
              "  170              2  \n",
              "  172              2  \n",
              "  174              2  \n",
              "  176              2  \n",
              "  178              2  \n",
              "  180              2  \n",
              "  182              2  \n",
              "  184              2  \n",
              "  186              2  \n",
              "  188              2  \n",
              "  190              2  \n",
              "  192              2  \n",
              "  194              2  \n",
              "  196              2  \n",
              "  198              2  ),\n",
              " (3,\n",
              "      CustomerID   Genre  Age  Annual Income (k$)  Spending Score (1-100)  \\\n",
              "  1            2    Male   21                  15                      81   \n",
              "  3            4  Female   23                  16                      77   \n",
              "  5            6  Female   22                  17                      76   \n",
              "  7            8  Female   23                  18                      94   \n",
              "  9           10  Female   30                  19                      72   \n",
              "  11          12  Female   35                  19                      99   \n",
              "  13          14  Female   24                  20                      77   \n",
              "  15          16    Male   22                  20                      79   \n",
              "  17          18    Male   20                  21                      66   \n",
              "  19          20  Female   35                  23                      98   \n",
              "  21          22    Male   25                  24                      73   \n",
              "  23          24    Male   31                  25                      73   \n",
              "  25          26    Male   29                  28                      82   \n",
              "  27          28    Male   35                  28                      61   \n",
              "  29          30  Female   23                  29                      87   \n",
              "  31          32  Female   21                  30                      73   \n",
              "  33          34    Male   18                  33                      92   \n",
              "  35          36  Female   21                  33                      81   \n",
              "  37          38  Female   30                  34                      73   \n",
              "  39          40  Female   20                  37                      75   \n",
              "  41          42    Male   24                  38                      92   \n",
              "  45          46  Female   24                  39                      65   \n",
              "  \n",
              "      Cluster_group  \n",
              "  1               3  \n",
              "  3               3  \n",
              "  5               3  \n",
              "  7               3  \n",
              "  9               3  \n",
              "  11              3  \n",
              "  13              3  \n",
              "  15              3  \n",
              "  17              3  \n",
              "  19              3  \n",
              "  21              3  \n",
              "  23              3  \n",
              "  25              3  \n",
              "  27              3  \n",
              "  29              3  \n",
              "  31              3  \n",
              "  33              3  \n",
              "  35              3  \n",
              "  37              3  \n",
              "  39              3  \n",
              "  41              3  \n",
              "  45              3  ),\n",
              " (4,\n",
              "       CustomerID   Genre  Age  Annual Income (k$)  Spending Score (1-100)  \\\n",
              "  43           44  Female   31                  39                      61   \n",
              "  46           47  Female   50                  40                      55   \n",
              "  47           48  Female   27                  40                      47   \n",
              "  48           49  Female   29                  40                      42   \n",
              "  49           50  Female   31                  40                      42   \n",
              "  ..          ...     ...  ...                 ...                     ...   \n",
              "  121         122  Female   38                  67                      40   \n",
              "  122         123  Female   40                  69                      58   \n",
              "  126         127    Male   43                  71                      35   \n",
              "  132         133  Female   25                  72                      34   \n",
              "  142         143  Female   28                  76                      40   \n",
              "  \n",
              "       Cluster_group  \n",
              "  43               4  \n",
              "  46               4  \n",
              "  47               4  \n",
              "  48               4  \n",
              "  49               4  \n",
              "  ..             ...  \n",
              "  121              4  \n",
              "  122              4  \n",
              "  126              4  \n",
              "  132              4  \n",
              "  142              4  \n",
              "  \n",
              "  [81 rows x 6 columns])]"
            ]
          },
          "execution_count": 37,
          "metadata": {},
          "output_type": "execute_result"
        }
      ],
      "source": [
        "list(data.groupby('Cluster_group'))"
      ]
    },
    {
      "cell_type": "code",
      "execution_count": null,
      "id": "72b0c0d8-e728-4954-b8d6-932ce2dbf215",
      "metadata": {
        "id": "72b0c0d8-e728-4954-b8d6-932ce2dbf215",
        "outputId": "a81c6700-3a15-4933-ded7-5f9571b07a69"
      },
      "outputs": [
        {
          "data": {
            "text/plain": [
              "Cluster_group\n",
              "0    23\n",
              "1    39\n",
              "2    35\n",
              "3    22\n",
              "4    81\n",
              "Name: Cluster_group, dtype: int64"
            ]
          },
          "execution_count": 38,
          "metadata": {},
          "output_type": "execute_result"
        }
      ],
      "source": [
        "list(data.groupby('Cluster_group'))\n",
        "data.groupby('Cluster_group')['Cluster_group'].count()"
      ]
    },
    {
      "cell_type": "code",
      "execution_count": null,
      "id": "0ed7bbf0-e1ba-4951-8f9c-32f5e3f3c671",
      "metadata": {
        "id": "0ed7bbf0-e1ba-4951-8f9c-32f5e3f3c671"
      },
      "outputs": [],
      "source": []
    },
    {
      "cell_type": "code",
      "execution_count": null,
      "id": "53ee4a5f",
      "metadata": {
        "id": "53ee4a5f",
        "outputId": "b9540c68-bc55-40d1-e37c-9858907ba66a"
      },
      "outputs": [
        {
          "data": {
            "text/html": [
              "<div>\n",
              "<style scoped>\n",
              "    .dataframe tbody tr th:only-of-type {\n",
              "        vertical-align: middle;\n",
              "    }\n",
              "\n",
              "    .dataframe tbody tr th {\n",
              "        vertical-align: top;\n",
              "    }\n",
              "\n",
              "    .dataframe thead th {\n",
              "        text-align: right;\n",
              "    }\n",
              "</style>\n",
              "<table border=\"1\" class=\"dataframe\">\n",
              "  <thead>\n",
              "    <tr style=\"text-align: right;\">\n",
              "      <th></th>\n",
              "      <th>Annual Income (k$)</th>\n",
              "      <th>Spending Score (1-100)</th>\n",
              "    </tr>\n",
              "  </thead>\n",
              "  <tbody>\n",
              "    <tr>\n",
              "      <th>0</th>\n",
              "      <td>15</td>\n",
              "      <td>39</td>\n",
              "    </tr>\n",
              "    <tr>\n",
              "      <th>2</th>\n",
              "      <td>16</td>\n",
              "      <td>6</td>\n",
              "    </tr>\n",
              "    <tr>\n",
              "      <th>4</th>\n",
              "      <td>17</td>\n",
              "      <td>40</td>\n",
              "    </tr>\n",
              "    <tr>\n",
              "      <th>6</th>\n",
              "      <td>18</td>\n",
              "      <td>6</td>\n",
              "    </tr>\n",
              "    <tr>\n",
              "      <th>8</th>\n",
              "      <td>19</td>\n",
              "      <td>3</td>\n",
              "    </tr>\n",
              "    <tr>\n",
              "      <th>10</th>\n",
              "      <td>19</td>\n",
              "      <td>14</td>\n",
              "    </tr>\n",
              "    <tr>\n",
              "      <th>12</th>\n",
              "      <td>20</td>\n",
              "      <td>15</td>\n",
              "    </tr>\n",
              "    <tr>\n",
              "      <th>14</th>\n",
              "      <td>20</td>\n",
              "      <td>13</td>\n",
              "    </tr>\n",
              "    <tr>\n",
              "      <th>16</th>\n",
              "      <td>21</td>\n",
              "      <td>35</td>\n",
              "    </tr>\n",
              "    <tr>\n",
              "      <th>18</th>\n",
              "      <td>23</td>\n",
              "      <td>29</td>\n",
              "    </tr>\n",
              "    <tr>\n",
              "      <th>20</th>\n",
              "      <td>24</td>\n",
              "      <td>35</td>\n",
              "    </tr>\n",
              "    <tr>\n",
              "      <th>22</th>\n",
              "      <td>25</td>\n",
              "      <td>5</td>\n",
              "    </tr>\n",
              "    <tr>\n",
              "      <th>24</th>\n",
              "      <td>28</td>\n",
              "      <td>14</td>\n",
              "    </tr>\n",
              "    <tr>\n",
              "      <th>26</th>\n",
              "      <td>28</td>\n",
              "      <td>32</td>\n",
              "    </tr>\n",
              "    <tr>\n",
              "      <th>28</th>\n",
              "      <td>29</td>\n",
              "      <td>31</td>\n",
              "    </tr>\n",
              "    <tr>\n",
              "      <th>30</th>\n",
              "      <td>30</td>\n",
              "      <td>4</td>\n",
              "    </tr>\n",
              "    <tr>\n",
              "      <th>32</th>\n",
              "      <td>33</td>\n",
              "      <td>4</td>\n",
              "    </tr>\n",
              "    <tr>\n",
              "      <th>34</th>\n",
              "      <td>33</td>\n",
              "      <td>14</td>\n",
              "    </tr>\n",
              "    <tr>\n",
              "      <th>36</th>\n",
              "      <td>34</td>\n",
              "      <td>17</td>\n",
              "    </tr>\n",
              "    <tr>\n",
              "      <th>38</th>\n",
              "      <td>37</td>\n",
              "      <td>26</td>\n",
              "    </tr>\n",
              "    <tr>\n",
              "      <th>40</th>\n",
              "      <td>38</td>\n",
              "      <td>35</td>\n",
              "    </tr>\n",
              "    <tr>\n",
              "      <th>42</th>\n",
              "      <td>39</td>\n",
              "      <td>36</td>\n",
              "    </tr>\n",
              "    <tr>\n",
              "      <th>44</th>\n",
              "      <td>39</td>\n",
              "      <td>28</td>\n",
              "    </tr>\n",
              "  </tbody>\n",
              "</table>\n",
              "</div>"
            ],
            "text/plain": [
              "    Annual Income (k$)  Spending Score (1-100)\n",
              "0                   15                      39\n",
              "2                   16                       6\n",
              "4                   17                      40\n",
              "6                   18                       6\n",
              "8                   19                       3\n",
              "10                  19                      14\n",
              "12                  20                      15\n",
              "14                  20                      13\n",
              "16                  21                      35\n",
              "18                  23                      29\n",
              "20                  24                      35\n",
              "22                  25                       5\n",
              "24                  28                      14\n",
              "26                  28                      32\n",
              "28                  29                      31\n",
              "30                  30                       4\n",
              "32                  33                       4\n",
              "34                  33                      14\n",
              "36                  34                      17\n",
              "38                  37                      26\n",
              "40                  38                      35\n",
              "42                  39                      36\n",
              "44                  39                      28"
            ]
          },
          "execution_count": 24,
          "metadata": {},
          "output_type": "execute_result"
        }
      ],
      "source": [
        "# These are the data points which belongs to only\n",
        "# Cluster=0\n",
        "data[data['Cluster_group']==0].iloc[:,[3,4]]"
      ]
    },
    {
      "cell_type": "code",
      "execution_count": null,
      "id": "f2ddf1a5-cb11-4b7b-b631-016365063299",
      "metadata": {
        "id": "f2ddf1a5-cb11-4b7b-b631-016365063299",
        "outputId": "229b92b9-6e05-4e5c-9b01-a350f07cc0c2"
      },
      "outputs": [
        {
          "data": {
            "text/html": [
              "<div>\n",
              "<style scoped>\n",
              "    .dataframe tbody tr th:only-of-type {\n",
              "        vertical-align: middle;\n",
              "    }\n",
              "\n",
              "    .dataframe tbody tr th {\n",
              "        vertical-align: top;\n",
              "    }\n",
              "\n",
              "    .dataframe thead th {\n",
              "        text-align: right;\n",
              "    }\n",
              "</style>\n",
              "<table border=\"1\" class=\"dataframe\">\n",
              "  <thead>\n",
              "    <tr style=\"text-align: right;\">\n",
              "      <th></th>\n",
              "      <th>CustomerID</th>\n",
              "      <th>Genre</th>\n",
              "      <th>Age</th>\n",
              "      <th>Annual Income (k$)</th>\n",
              "      <th>Spending Score (1-100)</th>\n",
              "      <th>Cluster_group</th>\n",
              "    </tr>\n",
              "  </thead>\n",
              "  <tbody>\n",
              "    <tr>\n",
              "      <th>0</th>\n",
              "      <td>1</td>\n",
              "      <td>Male</td>\n",
              "      <td>19</td>\n",
              "      <td>15</td>\n",
              "      <td>39</td>\n",
              "      <td>0</td>\n",
              "    </tr>\n",
              "    <tr>\n",
              "      <th>1</th>\n",
              "      <td>2</td>\n",
              "      <td>Male</td>\n",
              "      <td>21</td>\n",
              "      <td>15</td>\n",
              "      <td>81</td>\n",
              "      <td>3</td>\n",
              "    </tr>\n",
              "    <tr>\n",
              "      <th>2</th>\n",
              "      <td>3</td>\n",
              "      <td>Female</td>\n",
              "      <td>20</td>\n",
              "      <td>16</td>\n",
              "      <td>6</td>\n",
              "      <td>0</td>\n",
              "    </tr>\n",
              "    <tr>\n",
              "      <th>3</th>\n",
              "      <td>4</td>\n",
              "      <td>Female</td>\n",
              "      <td>23</td>\n",
              "      <td>16</td>\n",
              "      <td>77</td>\n",
              "      <td>3</td>\n",
              "    </tr>\n",
              "    <tr>\n",
              "      <th>4</th>\n",
              "      <td>5</td>\n",
              "      <td>Female</td>\n",
              "      <td>31</td>\n",
              "      <td>17</td>\n",
              "      <td>40</td>\n",
              "      <td>0</td>\n",
              "    </tr>\n",
              "    <tr>\n",
              "      <th>...</th>\n",
              "      <td>...</td>\n",
              "      <td>...</td>\n",
              "      <td>...</td>\n",
              "      <td>...</td>\n",
              "      <td>...</td>\n",
              "      <td>...</td>\n",
              "    </tr>\n",
              "    <tr>\n",
              "      <th>195</th>\n",
              "      <td>196</td>\n",
              "      <td>Female</td>\n",
              "      <td>35</td>\n",
              "      <td>120</td>\n",
              "      <td>79</td>\n",
              "      <td>1</td>\n",
              "    </tr>\n",
              "    <tr>\n",
              "      <th>196</th>\n",
              "      <td>197</td>\n",
              "      <td>Female</td>\n",
              "      <td>45</td>\n",
              "      <td>126</td>\n",
              "      <td>28</td>\n",
              "      <td>2</td>\n",
              "    </tr>\n",
              "    <tr>\n",
              "      <th>197</th>\n",
              "      <td>198</td>\n",
              "      <td>Male</td>\n",
              "      <td>32</td>\n",
              "      <td>126</td>\n",
              "      <td>74</td>\n",
              "      <td>1</td>\n",
              "    </tr>\n",
              "    <tr>\n",
              "      <th>198</th>\n",
              "      <td>199</td>\n",
              "      <td>Male</td>\n",
              "      <td>32</td>\n",
              "      <td>137</td>\n",
              "      <td>18</td>\n",
              "      <td>2</td>\n",
              "    </tr>\n",
              "    <tr>\n",
              "      <th>199</th>\n",
              "      <td>200</td>\n",
              "      <td>Male</td>\n",
              "      <td>30</td>\n",
              "      <td>137</td>\n",
              "      <td>83</td>\n",
              "      <td>1</td>\n",
              "    </tr>\n",
              "  </tbody>\n",
              "</table>\n",
              "<p>200 rows × 6 columns</p>\n",
              "</div>"
            ],
            "text/plain": [
              "     CustomerID   Genre  Age  Annual Income (k$)  Spending Score (1-100)  \\\n",
              "0             1    Male   19                  15                      39   \n",
              "1             2    Male   21                  15                      81   \n",
              "2             3  Female   20                  16                       6   \n",
              "3             4  Female   23                  16                      77   \n",
              "4             5  Female   31                  17                      40   \n",
              "..          ...     ...  ...                 ...                     ...   \n",
              "195         196  Female   35                 120                      79   \n",
              "196         197  Female   45                 126                      28   \n",
              "197         198    Male   32                 126                      74   \n",
              "198         199    Male   32                 137                      18   \n",
              "199         200    Male   30                 137                      83   \n",
              "\n",
              "     Cluster_group  \n",
              "0                0  \n",
              "1                3  \n",
              "2                0  \n",
              "3                3  \n",
              "4                0  \n",
              "..             ...  \n",
              "195              1  \n",
              "196              2  \n",
              "197              1  \n",
              "198              2  \n",
              "199              1  \n",
              "\n",
              "[200 rows x 6 columns]"
            ]
          },
          "execution_count": 35,
          "metadata": {},
          "output_type": "execute_result"
        }
      ],
      "source": [
        "data"
      ]
    },
    {
      "cell_type": "code",
      "execution_count": null,
      "id": "2107f935",
      "metadata": {
        "id": "2107f935",
        "outputId": "8134e04c-bdcd-48ad-a522-52b5909ec144"
      },
      "outputs": [
        {
          "data": {
            "text/html": [
              "<div>\n",
              "<style scoped>\n",
              "    .dataframe tbody tr th:only-of-type {\n",
              "        vertical-align: middle;\n",
              "    }\n",
              "\n",
              "    .dataframe tbody tr th {\n",
              "        vertical-align: top;\n",
              "    }\n",
              "\n",
              "    .dataframe thead th {\n",
              "        text-align: right;\n",
              "    }\n",
              "</style>\n",
              "<table border=\"1\" class=\"dataframe\">\n",
              "  <thead>\n",
              "    <tr style=\"text-align: right;\">\n",
              "      <th></th>\n",
              "      <th>Cluster-1</th>\n",
              "      <th>Cluster-2</th>\n",
              "      <th>Cluster-3</th>\n",
              "      <th>Cluster-4</th>\n",
              "      <th>Cluster-5</th>\n",
              "    </tr>\n",
              "  </thead>\n",
              "  <tbody>\n",
              "    <tr>\n",
              "      <th>Annual Income (k$)</th>\n",
              "      <td>26.304348</td>\n",
              "      <td>86.538462</td>\n",
              "      <td>88.200000</td>\n",
              "      <td>25.727273</td>\n",
              "      <td>55.296296</td>\n",
              "    </tr>\n",
              "    <tr>\n",
              "      <th>Spending Score (1-100)</th>\n",
              "      <td>20.913043</td>\n",
              "      <td>82.128205</td>\n",
              "      <td>17.114286</td>\n",
              "      <td>79.363636</td>\n",
              "      <td>49.518519</td>\n",
              "    </tr>\n",
              "  </tbody>\n",
              "</table>\n",
              "</div>"
            ],
            "text/plain": [
              "                        Cluster-1  Cluster-2  Cluster-3  Cluster-4  Cluster-5\n",
              "Annual Income (k$)      26.304348  86.538462  88.200000  25.727273  55.296296\n",
              "Spending Score (1-100)  20.913043  82.128205  17.114286  79.363636  49.518519"
            ]
          },
          "execution_count": 36,
          "metadata": {},
          "output_type": "execute_result"
        }
      ],
      "source": [
        "# Group the data points\n",
        "# We calcualte mean of each cluster data points\n",
        "#X[X['Cluster_group']==0].iloc[:,[0,1]]\n",
        "cs_1=data[data['Cluster_group']==0].iloc[:,[3,4]]\n",
        "cs_2=data[data['Cluster_group']==1].iloc[:,[3,4]]\n",
        "cs_3=data[data['Cluster_group']==2].iloc[:,[3,4]]\n",
        "cs_4=data[data['Cluster_group']==3].iloc[:,[3,4]]\n",
        "cs_5=data[data['Cluster_group']==4].iloc[:,[3,4]]\n",
        "d1={'Cluster-1':cs_1.mean(),\n",
        "   'Cluster-2':cs_2.mean(),\n",
        "   'Cluster-3':cs_3.mean(),\n",
        "   'Cluster-4':cs_4.mean(),\n",
        "   'Cluster-5':cs_5.mean()}\n",
        "pd.DataFrame(d1)"
      ]
    },
    {
      "cell_type": "markdown",
      "id": "8f60c08a",
      "metadata": {
        "id": "8f60c08a"
      },
      "source": [
        "- We read the data\n",
        "\n",
        "- We selected specific columns\n",
        "\n",
        "- We given randomly 10 clusters\n",
        "\n",
        "- We calculated the interia of 10 clusters\n",
        "\n",
        "- By using elbow method , we decided 5 clusters are enough\n",
        "\n",
        "- We pass the 5 clusters to the K-means\n",
        "\n",
        "- We pass the data (X)  and the get cluster values for all observations\n",
        "\n",
        "- We divided into 5 Data frames w.r.t the cluster observations\n",
        "\n",
        "- We calculated Average income and Average spending score of each cluster observation"
      ]
    },
    {
      "cell_type": "code",
      "execution_count": null,
      "id": "6205e550",
      "metadata": {
        "id": "6205e550"
      },
      "outputs": [],
      "source": [
        "# d1=pd.DataFrame(dict(cs_1.mean()),index=['Cluster-1'])\n",
        "# d2=pd.DataFrame(dict(cs_2.mean()),index=['Cluster-2'])\n",
        "# d3=pd.DataFrame(dict(cs_3.mean()),index=['Cluster-3'])\n",
        "# d4=pd.DataFrame(dict(cs_4.mean()),index=['Cluster-4'])\n",
        "# d5=pd.DataFrame(dict(cs_5.mean()),index=['Cluster-5'])\n",
        "# pd.concat[d1+d2+d3+d4+d5]"
      ]
    },
    {
      "cell_type": "code",
      "execution_count": null,
      "id": "561b1deb",
      "metadata": {
        "id": "561b1deb"
      },
      "outputs": [],
      "source": []
    },
    {
      "cell_type": "code",
      "execution_count": null,
      "id": "fce96402",
      "metadata": {
        "id": "fce96402",
        "outputId": "27a32baf-01f4-4ab4-a699-eeac8ca2f379"
      },
      "outputs": [
        {
          "data": {
            "text/plain": [
              "array([[ 15,  39],\n",
              "       [ 15,  81],\n",
              "       [ 16,   6],\n",
              "       [ 16,  77],\n",
              "       [ 17,  40],\n",
              "       [ 17,  76],\n",
              "       [ 18,   6],\n",
              "       [ 18,  94],\n",
              "       [ 19,   3],\n",
              "       [ 19,  72],\n",
              "       [ 19,  14],\n",
              "       [ 19,  99],\n",
              "       [ 20,  15],\n",
              "       [ 20,  77],\n",
              "       [ 20,  13],\n",
              "       [ 20,  79],\n",
              "       [ 21,  35],\n",
              "       [ 21,  66],\n",
              "       [ 23,  29],\n",
              "       [ 23,  98],\n",
              "       [ 24,  35],\n",
              "       [ 24,  73],\n",
              "       [ 25,   5],\n",
              "       [ 25,  73],\n",
              "       [ 28,  14],\n",
              "       [ 28,  82],\n",
              "       [ 28,  32],\n",
              "       [ 28,  61],\n",
              "       [ 29,  31],\n",
              "       [ 29,  87],\n",
              "       [ 30,   4],\n",
              "       [ 30,  73],\n",
              "       [ 33,   4],\n",
              "       [ 33,  92],\n",
              "       [ 33,  14],\n",
              "       [ 33,  81],\n",
              "       [ 34,  17],\n",
              "       [ 34,  73],\n",
              "       [ 37,  26],\n",
              "       [ 37,  75],\n",
              "       [ 38,  35],\n",
              "       [ 38,  92],\n",
              "       [ 39,  36],\n",
              "       [ 39,  61],\n",
              "       [ 39,  28],\n",
              "       [ 39,  65],\n",
              "       [ 40,  55],\n",
              "       [ 40,  47],\n",
              "       [ 40,  42],\n",
              "       [ 40,  42],\n",
              "       [ 42,  52],\n",
              "       [ 42,  60],\n",
              "       [ 43,  54],\n",
              "       [ 43,  60],\n",
              "       [ 43,  45],\n",
              "       [ 43,  41],\n",
              "       [ 44,  50],\n",
              "       [ 44,  46],\n",
              "       [ 46,  51],\n",
              "       [ 46,  46],\n",
              "       [ 46,  56],\n",
              "       [ 46,  55],\n",
              "       [ 47,  52],\n",
              "       [ 47,  59],\n",
              "       [ 48,  51],\n",
              "       [ 48,  59],\n",
              "       [ 48,  50],\n",
              "       [ 48,  48],\n",
              "       [ 48,  59],\n",
              "       [ 48,  47],\n",
              "       [ 49,  55],\n",
              "       [ 49,  42],\n",
              "       [ 50,  49],\n",
              "       [ 50,  56],\n",
              "       [ 54,  47],\n",
              "       [ 54,  54],\n",
              "       [ 54,  53],\n",
              "       [ 54,  48],\n",
              "       [ 54,  52],\n",
              "       [ 54,  42],\n",
              "       [ 54,  51],\n",
              "       [ 54,  55],\n",
              "       [ 54,  41],\n",
              "       [ 54,  44],\n",
              "       [ 54,  57],\n",
              "       [ 54,  46],\n",
              "       [ 57,  58],\n",
              "       [ 57,  55],\n",
              "       [ 58,  60],\n",
              "       [ 58,  46],\n",
              "       [ 59,  55],\n",
              "       [ 59,  41],\n",
              "       [ 60,  49],\n",
              "       [ 60,  40],\n",
              "       [ 60,  42],\n",
              "       [ 60,  52],\n",
              "       [ 60,  47],\n",
              "       [ 60,  50],\n",
              "       [ 61,  42],\n",
              "       [ 61,  49],\n",
              "       [ 62,  41],\n",
              "       [ 62,  48],\n",
              "       [ 62,  59],\n",
              "       [ 62,  55],\n",
              "       [ 62,  56],\n",
              "       [ 62,  42],\n",
              "       [ 63,  50],\n",
              "       [ 63,  46],\n",
              "       [ 63,  43],\n",
              "       [ 63,  48],\n",
              "       [ 63,  52],\n",
              "       [ 63,  54],\n",
              "       [ 64,  42],\n",
              "       [ 64,  46],\n",
              "       [ 65,  48],\n",
              "       [ 65,  50],\n",
              "       [ 65,  43],\n",
              "       [ 65,  59],\n",
              "       [ 67,  43],\n",
              "       [ 67,  57],\n",
              "       [ 67,  56],\n",
              "       [ 67,  40],\n",
              "       [ 69,  58],\n",
              "       [ 69,  91],\n",
              "       [ 70,  29],\n",
              "       [ 70,  77],\n",
              "       [ 71,  35],\n",
              "       [ 71,  95],\n",
              "       [ 71,  11],\n",
              "       [ 71,  75],\n",
              "       [ 71,   9],\n",
              "       [ 71,  75],\n",
              "       [ 72,  34],\n",
              "       [ 72,  71],\n",
              "       [ 73,   5],\n",
              "       [ 73,  88],\n",
              "       [ 73,   7],\n",
              "       [ 73,  73],\n",
              "       [ 74,  10],\n",
              "       [ 74,  72],\n",
              "       [ 75,   5],\n",
              "       [ 75,  93],\n",
              "       [ 76,  40],\n",
              "       [ 76,  87],\n",
              "       [ 77,  12],\n",
              "       [ 77,  97],\n",
              "       [ 77,  36],\n",
              "       [ 77,  74],\n",
              "       [ 78,  22],\n",
              "       [ 78,  90],\n",
              "       [ 78,  17],\n",
              "       [ 78,  88],\n",
              "       [ 78,  20],\n",
              "       [ 78,  76],\n",
              "       [ 78,  16],\n",
              "       [ 78,  89],\n",
              "       [ 78,   1],\n",
              "       [ 78,  78],\n",
              "       [ 78,   1],\n",
              "       [ 78,  73],\n",
              "       [ 79,  35],\n",
              "       [ 79,  83],\n",
              "       [ 81,   5],\n",
              "       [ 81,  93],\n",
              "       [ 85,  26],\n",
              "       [ 85,  75],\n",
              "       [ 86,  20],\n",
              "       [ 86,  95],\n",
              "       [ 87,  27],\n",
              "       [ 87,  63],\n",
              "       [ 87,  13],\n",
              "       [ 87,  75],\n",
              "       [ 87,  10],\n",
              "       [ 87,  92],\n",
              "       [ 88,  13],\n",
              "       [ 88,  86],\n",
              "       [ 88,  15],\n",
              "       [ 88,  69],\n",
              "       [ 93,  14],\n",
              "       [ 93,  90],\n",
              "       [ 97,  32],\n",
              "       [ 97,  86],\n",
              "       [ 98,  15],\n",
              "       [ 98,  88],\n",
              "       [ 99,  39],\n",
              "       [ 99,  97],\n",
              "       [101,  24],\n",
              "       [101,  68],\n",
              "       [103,  17],\n",
              "       [103,  85],\n",
              "       [103,  23],\n",
              "       [103,  69],\n",
              "       [113,   8],\n",
              "       [113,  91],\n",
              "       [120,  16],\n",
              "       [120,  79],\n",
              "       [126,  28],\n",
              "       [126,  74],\n",
              "       [137,  18],\n",
              "       [137,  83]], dtype=int64)"
            ]
          },
          "execution_count": 27,
          "metadata": {},
          "output_type": "execute_result"
        }
      ],
      "source": [
        "X"
      ]
    },
    {
      "cell_type": "code",
      "execution_count": null,
      "id": "f53efb40-89c3-4077-b5b9-20891e852e98",
      "metadata": {
        "id": "f53efb40-89c3-4077-b5b9-20891e852e98",
        "outputId": "bff492c3-1b5f-4f3d-c656-57b698dd635a"
      },
      "outputs": [
        {
          "data": {
            "text/plain": [
              "array([39, 81,  6, 77, 40, 76,  6, 94,  3, 72, 14, 99, 15, 77, 13, 79, 35,\n",
              "       66, 29, 98, 35, 73,  5, 73, 14, 82, 32, 61, 31, 87,  4, 73,  4, 92,\n",
              "       14, 81, 17, 73, 26, 75, 35, 92, 36, 61, 28, 65, 55, 47, 42, 42, 52,\n",
              "       60, 54, 60, 45, 41, 50, 46, 51, 46, 56, 55, 52, 59, 51, 59, 50, 48,\n",
              "       59, 47, 55, 42, 49, 56, 47, 54, 53, 48, 52, 42, 51, 55, 41, 44, 57,\n",
              "       46, 58, 55, 60, 46, 55, 41, 49, 40, 42, 52, 47, 50, 42, 49, 41, 48,\n",
              "       59, 55, 56, 42, 50, 46, 43, 48, 52, 54, 42, 46, 48, 50, 43, 59, 43,\n",
              "       57, 56, 40, 58, 91, 29, 77, 35, 95, 11, 75,  9, 75, 34, 71,  5, 88,\n",
              "        7, 73, 10, 72,  5, 93, 40, 87, 12, 97, 36, 74, 22, 90, 17, 88, 20,\n",
              "       76, 16, 89,  1, 78,  1, 73, 35, 83,  5, 93, 26, 75, 20, 95, 27, 63,\n",
              "       13, 75, 10, 92, 13, 86, 15, 69, 14, 90, 32, 86, 15, 88, 39, 97, 24,\n",
              "       68, 17, 85, 23, 69,  8, 91, 16, 79, 28, 74, 18, 83], dtype=int64)"
            ]
          },
          "execution_count": 26,
          "metadata": {},
          "output_type": "execute_result"
        }
      ],
      "source": [
        "# we need to perform scatter plot: Annual income vs spending score\n",
        "# But not all the data points\n",
        "# we need provide by cluster wise\n",
        "# X  is data of two columns\n",
        "X[:,0]  # First column\n",
        "X[:,1]  # Second column"
      ]
    },
    {
      "cell_type": "code",
      "execution_count": null,
      "id": "d728c832-84b1-461f-b78b-c898a1c44c64",
      "metadata": {
        "id": "d728c832-84b1-461f-b78b-c898a1c44c64",
        "outputId": "6891b069-960f-4519-d15f-01803f86b4f2"
      },
      "outputs": [
        {
          "data": {
            "text/plain": [
              "<matplotlib.collections.PathCollection at 0x2a47b394290>"
            ]
          },
          "execution_count": 48,
          "metadata": {},
          "output_type": "execute_result"
        },
        {
          "data": {
            "image/png": "[encoded data removed]",
            "text/plain": [
              "<Figure size 640x480 with 1 Axes>"
            ]
          },
          "metadata": {},
          "output_type": "display_data"
        }
      ],
      "source": [
        "X[y_clusters==0] # two columns values which are belongs to cluster =0\n",
        "# Out of these two columns we need seperate col1 values and col2 values\n",
        "\n",
        "c1=X[y_clusters==0,0]  # First columns values belongs to clsuter =0\n",
        "c2=X[y_clusters==0,1]\n",
        "plt.scatter(c1,c2,s=1000,c='red')\n",
        "#for the scatter plot\n",
        "#plt.scatter(col1,col2)"
      ]
    },
    {
      "cell_type": "code",
      "execution_count": null,
      "id": "11ca6345-3b84-48f6-9537-0f089743811c",
      "metadata": {
        "id": "11ca6345-3b84-48f6-9537-0f089743811c",
        "outputId": "c5c56f4f-3cbd-456c-d977-871adba33f51"
      },
      "outputs": [
        {
          "data": {
            "text/plain": [
              "array([39,  6, 40,  6,  3, 14, 15, 13, 35, 29, 35,  5, 14, 32, 31,  4,  4,\n",
              "       14, 17, 26, 35, 36, 28], dtype=int64)"
            ]
          },
          "execution_count": 35,
          "metadata": {},
          "output_type": "execute_result"
        }
      ],
      "source": [
        "X[y_clusters==0,1]"
      ]
    },
    {
      "cell_type": "code",
      "execution_count": null,
      "id": "86df91f0",
      "metadata": {
        "id": "86df91f0"
      },
      "outputs": [],
      "source": [
        "# X[:,0]  # O  fisrt column values\n",
        "# X[:,1]  # 1  second column values\n",
        "# plt.scatter(X[:,0],X[:,1])\n",
        "\n",
        "# (X[y_clusters==0,0],X[y_clusters==0,1]\n",
        "# (X[y_clusters==1,0],X[y_clusters==1,1]\n",
        "# (X[y_clusters==3,0],X[y_clusters==3,1]\n",
        "# (X[y_clusters==2,0],X[y_clusters==2,1]\n",
        "# (X[y_clusters==4,0],X[y_clusters==4,1]"
      ]
    },
    {
      "cell_type": "markdown",
      "id": "3a1b0f2f",
      "metadata": {
        "id": "3a1b0f2f"
      },
      "source": [
        "X[y_clusters]\n",
        "\n",
        " 0   1\n",
        "[15,39]========= > 0\n",
        "\n",
        "0,0 ======= 15\n",
        "0,1 ======= 39\n",
        "\n",
        "\n",
        "y_clusters=0,0 ======= > first 0 represnts cluster\n",
        "\n",
        "               ======= > second 0 represnts first column\n",
        "               \n",
        "    \n",
        "y_clusters=0,1 ======= > first 0 represnts cluster\n",
        "\n",
        "               ======= > second term 1 represnts second column\n",
        "    \n",
        "\n",
        "========= zero cluster with first column (0,0)\n",
        "\n",
        "========= zero cluster with second column (0,1)\n",
        "\n",
        "========= First cluster with first column (1,0)\n",
        "\n",
        "========= First cluster with second column (1,1)\n",
        "\n",
        "========= second cluster with first column (2,0)\n",
        "\n",
        "========= second cluster with second column (2,1)"
      ]
    },
    {
      "cell_type": "code",
      "execution_count": null,
      "id": "0d4d5820-118f-4f7c-912a-d76b8440d574",
      "metadata": {
        "id": "0d4d5820-118f-4f7c-912a-d76b8440d574",
        "outputId": "e657bc60-9af7-4b39-b8f1-dfa8a0861e7d"
      },
      "outputs": [
        {
          "data": {
            "text/plain": [
              "<matplotlib.collections.PathCollection at 0x28c610f4910>"
            ]
          },
          "execution_count": 53,
          "metadata": {},
          "output_type": "execute_result"
        },
        {
          "data": {
            "image/png": "[encoded data removed]",
            "text/plain": [
              "<Figure size 640x480 with 1 Axes>"
            ]
          },
          "metadata": {},
          "output_type": "display_data"
        }
      ],
      "source": [
        "X=data.iloc[:,[3,4]].values\n",
        "X[y_clusters==0] # cluster 0 obeservations\n",
        "len(X[y_clusters==0])\n",
        "l1=X[y_clusters==0,0] # first column\n",
        "l2=X[y_clusters==0,1] # second\n",
        "plt.scatter(l1,l2,s=300,c='red')"
      ]
    },
    {
      "cell_type": "code",
      "execution_count": null,
      "id": "2f8c2ab5-fb6e-4583-8929-81712f1ffb4e",
      "metadata": {
        "id": "2f8c2ab5-fb6e-4583-8929-81712f1ffb4e",
        "outputId": "7f0ec899-1f8b-4645-83da-0f44e4d28f06"
      },
      "outputs": [
        {
          "data": {
            "text/plain": [
              "array([39,  6, 40,  6,  3, 14, 15, 13, 35, 29, 35,  5, 14, 32, 31,  4,  4,\n",
              "       14, 17, 26, 35, 36, 28], dtype=int64)"
            ]
          },
          "execution_count": 58,
          "metadata": {},
          "output_type": "execute_result"
        }
      ],
      "source": [
        "# sctter plot\n",
        "# (Annulaincome,Spendingscore)\n",
        "X=data.iloc[:,[3,4]].values  # two columns\n",
        "X[y_clusters==0,0] # Cluster 0 only Annula income\n",
        "X[y_clusters==0,1] # Spending score\n",
        "############################################\n",
        "X[y_clusters==1,0]  # cluster=1  with first column\n",
        "X[y_clusters==1,1]  # cluster=1  with second column"
      ]
    },
    {
      "cell_type": "code",
      "execution_count": null,
      "id": "d7ead6ca",
      "metadata": {
        "id": "d7ead6ca",
        "outputId": "b2f10e57-dd77-4ae6-d93b-a75289c28558"
      },
      "outputs": [
        {
          "data": {
            "image/png": "[encoded data removed]",
            "text/plain": [
              "<Figure size 1200x800 with 1 Axes>"
            ]
          },
          "metadata": {},
          "output_type": "display_data"
        }
      ],
      "source": [
        "# Visulaize the clusters\n",
        "# We are applying scatter plot between income and spending score w.r.t to clusters\n",
        "X=data.iloc[:,[3,4]].values\n",
        "plt.figure(figsize=(12,8))\n",
        "plt.scatter(X[y_clusters==0,0],X[y_clusters==0,1],s=100,c='red',label=\"Cluster1\")\n",
        "plt.scatter(X[y_clusters==1,0],X[y_clusters==1,1],s=100,c='blue',label=\"Cluster2\")\n",
        "plt.scatter(X[y_clusters==2,0],X[y_clusters==2,1],s=100,c='green',label=\"Cluster3\")\n",
        "plt.scatter(X[y_clusters==3,0],X[y_clusters==3,1],s=100,c='cyan',label=\"Cluster4\")\n",
        "plt.scatter(X[y_clusters==4,0],X[y_clusters==4,1],s=100,c='magenta',label=\"Cluster5\")\n",
        "plt.scatter(kmeans.cluster_centers_[:,0],kmeans.cluster_centers_[:,1],s=300,c='yellow',\n",
        "            label='Centriods')\n",
        "plt.title(\"Clusters using K-means\")\n",
        "plt.xlabel(\"Annual Income\")\n",
        "plt.ylabel(\"Spending score\")\n",
        "plt.legend()\n",
        "plt.show()\n",
        "\n",
        "# Where s will give the size of the centriod"
      ]
    },
    {
      "cell_type": "markdown",
      "id": "032b836d-f70c-4619-a79d-980f42cdf4da",
      "metadata": {
        "id": "032b836d-f70c-4619-a79d-980f42cdf4da"
      },
      "source": [
        "## silhouette_score"
      ]
    },
    {
      "cell_type": "code",
      "execution_count": null,
      "id": "4721e49b-2a55-4476-a43a-c0b552e6543d",
      "metadata": {
        "id": "4721e49b-2a55-4476-a43a-c0b552e6543d",
        "outputId": "086ff121-a5ce-4442-9715-e896d34f331e"
      },
      "outputs": [
        {
          "data": {
            "text/plain": [
              "Index(['CustomerID', 'Genre', 'Age', 'Annual Income (k$)',\n",
              "       'Spending Score (1-100)'],\n",
              "      dtype='object')"
            ]
          },
          "execution_count": 1,
          "metadata": {},
          "output_type": "execute_result"
        }
      ],
      "source": [
        "import pandas as pd\n",
        "data=pd.read_csv(\"C:\\\\Users\\\\omkar\\\\OneDrive\\\\Documents\\\\Data science\\\\Ekeeda\\\\Datasets\\\\Mall_Customers.csv\")\n",
        "data.columns"
      ]
    },
    {
      "cell_type": "code",
      "execution_count": null,
      "id": "23b9da4f-489f-492d-9405-0f8e9ec94d16",
      "metadata": {
        "id": "23b9da4f-489f-492d-9405-0f8e9ec94d16",
        "outputId": "60292434-6363-4aff-b463-a1c4adb41b77"
      },
      "outputs": [
        {
          "data": {
            "text/plain": [
              "0.53976103063432"
            ]
          },
          "execution_count": 2,
          "metadata": {},
          "output_type": "execute_result"
        }
      ],
      "source": [
        "from sklearn.cluster import KMeans\n",
        "from sklearn.metrics import silhouette_score\n",
        "import numpy as np\n",
        "import warnings\n",
        "warnings.filterwarnings(\"ignore\")\n",
        "\n",
        "data=pd.read_csv(\"C:\\\\Users\\\\omkar\\\\OneDrive\\\\Documents\\\\Data science\\\\Ekeeda\\\\Datasets\\\\Mall_Customers.csv\")\n",
        "X=data[['Annual Income (k$)','Spending Score (1-100)']].values\n",
        "kmeans = KMeans(n_clusters=6)\n",
        "kmeans.fit(X)\n",
        "kmeans.labels_\n",
        "silhouette_score(X,kmeans.labels_)"
      ]
    },
    {
      "cell_type": "code",
      "execution_count": null,
      "id": "c862957d-2f37-4af3-b32d-5e5eea43c2d6",
      "metadata": {
        "id": "c862957d-2f37-4af3-b32d-5e5eea43c2d6",
        "outputId": "b853a49f-3a91-48a9-a7fc-f50b48a298e4"
      },
      "outputs": [
        {
          "name": "stdout",
          "output_type": "stream",
          "text": [
            "Optimal number of clusters: 5\n",
            "Optimal silhouette score: 0.553931997444648\n"
          ]
        }
      ],
      "source": [
        "from sklearn.cluster import KMeans\n",
        "from sklearn.metrics import silhouette_score\n",
        "import numpy as np\n",
        "import warnings\n",
        "warnings.filterwarnings(\"ignore\")\n",
        "\n",
        "data=pd.read_csv(\"C:\\\\Users\\\\omkar\\\\OneDrive\\\\Documents\\\\Data science\\\\Ekeeda\\\\Datasets\\\\Mall_Customers.csv\")\n",
        "X=data[['Annual Income (k$)','Spending Score (1-100)']].values\n",
        "# Initialize lists to store silhouette scores for each k\n",
        "silhouette_scores = []\n",
        "\n",
        "for i in range(2,11):\n",
        "    kmeans = KMeans(n_clusters=i)\n",
        "    kmeans.fit(X)\n",
        "    cluster_labels = kmeans.labels_\n",
        "    silhouette_avg = silhouette_score(X, cluster_labels)\n",
        "    silhouette_scores.append(silhouette_avg)\n",
        "\n",
        "# Find the optimal k value that maximizes silhouette score\n",
        "k_values=range(2,11)\n",
        "optimal_k = k_values[np.argmax(silhouette_scores)]\n",
        "optimal_silhouette_score = max(silhouette_scores)\n",
        "\n",
        "print(\"Optimal number of clusters:\", optimal_k)\n",
        "print(\"Optimal silhouette score:\", optimal_silhouette_score)\n"
      ]
    },
    {
      "cell_type": "code",
      "execution_count": null,
      "id": "6c2d875e-642f-48b0-894c-2d29c7269b9c",
      "metadata": {
        "id": "6c2d875e-642f-48b0-894c-2d29c7269b9c",
        "outputId": "064664d6-b30b-4e17-a4a7-2e76317019d3"
      },
      "outputs": [
        {
          "data": {
            "text/plain": [
              "5"
            ]
          },
          "execution_count": 10,
          "metadata": {},
          "output_type": "execute_result"
        }
      ],
      "source": [
        "k_values[silhouette_scores.index(max(silhouette_scores))]\n",
        "# we are getting maximum value\n",
        "# we are getting the index of the maximum value\n",
        "# that index we are passing into cluster list\n",
        "# For which cluster what is the maximu silhoutte score"
      ]
    },
    {
      "cell_type": "markdown",
      "id": "d27fc7f8-d111-46e2-8cfc-527e51e4febc",
      "metadata": {
        "id": "d27fc7f8-d111-46e2-8cfc-527e51e4febc"
      },
      "source": [
        "- np.max  will give the maximum value\n",
        "\n",
        "- np.argmax will give index of the maximum value"
      ]
    },
    {
      "cell_type": "code",
      "execution_count": null,
      "id": "e83fe128-d44b-4285-a877-b575af681e93",
      "metadata": {
        "id": "e83fe128-d44b-4285-a877-b575af681e93",
        "outputId": "9875d4f7-9d19-40a4-c6e4-fcde880c1259"
      },
      "outputs": [
        {
          "data": {
            "text/plain": [
              "3"
            ]
          },
          "execution_count": 11,
          "metadata": {},
          "output_type": "execute_result"
        }
      ],
      "source": [
        "np.argmax(silhouette_scores)\n"
      ]
    },
    {
      "cell_type": "code",
      "execution_count": null,
      "id": "7c134466-fe0c-401c-8e07-a9fad26f7670",
      "metadata": {
        "id": "7c134466-fe0c-401c-8e07-a9fad26f7670",
        "outputId": "219d17db-87c4-4a1a-b48a-bd7fdde8fa37"
      },
      "outputs": [
        {
          "name": "stdout",
          "output_type": "stream",
          "text": [
            "the index of maximum value is: 3\n",
            "the maximum value is: 0.553931997444648\n"
          ]
        },
        {
          "data": {
            "text/plain": [
              "5"
            ]
          },
          "execution_count": 20,
          "metadata": {},
          "output_type": "execute_result"
        }
      ],
      "source": [
        "silhouette_scores.index(max(silhouette_scores))  # one method\n",
        "print(\"the index of maximum value is:\",np.argmax(silhouette_scores))\n",
        "print(\"the maximum value is:\",np.max(silhouette_scores))\n",
        "k_values=range(2,11) # [2,3,4,5,6,7,8,9,10,11]\n",
        "k_values[3]\n",
        "\n",
        "# fisrt get the max values\n",
        "# second get the index of the max value\n",
        "# pass that index inthe list of cluster values ==== >5"
      ]
    },
    {
      "cell_type": "markdown",
      "id": "f3cdcfd2",
      "metadata": {
        "id": "f3cdcfd2"
      },
      "source": [
        "$Hierarchical$ $Cluster$"
      ]
    },
    {
      "cell_type": "code",
      "execution_count": null,
      "id": "e933d5ec",
      "metadata": {
        "id": "e933d5ec"
      },
      "outputs": [],
      "source": [
        "# Import the packages\n",
        "import numpy as np\n",
        "import pandas as pd\n",
        "import matplotlib.pyplot as plt\n",
        "\n",
        "\n",
        "\n",
        "# Read the data:\n",
        "data=pd.read_csv(\"Mall_Customers.csv\")\n",
        "\n",
        "X=data.iloc[:,[3,4]].values\n"
      ]
    },
    {
      "cell_type": "code",
      "execution_count": null,
      "id": "f32059cc",
      "metadata": {
        "id": "f32059cc"
      },
      "outputs": [],
      "source": [
        "import scipy.cluster.hierarchy as sch"
      ]
    },
    {
      "cell_type": "markdown",
      "id": "20bb06a8",
      "metadata": {
        "id": "20bb06a8"
      },
      "source": [
        "**Linkage functions**\n",
        "\n",
        "- Every observation consider as one cluster\n",
        "\n",
        "- Based on symmetry matrix we form the groups\n",
        "\n",
        "- Linkage functions\n",
        "\n",
        "    - Simple linkage : Less distance that means more realtion\n",
        "    \n",
        "    - Complete linkage : Max distance that means less realtion\n",
        "    \n",
        "    - Average Ward Method"
      ]
    },
    {
      "cell_type": "code",
      "execution_count": null,
      "id": "44e08ad2",
      "metadata": {
        "id": "44e08ad2",
        "outputId": "94d61002-e46f-4e35-c665-53024212481c"
      },
      "outputs": [
        {
          "data": {
            "text/plain": [
              "array([[ 0.        ,  1.        ,  1.41421356,  2.        ],\n",
              "       [ 4.        ,  6.        ,  4.24264069,  3.        ],\n",
              "       [ 2.        ,  3.        ,  5.        ,  2.        ],\n",
              "       [ 7.        ,  8.        ,  5.65685425,  5.        ],\n",
              "       [ 5.        ,  9.        , 10.19803903,  6.        ]])"
            ]
          },
          "execution_count": 21,
          "metadata": {},
          "output_type": "execute_result"
        }
      ],
      "source": [
        "import scipy.cluster.hierarchy as sch\n",
        "val=[[2,5],[3,6],[7,10],[12,10],[6,3],[10,20]]\n",
        "sch.linkage(val)"
      ]
    },
    {
      "cell_type": "code",
      "execution_count": null,
      "id": "c12ffd24",
      "metadata": {
        "id": "c12ffd24",
        "outputId": "4d7a0dce-b5cf-495f-ff8e-b9e295a31842"
      },
      "outputs": [
        {
          "data": {
            "image/png": "[encoded data removed]",
            "text/plain": [
              "<Figure size 640x480 with 1 Axes>"
            ]
          },
          "metadata": {},
          "output_type": "display_data"
        }
      ],
      "source": [
        "import matplotlib.pyplot as plt\n",
        "dendogram=sch.dendrogram(sch.linkage(val,method='single'))\n",
        "plt.title(\"Dendrogram\")\n",
        "plt.xlabel(\"Customers\")\n",
        "plt.ylabel(\"Distance\")\n",
        "plt.show()\n",
        "\n",
        "val=[[2,5],[3,6],[7,10],[12,10],[6,3],[10,20]]"
      ]
    },
    {
      "cell_type": "code",
      "execution_count": null,
      "id": "447e585c",
      "metadata": {
        "id": "447e585c",
        "outputId": "d106e2a2-5461-4358-9210-577adc04e95c"
      },
      "outputs": [
        {
          "data": {
            "text/plain": [
              "array([[ 48.        ,  49.        ,   0.        ,   2.        ],\n",
              "       [ 65.        ,  68.        ,   0.        ,   2.        ],\n",
              "       [156.        , 158.        ,   0.        ,   2.        ],\n",
              "       [129.        , 131.        ,   0.        ,   2.        ],\n",
              "       [ 67.        ,  69.        ,   1.        ,   2.        ],\n",
              "       [ 64.        ,  66.        ,   1.        ,   2.        ],\n",
              "       [ 60.        ,  61.        ,   1.        ,   2.        ],\n",
              "       [ 63.        , 201.        ,   1.        ,   3.        ],\n",
              "       [ 51.        ,  53.        ,   1.        ,   2.        ],\n",
              "       [ 74.        ,  77.        ,   1.        ,   2.        ],\n",
              "       [ 85.        , 209.        ,   1.        ,   3.        ],\n",
              "       [ 79.        ,  82.        ,   1.        ,   2.        ],\n",
              "       [ 78.        ,  80.        ,   1.        ,   2.        ],\n",
              "       [ 76.        , 212.        ,   1.        ,   3.        ],\n",
              "       [ 75.        , 213.        ,   1.        ,   4.        ],\n",
              "       [ 81.        , 214.        ,   1.        ,   5.        ],\n",
              "       [103.        , 104.        ,   1.        ,   2.        ],\n",
              "       [101.        , 109.        ,   1.        ,   2.        ],\n",
              "       [ 92.        ,  99.        ,   1.        ,   2.        ],\n",
              "       [ 97.        , 218.        ,   1.        ,   3.        ],\n",
              "       [107.        , 113.        ,   1.        ,   2.        ],\n",
              "       [ 98.        , 105.        ,   1.        ,   2.        ],\n",
              "       [ 94.        , 221.        ,   1.        ,   3.        ],\n",
              "       [100.        , 222.        ,   1.        ,   4.        ],\n",
              "       [119.        , 120.        ,   1.        ,   2.        ],\n",
              "       [ 21.        ,  23.        ,   1.        ,   2.        ],\n",
              "       [150.        , 154.        ,   1.        ,   2.        ],\n",
              "       [170.        , 174.        ,   1.        ,   2.        ],\n",
              "       [151.        , 155.        ,   1.        ,   2.        ],\n",
              "       [149.        , 228.        ,   1.        ,   3.        ],\n",
              "       [ 26.        ,  28.        ,   1.41421356,   2.        ],\n",
              "       [ 40.        ,  42.        ,   1.41421356,   2.        ],\n",
              "       [ 54.        ,  57.        ,   1.41421356,   2.        ],\n",
              "       [ 62.        , 205.        ,   1.41421356,   3.        ],\n",
              "       [ 58.        , 233.        ,   1.41421356,   4.        ],\n",
              "       [ 70.        ,  73.        ,   1.41421356,   2.        ],\n",
              "       [111.        , 216.        ,   1.41421356,   3.        ],\n",
              "       [217.        , 219.        ,   1.41421356,   5.        ],\n",
              "       [108.        , 223.        ,   1.41421356,   5.        ],\n",
              "       [ 91.        , 238.        ,   1.41421356,   6.        ],\n",
              "       [ 93.        , 239.        ,   1.41421356,   7.        ],\n",
              "       [112.        , 240.        ,   1.41421356,   8.        ],\n",
              "       [116.        , 241.        ,   1.41421356,   9.        ],\n",
              "       [126.        , 132.        ,   1.41421356,   2.        ],\n",
              "       [  3.        ,   5.        ,   1.41421356,   2.        ],\n",
              "       [ 10.        ,  12.        ,   1.41421356,   2.        ],\n",
              "       [ 14.        , 245.        ,   1.41421356,   3.        ],\n",
              "       [137.        , 139.        ,   1.41421356,   2.        ],\n",
              "       [147.        , 159.        ,   1.41421356,   2.        ],\n",
              "       [ 59.        , 232.        ,   2.        ,   3.        ],\n",
              "       [204.        , 234.        ,   2.        ,   6.        ],\n",
              "       [ 83.        , 210.        ,   2.        ,   4.        ],\n",
              "       [211.        , 251.        ,   2.        ,   6.        ],\n",
              "       [ 84.        , 215.        ,   2.        ,   6.        ],\n",
              "       [ 87.        ,  90.        ,   2.        ,   2.        ],\n",
              "       [110.        , 236.        ,   2.        ,   4.        ],\n",
              "       [106.        , 255.        ,   2.        ,   5.        ],\n",
              "       [237.        , 256.        ,   2.        ,  10.        ],\n",
              "       [ 95.        , 257.        ,   2.        ,  11.        ],\n",
              "       [ 96.        , 258.        ,   2.        ,  12.        ],\n",
              "       [220.        , 259.        ,   2.        ,  14.        ],\n",
              "       [114.        , 260.        ,   2.        ,  15.        ],\n",
              "       [115.        , 261.        ,   2.        ,  16.        ],\n",
              "       [118.        , 242.        ,   2.        ,  10.        ],\n",
              "       [ 13.        ,  15.        ,   2.        ,   2.        ],\n",
              "       [  2.        ,   6.        ,   2.        ,   2.        ],\n",
              "       [148.        , 152.        ,   2.        ,   2.        ],\n",
              "       [128.        , 130.        ,   2.        ,   2.        ],\n",
              "       [134.        , 136.        ,   2.        ,   2.        ],\n",
              "       [140.        , 268.        ,   2.        ,   3.        ],\n",
              "       [176.        , 227.        ,   2.        ,   3.        ],\n",
              "       [153.        , 157.        ,   2.        ,   2.        ],\n",
              "       [165.        , 171.        ,   2.        ,   2.        ],\n",
              "       [  0.        ,   4.        ,   2.23606798,   2.        ],\n",
              "       [249.        , 250.        ,   2.23606798,   9.        ],\n",
              "       [ 56.        , 274.        ,   2.23606798,  10.        ],\n",
              "       [ 72.        , 275.        ,   2.23606798,  11.        ],\n",
              "       [ 50.        ,  52.        ,   2.23606798,   2.        ],\n",
              "       [ 86.        ,  88.        ,   2.23606798,   2.        ],\n",
              "       [ 89.        , 262.        ,   2.23606798,  17.        ],\n",
              "       [122.        , 224.        ,   2.23606798,   3.        ],\n",
              "       [146.        , 160.        ,   2.23606798,   2.        ],\n",
              "       [186.        , 190.        ,   2.23606798,   2.        ],\n",
              "       [164.        , 168.        ,   2.23606798,   2.        ],\n",
              "       [133.        , 247.        ,   2.23606798,   3.        ],\n",
              "       [125.        , 203.        ,   2.23606798,   3.        ],\n",
              "       [248.        , 271.        ,   2.23606798,   4.        ],\n",
              "       [143.        , 229.        ,   2.23606798,   4.        ],\n",
              "       [181.        , 183.        ,   2.23606798,   2.        ],\n",
              "       [187.        , 191.        ,   2.23606798,   2.        ],\n",
              "       [ 38.        ,  44.        ,   2.82842712,   2.        ],\n",
              "       [276.        , 277.        ,   2.82842712,  13.        ],\n",
              "       [117.        , 280.        ,   2.82842712,   4.        ],\n",
              "       [267.        , 269.        ,   2.82842712,   5.        ],\n",
              "       [284.        , 285.        ,   2.82842712,   6.        ],\n",
              "       [ 16.        ,  20.        ,   3.        ,   2.        ],\n",
              "       [206.        , 235.        ,   3.        ,   4.        ],\n",
              "       [252.        , 253.        ,   3.        ,  12.        ],\n",
              "       [254.        , 297.        ,   3.        ,  14.        ],\n",
              "       [278.        , 298.        ,   3.        ,  16.        ],\n",
              "       [279.        , 299.        ,   3.        ,  33.        ],\n",
              "       [102.        , 300.        ,   3.        ,  34.        ],\n",
              "       [263.        , 301.        ,   3.        ,  44.        ],\n",
              "       [292.        , 302.        ,   3.        ,  48.        ],\n",
              "       [121.        , 303.        ,   3.        ,  49.        ],\n",
              "       [ 30.        ,  32.        ,   3.        ,   2.        ],\n",
              "       [226.        , 266.        ,   3.        ,   4.        ],\n",
              "       [172.        , 270.        ,   3.        ,   4.        ],\n",
              "       [ 55.        , 200.        ,   3.16227766,   3.        ],\n",
              "       [ 46.        , 291.        ,   3.16227766,  14.        ],\n",
              "       [296.        , 309.        ,   3.16227766,  18.        ],\n",
              "       [207.        , 310.        ,   3.16227766,  21.        ],\n",
              "       [ 43.        , 208.        ,   3.16227766,   3.        ],\n",
              "       [244.        , 264.        ,   3.16227766,   4.        ],\n",
              "       [ 34.        ,  36.        ,   3.16227766,   2.        ],\n",
              "       [  8.        , 265.        ,   3.16227766,   3.        ],\n",
              "       [138.        , 293.        ,   3.16227766,   6.        ],\n",
              "       [135.        , 287.        ,   3.16227766,   5.        ],\n",
              "       [167.        , 173.        ,   3.16227766,   2.        ],\n",
              "       [ 47.        , 311.        ,   3.60555128,  22.        ],\n",
              "       [ 37.        ,  39.        ,   3.60555128,   2.        ],\n",
              "       [144.        , 316.        ,   3.60555128,   7.        ],\n",
              "       [286.        , 294.        ,   3.60555128,  10.        ],\n",
              "       [308.        , 319.        ,   4.        ,  25.        ],\n",
              "       [ 45.        , 312.        ,   4.        ,   4.        ],\n",
              "       [ 31.        , 320.        ,   4.        ,   3.        ],\n",
              "       [323.        , 324.        ,   4.12310563,  29.        ],\n",
              "       [304.        , 326.        ,   4.12310563,  78.        ],\n",
              "       [142.        , 281.        ,   4.12310563,   3.        ],\n",
              "       [  1.        , 313.        ,   4.12310563,   5.        ],\n",
              "       [306.        , 321.        ,   4.12310563,  11.        ],\n",
              "       [ 11.        ,  19.        ,   4.12310563,   2.        ],\n",
              "       [141.        , 317.        ,   4.24264069,   6.        ],\n",
              "       [163.        , 332.        ,   4.24264069,   7.        ],\n",
              "       [  9.        , 329.        ,   4.47213595,   6.        ],\n",
              "       [127.        , 333.        ,   4.47213595,   8.        ],\n",
              "       [123.        , 335.        ,   4.47213595,   9.        ],\n",
              "       [145.        , 336.        ,   4.47213595,  10.        ],\n",
              "       [230.        , 295.        ,   5.        ,   4.        ],\n",
              "       [ 71.        , 327.        ,   5.        ,  79.        ],\n",
              "       [225.        , 325.        ,   5.        ,   5.        ],\n",
              "       [ 33.        ,  41.        ,   5.        ,   2.        ],\n",
              "       [ 24.        , 314.        ,   5.        ,   3.        ],\n",
              "       [202.        , 330.        ,   5.        ,  13.        ],\n",
              "       [162.        , 343.        ,   5.        ,  14.        ],\n",
              "       [161.        , 337.        ,   5.        ,  11.        ],\n",
              "       [334.        , 340.        ,   5.09901951,  11.        ],\n",
              "       [ 25.        ,  35.        ,   5.09901951,   2.        ],\n",
              "       [ 29.        , 347.        ,   5.09901951,   3.        ],\n",
              "       [ 22.        , 305.        ,   5.09901951,   3.        ],\n",
              "       [178.        , 307.        ,   5.09901951,   5.        ],\n",
              "       [182.        , 350.        ,   5.09901951,   6.        ],\n",
              "       [  7.        , 331.        ,   5.09901951,   3.        ],\n",
              "       [322.        , 345.        ,   5.09901951,  21.        ],\n",
              "       [124.        , 243.        ,   5.38516481,   3.        ],\n",
              "       [328.        , 354.        ,   5.38516481,   6.        ],\n",
              "       [166.        , 351.        ,   5.38516481,   7.        ],\n",
              "       [188.        , 356.        ,   5.38516481,   8.        ],\n",
              "       [318.        , 353.        ,   5.38516481,  23.        ],\n",
              "       [179.        , 288.        ,   5.38516481,   3.        ],\n",
              "       [ 18.        , 338.        ,   5.83095189,   5.        ],\n",
              "       [189.        , 359.        ,   5.83095189,   4.        ],\n",
              "       [282.        , 357.        ,   6.        ,  10.        ],\n",
              "       [231.        , 339.        ,   6.08276253,  81.        ],\n",
              "       [283.        , 362.        ,   6.08276253,  12.        ],\n",
              "       [175.        , 358.        ,   6.08276253,  24.        ],\n",
              "       [177.        , 272.        ,   6.08276253,   3.        ],\n",
              "       [169.        , 366.        ,   6.08276253,   4.        ],\n",
              "       [ 17.        , 346.        ,   6.32455532,  12.        ],\n",
              "       [315.        , 349.        ,   6.32455532,   6.        ],\n",
              "       [361.        , 365.        ,   6.32455532,  28.        ],\n",
              "       [273.        , 360.        ,   6.40312424,   7.        ],\n",
              "       [355.        , 363.        ,   6.40312424,  87.        ],\n",
              "       [341.        , 348.        ,   6.40312424,   5.        ],\n",
              "       [290.        , 372.        ,   7.07106781,  89.        ],\n",
              "       [367.        , 370.        ,   7.07106781,  32.        ],\n",
              "       [368.        , 373.        ,   7.21110255,  17.        ],\n",
              "       [246.        , 369.        ,   7.28010989,   9.        ],\n",
              "       [180.        , 184.        ,   7.28010989,   2.        ],\n",
              "       [344.        , 364.        ,   7.81024968,  26.        ],\n",
              "       [195.        , 197.        ,   7.81024968,   2.        ],\n",
              "       [342.        , 377.        ,   8.06225775,  12.        ],\n",
              "       [ 27.        , 376.        ,   8.60232527,  18.        ],\n",
              "       [378.        , 379.        ,   8.94427191,  28.        ],\n",
              "       [185.        , 375.        ,   9.05538514,  33.        ],\n",
              "       [371.        , 374.        ,   9.43398113,  96.        ],\n",
              "       [382.        , 385.        ,   9.43398113, 114.        ],\n",
              "       [381.        , 386.        ,   9.48683298, 126.        ],\n",
              "       [383.        , 387.        ,  10.63014581, 154.        ],\n",
              "       [192.        , 194.        ,  10.63014581,   2.        ],\n",
              "       [352.        , 388.        ,  11.66190379, 157.        ],\n",
              "       [193.        , 384.        ,  11.66190379,  34.        ],\n",
              "       [289.        , 391.        ,  13.03840481,  36.        ],\n",
              "       [390.        , 392.        ,  13.34166406, 193.        ],\n",
              "       [196.        , 389.        ,  13.41640786,   3.        ],\n",
              "       [393.        , 394.        ,  13.45362405, 196.        ],\n",
              "       [380.        , 395.        ,  13.89244399, 198.        ],\n",
              "       [199.        , 396.        ,  14.2126704 , 199.        ],\n",
              "       [198.        , 397.        ,  14.86606875, 200.        ]])"
            ]
          },
          "execution_count": 4,
          "metadata": {},
          "output_type": "execute_result"
        }
      ],
      "source": [
        "sch.linkage(X,method='single')"
      ]
    },
    {
      "cell_type": "code",
      "execution_count": null,
      "id": "3fa9f7ec",
      "metadata": {
        "id": "3fa9f7ec",
        "outputId": "5f5d41f6-f11c-4193-e579-7b9105c92a63"
      },
      "outputs": [
        {
          "data": {
            "image/png": "[encoded data removed]",
            "text/plain": [
              "<Figure size 1000x1000 with 1 Axes>"
            ]
          },
          "metadata": {},
          "output_type": "display_data"
        }
      ],
      "source": [
        "# Dendogram using Single\n",
        "plt.figure(figsize=(10,10))\n",
        "dendogram=sch.dendrogram(sch.linkage(X,method='single'))\n",
        "plt.title(\"Dendrogram\")\n",
        "plt.xlabel(\"Customers\")\n",
        "plt.ylabel(\"Distance\")\n",
        "plt.show()"
      ]
    },
    {
      "cell_type": "code",
      "execution_count": null,
      "id": "c9e559ff",
      "metadata": {
        "id": "c9e559ff",
        "outputId": "31552e66-dfb9-4eb2-df5d-f661c59bc7f8"
      },
      "outputs": [
        {
          "data": {
            "image/png": "[encoded data removed]",
            "text/plain": [
              "<Figure size 640x480 with 1 Axes>"
            ]
          },
          "metadata": {},
          "output_type": "display_data"
        }
      ],
      "source": [
        "dendogram=sch.dendrogram(sch.linkage(X,method='complete'))\n",
        "plt.title(\"Dendogram\")\n",
        "plt.xlabel(\"Customers\")\n",
        "plt.ylabel(\"Distance\")\n",
        "plt.show()"
      ]
    },
    {
      "cell_type": "code",
      "execution_count": null,
      "id": "b20b7577",
      "metadata": {
        "id": "b20b7577",
        "outputId": "8e0d010b-21ff-4ff5-e414-6345d08cd891"
      },
      "outputs": [
        {
          "data": {
            "image/png": "[encoded data removed]",
            "text/plain": [
              "<Figure size 640x480 with 1 Axes>"
            ]
          },
          "metadata": {},
          "output_type": "display_data"
        }
      ],
      "source": [
        "dendogram=sch.dendrogram(sch.linkage(X,method='ward'))\n",
        "plt.title(\"Dendogram\")\n",
        "plt.xlabel(\"Customers\")\n",
        "plt.ylabel(\"Distance\")\n",
        "plt.show()"
      ]
    },
    {
      "cell_type": "code",
      "execution_count": null,
      "id": "7ab8389a",
      "metadata": {
        "id": "7ab8389a"
      },
      "outputs": [],
      "source": [
        "#Method-2"
      ]
    },
    {
      "cell_type": "code",
      "execution_count": null,
      "id": "1b354273",
      "metadata": {
        "id": "1b354273",
        "outputId": "5b026f80-87d0-41c2-9585-390f50f97cc6"
      },
      "outputs": [
        {
          "data": {
            "text/plain": [
              "array([4, 3, 4, 3, 4, 3, 4, 3, 4, 3, 4, 3, 4, 3, 4, 3, 4, 3, 4, 3, 4, 3,\n",
              "       4, 3, 4, 3, 4, 3, 4, 3, 4, 3, 4, 3, 4, 3, 4, 3, 4, 3, 4, 3, 4, 1,\n",
              "       4, 1, 1, 1, 1, 1, 1, 1, 1, 1, 1, 1, 1, 1, 1, 1, 1, 1, 1, 1, 1, 1,\n",
              "       1, 1, 1, 1, 1, 1, 1, 1, 1, 1, 1, 1, 1, 1, 1, 1, 1, 1, 1, 1, 1, 1,\n",
              "       1, 1, 1, 1, 1, 1, 1, 1, 1, 1, 1, 1, 1, 1, 1, 1, 1, 1, 1, 1, 1, 1,\n",
              "       1, 1, 1, 1, 1, 1, 1, 1, 1, 1, 1, 1, 1, 2, 1, 2, 1, 2, 0, 2, 0, 2,\n",
              "       1, 2, 0, 2, 0, 2, 0, 2, 0, 2, 1, 2, 0, 2, 1, 2, 0, 2, 0, 2, 0, 2,\n",
              "       0, 2, 0, 2, 0, 2, 1, 2, 0, 2, 0, 2, 0, 2, 0, 2, 0, 2, 0, 2, 0, 2,\n",
              "       0, 2, 0, 2, 0, 2, 0, 2, 0, 2, 0, 2, 0, 2, 0, 2, 0, 2, 0, 2, 0, 2,\n",
              "       0, 2], dtype=int64)"
            ]
          },
          "execution_count": 3,
          "metadata": {},
          "output_type": "execute_result"
        }
      ],
      "source": [
        "from sklearn.cluster import AgglomerativeClustering\n",
        "import warnings\n",
        "warnings.filterwarnings(\"ignore\")\n",
        "hc=AgglomerativeClustering(n_clusters=5,\n",
        "                           #affinity='euclidean', # shift+tab write the correct one\n",
        "                           metric='euclidean',\n",
        "                           linkage='ward')\n",
        "y_hc=hc.fit_predict(X)\n",
        "y_hc\n",
        "\n",
        "# Those who are getting error affinity\n",
        "# metric='euclidean'"
      ]
    },
    {
      "cell_type": "code",
      "execution_count": null,
      "id": "0933caa7",
      "metadata": {
        "id": "0933caa7",
        "outputId": "aa7d65c9-ff24-4272-ea79-2563b242de27"
      },
      "outputs": [
        {
          "data": {
            "text/plain": [
              "array([0, 2, 0, 2, 0, 2, 0, 2, 0, 2, 0, 2, 0, 2, 0, 2, 0, 2, 0, 2, 0, 2,\n",
              "       0, 2, 0, 2, 0, 2, 0, 2, 0, 2, 0, 2, 0, 2, 0, 2, 0, 2, 0, 2, 0, 4,\n",
              "       0, 2, 4, 4, 4, 4, 4, 4, 4, 4, 4, 4, 4, 4, 4, 4, 4, 4, 4, 4, 4, 4,\n",
              "       4, 4, 4, 4, 4, 4, 4, 4, 4, 4, 4, 4, 4, 4, 4, 4, 4, 4, 4, 4, 4, 4,\n",
              "       4, 4, 4, 4, 4, 4, 4, 4, 4, 4, 4, 4, 4, 4, 4, 4, 4, 4, 4, 4, 4, 4,\n",
              "       4, 4, 4, 4, 4, 4, 4, 4, 4, 4, 4, 4, 4, 1, 3, 1, 4, 1, 3, 1, 3, 1,\n",
              "       4, 1, 3, 1, 3, 1, 3, 1, 3, 1, 4, 1, 3, 1, 3, 1, 3, 1, 3, 1, 3, 1,\n",
              "       3, 1, 3, 1, 3, 1, 3, 1, 3, 1, 3, 1, 3, 1, 3, 1, 3, 1, 3, 1, 3, 1,\n",
              "       3, 1, 3, 1, 3, 1, 3, 1, 3, 1, 3, 1, 3, 1, 3, 1, 3, 1, 3, 1, 3, 1,\n",
              "       3, 1])"
            ]
          },
          "execution_count": 42,
          "metadata": {},
          "output_type": "execute_result"
        }
      ],
      "source": [
        "y_clusters # kmeans cluster"
      ]
    },
    {
      "cell_type": "code",
      "execution_count": null,
      "id": "c7affd26",
      "metadata": {
        "id": "c7affd26"
      },
      "outputs": [],
      "source": [
        "k-means ======= > 1 sample , 3rd sample ======= > 0\n",
        "hch =========== > 1 sample , 3rd sample ======= > 4"
      ]
    },
    {
      "cell_type": "code",
      "execution_count": null,
      "id": "dac87005",
      "metadata": {
        "id": "dac87005",
        "outputId": "0cf912a6-c827-433b-89c1-883311e5d01e"
      },
      "outputs": [
        {
          "data": {
            "image/png": "[encoded data removed]",
            "text/plain": [
              "<Figure size 1200x800 with 1 Axes>"
            ]
          },
          "metadata": {},
          "output_type": "display_data"
        }
      ],
      "source": [
        "# Visulaize the clusters\n",
        "# We are applying scatter plot between income and spending score w.r.t to clusters\n",
        "plt.figure(figsize=(12,8))\n",
        "plt.scatter(X[y_hc==0,0],X[y_hc==0,1],s=100,c='red',label=\"Cluster1\")\n",
        "plt.scatter(X[y_hc==1,0],X[y_hc==1,1],s=100,c='blue',label=\"Cluster2\")\n",
        "plt.scatter(X[y_hc==2,0],X[y_hc==2,1],s=100,c='green',label=\"Cluster3\")\n",
        "plt.scatter(X[y_hc==3,0],X[y_hc==3,1],s=100,c='cyan',label=\"Cluster4\")\n",
        "plt.scatter(X[y_hc==4,0],X[y_hc==4,1],s=100,c='magenta',label=\"Cluster5\")\n",
        "#plt.scatter(kmeans.cluster_centers_[:,0],kmeans.cluster_centers_[:,1],s=300,c='yellow',label='Centriods')\n",
        "plt.title(\"Clusters using Hierarchical\")\n",
        "plt.xlabel(\"Annual Income\")\n",
        "plt.ylabel(\"Spending score\")\n",
        "plt.legend()\n",
        "plt.show()"
      ]
    },
    {
      "cell_type": "code",
      "execution_count": null,
      "id": "f33f2ae5",
      "metadata": {
        "id": "f33f2ae5"
      },
      "outputs": [],
      "source": [
        "# silouthe score"
      ]
    }
  ],
  "metadata": {
    "kernelspec": {
      "display_name": "Python 3 (ipykernel)",
      "language": "python",
      "name": "python3"
    },
    "language_info": {
      "codemirror_mode": {
        "name": "ipython",
        "version": 3
      },
      "file_extension": ".py",
      "mimetype": "text/x-python",
      "name": "python",
      "nbconvert_exporter": "python",
      "pygments_lexer": "ipython3",
      "version": "3.11.7"
    },
    "colab": {
      "provenance": [],
      "include_colab_link": true
    }
  },
  "nbformat": 4,
  "nbformat_minor": 5
}