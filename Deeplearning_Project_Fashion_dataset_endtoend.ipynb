{
  "nbformat": 4,
  "nbformat_minor": 0,
  "metadata": {
    "colab": {
      "provenance": [],
      "include_colab_link": true
    },
    "kernelspec": {
      "name": "python3",
      "display_name": "Python 3"
    },
    "language_info": {
      "name": "python"
    }
  },
  "cells": [
    {
      "cell_type": "markdown",
      "metadata": {
        "id": "view-in-github",
        "colab_type": "text"
      },
      "source": [
        "<a href=\"https://colab.research.google.com/github/ShridharBagalkote/python/blob/main/Deeplearning_Project_Fashion_dataset_endtoend.ipynb\" target=\"_parent\"><img src=\"https://colab.research.google.com/assets/colab-badge.svg\" alt=\"Open In Colab\"/></a>"
      ]
    },
    {
      "cell_type": "markdown",
      "source": [
        "The necessary python libraries are imported here-\n",
        "\n",
        "- **numpy** is used to perform math operations.\n",
        "\n",
        "- **pyplot** from matplotlib is used to visualize the results.\n",
        "\n",
        "- **pandas** is used to read the dataset.\n",
        "\n",
        "- **tensorflow** is a deep learning framework (Google)\n",
        "\n",
        "- **keras** is a deep learning framework\n",
        "\n",
        "    - keras is a backend of tensorflow\n",
        "\n",
        "- **pytorch** is a deep learning framework (Facebook)"
      ],
      "metadata": {
        "id": "y1lfMkZXCUrg"
      }
    },
    {
      "cell_type": "code",
      "source": [
        "# tensorflow is developed by google\n",
        "# tensorflow langauge is always based on tensors\n",
        "# list === numpy array  === tensors (vector represenation)\n",
        "# writing only tensorflow code is littile tricky\n",
        "# so we use keras as backend of tensorflow"
      ],
      "metadata": {
        "id": "MjSwvCkIvvuk"
      },
      "execution_count": null,
      "outputs": []
    },
    {
      "cell_type": "code",
      "source": [
        "\n",
        "# [1,2,3,4]\n",
        "# array([1,2,3,4])\n",
        "# tensor([1,2,3,4])\n",
        "# torch([1,2,3,4])"
      ],
      "metadata": {
        "id": "hfGRwQgMGAXW"
      },
      "execution_count": null,
      "outputs": []
    },
    {
      "cell_type": "code",
      "source": [
        "import tensorflow as tf\n",
        "from tensorflow import keras\n",
        "import numpy as np\n",
        "import pandas as pd\n",
        "import matplotlib.pyplot as plt"
      ],
      "metadata": {
        "id": "W-3_tkK0CmVD"
      },
      "execution_count": null,
      "outputs": []
    },
    {
      "cell_type": "code",
      "source": [
        "print(tf.__version__)"
      ],
      "metadata": {
        "colab": {
          "base_uri": "https://localhost:8080/"
        },
        "id": "6eXyPPRKC4FM",
        "outputId": "69cf608a-9a3a-41fb-f7c5-471c6ce6a6fe"
      },
      "execution_count": null,
      "outputs": [
        {
          "output_type": "stream",
          "name": "stdout",
          "text": [
            "2.17.1\n"
          ]
        }
      ]
    },
    {
      "cell_type": "markdown",
      "source": [
        "- tensorflow is a google product\n",
        "\n",
        "- we no need to install when we use google colab\n",
        "\n",
        "- if you want to use in the local laptop we need to install\n",
        "\n",
        "- it will works more efficiently in google colab\n",
        "\n",
        "- keras is a backend of tensorflow\n",
        "\n",
        "- it will help to create the NN is easy"
      ],
      "metadata": {
        "id": "52Vmk9Ln2_5s"
      }
    },
    {
      "cell_type": "code",
      "source": [
        "\n",
        "a=10\n",
        "b=20\n",
        "a+b\n",
        "\n",
        "np.array(10)+np.array(20)\n",
        "tf.constant(10).numpy()+tf.constant(20).numpy()"
      ],
      "metadata": {
        "colab": {
          "base_uri": "https://localhost:8080/"
        },
        "id": "G07c1pJv3ZsA",
        "outputId": "cc25637a-76a0-44b5-f06e-3b73696dd1fa"
      },
      "execution_count": null,
      "outputs": [
        {
          "output_type": "execute_result",
          "data": {
            "text/plain": [
              "30"
            ]
          },
          "metadata": {},
          "execution_count": 119
        }
      ]
    },
    {
      "cell_type": "code",
      "source": [
        "tf.Variable([1,2,3,4]).numpy()"
      ],
      "metadata": {
        "colab": {
          "base_uri": "https://localhost:8080/"
        },
        "id": "rvomEqyF3xRQ",
        "outputId": "2ccc5222-8da5-433b-b7dd-4b4d717c1a8a"
      },
      "execution_count": null,
      "outputs": [
        {
          "output_type": "execute_result",
          "data": {
            "text/plain": [
              "array([1, 2, 3, 4], dtype=int32)"
            ]
          },
          "metadata": {},
          "execution_count": 120
        }
      ]
    },
    {
      "cell_type": "markdown",
      "source": [
        "**Here we are loading the fashion_mnist dataset from keras**"
      ],
      "metadata": {
        "id": "DXLipvLhC-4F"
      }
    },
    {
      "cell_type": "code",
      "source": [
        "dir(keras)"
      ],
      "metadata": {
        "colab": {
          "base_uri": "https://localhost:8080/"
        },
        "id": "1EZq1lsy5QAM",
        "outputId": "916793fc-9375-4305-fc45-8523be23c725"
      },
      "execution_count": null,
      "outputs": [
        {
          "output_type": "execute_result",
          "data": {
            "text/plain": [
              "['DTypePolicy',\n",
              " 'FloatDTypePolicy',\n",
              " 'Function',\n",
              " 'Initializer',\n",
              " 'Input',\n",
              " 'InputSpec',\n",
              " 'KerasTensor',\n",
              " 'Layer',\n",
              " 'Loss',\n",
              " 'Metric',\n",
              " 'Model',\n",
              " 'Operation',\n",
              " 'Optimizer',\n",
              " 'Quantizer',\n",
              " 'Regularizer',\n",
              " 'Sequential',\n",
              " 'StatelessScope',\n",
              " 'SymbolicScope',\n",
              " 'Variable',\n",
              " '__builtins__',\n",
              " '__cached__',\n",
              " '__doc__',\n",
              " '__file__',\n",
              " '__loader__',\n",
              " '__name__',\n",
              " '__package__',\n",
              " '__path__',\n",
              " '__spec__',\n",
              " '__version__',\n",
              " 'activations',\n",
              " 'applications',\n",
              " 'backend',\n",
              " 'callbacks',\n",
              " 'config',\n",
              " 'constraints',\n",
              " 'datasets',\n",
              " 'device',\n",
              " 'distribution',\n",
              " 'dtype_policies',\n",
              " 'export',\n",
              " 'initializers',\n",
              " 'layers',\n",
              " 'legacy',\n",
              " 'losses',\n",
              " 'metrics',\n",
              " 'mixed_precision',\n",
              " 'models',\n",
              " 'name_scope',\n",
              " 'ops',\n",
              " 'optimizers',\n",
              " 'preprocessing',\n",
              " 'quantizers',\n",
              " 'random',\n",
              " 'regularizers',\n",
              " 'tree',\n",
              " 'utils',\n",
              " 'version']"
            ]
          },
          "metadata": {},
          "execution_count": 121
        }
      ]
    },
    {
      "cell_type": "code",
      "source": [
        "dir(keras.datasets)"
      ],
      "metadata": {
        "colab": {
          "base_uri": "https://localhost:8080/"
        },
        "id": "dJZp8XIdwqki",
        "outputId": "2b6599a8-ddaa-49d9-f812-922cbf66564f"
      },
      "execution_count": null,
      "outputs": [
        {
          "output_type": "execute_result",
          "data": {
            "text/plain": [
              "['__builtins__',\n",
              " '__cached__',\n",
              " '__doc__',\n",
              " '__file__',\n",
              " '__loader__',\n",
              " '__name__',\n",
              " '__package__',\n",
              " '__path__',\n",
              " '__spec__',\n",
              " 'boston_housing',\n",
              " 'california_housing',\n",
              " 'cifar10',\n",
              " 'cifar100',\n",
              " 'fashion_mnist',\n",
              " 'imdb',\n",
              " 'mnist',\n",
              " 'reuters']"
            ]
          },
          "metadata": {},
          "execution_count": 122
        }
      ]
    },
    {
      "cell_type": "code",
      "source": [
        "mnist = keras.datasets.fashion_mnist\n",
        "#The dataset is downloaded in TFModuleWrapper."
      ],
      "metadata": {
        "id": "R59SDTAiC72Z"
      },
      "execution_count": null,
      "outputs": []
    },
    {
      "cell_type": "code",
      "source": [
        "mnist"
      ],
      "metadata": {
        "colab": {
          "base_uri": "https://localhost:8080/"
        },
        "id": "snIduNCQDFoS",
        "outputId": "9799342f-3f6d-46b6-b025-57cd7d8f8419"
      },
      "execution_count": null,
      "outputs": [
        {
          "output_type": "execute_result",
          "data": {
            "text/plain": [
              "<module 'keras.api.datasets.fashion_mnist' from '/usr/local/lib/python3.10/dist-packages/keras/api/datasets/fashion_mnist/__init__.py'>"
            ]
          },
          "metadata": {},
          "execution_count": 124
        }
      ]
    },
    {
      "cell_type": "code",
      "source": [
        "type(mnist)"
      ],
      "metadata": {
        "colab": {
          "base_uri": "https://localhost:8080/"
        },
        "id": "CFbCfHPbDH7A",
        "outputId": "b0cfa3ca-1ae7-43a8-f59f-ac5738ffaae6"
      },
      "execution_count": null,
      "outputs": [
        {
          "output_type": "execute_result",
          "data": {
            "text/plain": [
              "module"
            ]
          },
          "metadata": {},
          "execution_count": 125
        }
      ]
    },
    {
      "cell_type": "code",
      "source": [
        "dir(mnist)"
      ],
      "metadata": {
        "colab": {
          "base_uri": "https://localhost:8080/"
        },
        "id": "RrVkHEMZLlrX",
        "outputId": "b4f268ee-c6a7-4eb4-baf2-0baa2a156b12"
      },
      "execution_count": null,
      "outputs": [
        {
          "output_type": "execute_result",
          "data": {
            "text/plain": [
              "['__builtins__',\n",
              " '__cached__',\n",
              " '__doc__',\n",
              " '__file__',\n",
              " '__loader__',\n",
              " '__name__',\n",
              " '__package__',\n",
              " '__path__',\n",
              " '__spec__',\n",
              " 'load_data']"
            ]
          },
          "metadata": {},
          "execution_count": 126
        }
      ]
    },
    {
      "cell_type": "markdown",
      "source": [
        "- Now we load the data into real variables using load_data().\n",
        "\n",
        "- It return 2 tuples. The first tupes has the training data and the second tuple has the test data."
      ],
      "metadata": {
        "id": "S-GBpg52DUUN"
      }
    },
    {
      "cell_type": "code",
      "source": [
        "mnist.load_data"
      ],
      "metadata": {
        "colab": {
          "base_uri": "https://localhost:8080/",
          "height": 186
        },
        "id": "pjTNzn0K6o1h",
        "outputId": "8ff17242-2d4a-4d49-97f2-a43bfe13dd4c"
      },
      "execution_count": null,
      "outputs": [
        {
          "output_type": "execute_result",
          "data": {
            "text/plain": [
              "<function keras.src.datasets.fashion_mnist.load_data()>"
            ],
            "text/html": [
              "<div style=\"max-width:800px; border: 1px solid var(--colab-border-color);\"><style>\n",
              "      pre.function-repr-contents {\n",
              "        overflow-x: auto;\n",
              "        padding: 8px 12px;\n",
              "        max-height: 500px;\n",
              "      }\n",
              "\n",
              "      pre.function-repr-contents.function-repr-contents-collapsed {\n",
              "        cursor: pointer;\n",
              "        max-height: 100px;\n",
              "      }\n",
              "    </style>\n",
              "    <pre style=\"white-space: initial; background:\n",
              "         var(--colab-secondary-surface-color); padding: 8px 12px;\n",
              "         border-bottom: 1px solid var(--colab-border-color);\"><b>keras.src.datasets.fashion_mnist.load_data</b><br/>def load_data()</pre><pre class=\"function-repr-contents function-repr-contents-collapsed\" style=\"\"><a class=\"filepath\" style=\"display:none\" href=\"#\">/usr/local/lib/python3.10/dist-packages/keras/src/datasets/fashion_mnist.py</a>Loads the Fashion-MNIST dataset.\n",
              "\n",
              "This is a dataset of 60,000 28x28 grayscale images of 10 fashion categories,\n",
              "along with a test set of 10,000 images. This dataset can be used as\n",
              "a drop-in replacement for MNIST.\n",
              "\n",
              "The classes are:\n",
              "\n",
              "| Label | Description |\n",
              "|:-----:|-------------|\n",
              "|   0   | T-shirt/top |\n",
              "|   1   | Trouser     |\n",
              "|   2   | Pullover    |\n",
              "|   3   | Dress       |\n",
              "|   4   | Coat        |\n",
              "|   5   | Sandal      |\n",
              "|   6   | Shirt       |\n",
              "|   7   | Sneaker     |\n",
              "|   8   | Bag         |\n",
              "|   9   | Ankle boot  |\n",
              "\n",
              "Returns:\n",
              "\n",
              "Tuple of NumPy arrays: `(x_train, y_train), (x_test, y_test)`.\n",
              "\n",
              "**`x_train`**: `uint8` NumPy array of grayscale image data with shapes\n",
              "  `(60000, 28, 28)`, containing the training data.\n",
              "\n",
              "**`y_train`**: `uint8` NumPy array of labels (integers in range 0-9)\n",
              "  with shape `(60000,)` for the training data.\n",
              "\n",
              "**`x_test`**: `uint8` NumPy array of grayscale image data with shapes\n",
              "  (10000, 28, 28), containing the test data.\n",
              "\n",
              "**`y_test`**: `uint8` NumPy array of labels (integers in range 0-9)\n",
              "  with shape `(10000,)` for the test data.\n",
              "\n",
              "Example:\n",
              "\n",
              "```python\n",
              "(x_train, y_train), (x_test, y_test) = fashion_mnist.load_data()\n",
              "assert x_train.shape == (60000, 28, 28)\n",
              "assert x_test.shape == (10000, 28, 28)\n",
              "assert y_train.shape == (60000,)\n",
              "assert y_test.shape == (10000,)\n",
              "```\n",
              "\n",
              "License:\n",
              "\n",
              "The copyright for Fashion-MNIST is held by Zalando SE.\n",
              "Fashion-MNIST is licensed under the [MIT license](\n",
              "    https://github.com/zalandoresearch/fashion-mnist/blob/master/LICENSE).</pre>\n",
              "      <script>\n",
              "      if (google.colab.kernel.accessAllowed && google.colab.files && google.colab.files.view) {\n",
              "        for (const element of document.querySelectorAll('.filepath')) {\n",
              "          element.style.display = 'block'\n",
              "          element.onclick = (event) => {\n",
              "            event.preventDefault();\n",
              "            event.stopPropagation();\n",
              "            google.colab.files.view(element.textContent, 12);\n",
              "          };\n",
              "        }\n",
              "      }\n",
              "      for (const element of document.querySelectorAll('.function-repr-contents')) {\n",
              "        element.onclick = (event) => {\n",
              "          event.preventDefault();\n",
              "          event.stopPropagation();\n",
              "          element.classList.toggle('function-repr-contents-collapsed');\n",
              "        };\n",
              "      }\n",
              "      </script>\n",
              "      </div>"
            ]
          },
          "metadata": {},
          "execution_count": 127
        }
      ]
    },
    {
      "cell_type": "code",
      "source": [
        "mnist.load_data()\n",
        "# 3 brackets indicates 3 dim\n",
        "# (number,h,w)\n",
        "# 3 brackets indicates 3 dim\n",
        "# (number,h,w,c)"
      ],
      "metadata": {
        "id": "rifeEJR3r7yt",
        "colab": {
          "base_uri": "https://localhost:8080/"
        },
        "outputId": "072b9fd1-a3f0-45ff-885c-ea6c1239f55b"
      },
      "execution_count": null,
      "outputs": [
        {
          "output_type": "execute_result",
          "data": {
            "text/plain": [
              "((array([[[0, 0, 0, ..., 0, 0, 0],\n",
              "          [0, 0, 0, ..., 0, 0, 0],\n",
              "          [0, 0, 0, ..., 0, 0, 0],\n",
              "          ...,\n",
              "          [0, 0, 0, ..., 0, 0, 0],\n",
              "          [0, 0, 0, ..., 0, 0, 0],\n",
              "          [0, 0, 0, ..., 0, 0, 0]],\n",
              "  \n",
              "         [[0, 0, 0, ..., 0, 0, 0],\n",
              "          [0, 0, 0, ..., 0, 0, 0],\n",
              "          [0, 0, 0, ..., 0, 0, 0],\n",
              "          ...,\n",
              "          [0, 0, 0, ..., 0, 0, 0],\n",
              "          [0, 0, 0, ..., 0, 0, 0],\n",
              "          [0, 0, 0, ..., 0, 0, 0]],\n",
              "  \n",
              "         [[0, 0, 0, ..., 0, 0, 0],\n",
              "          [0, 0, 0, ..., 0, 0, 0],\n",
              "          [0, 0, 0, ..., 0, 0, 0],\n",
              "          ...,\n",
              "          [0, 0, 0, ..., 0, 0, 0],\n",
              "          [0, 0, 0, ..., 0, 0, 0],\n",
              "          [0, 0, 0, ..., 0, 0, 0]],\n",
              "  \n",
              "         ...,\n",
              "  \n",
              "         [[0, 0, 0, ..., 0, 0, 0],\n",
              "          [0, 0, 0, ..., 0, 0, 0],\n",
              "          [0, 0, 0, ..., 0, 0, 0],\n",
              "          ...,\n",
              "          [0, 0, 0, ..., 0, 0, 0],\n",
              "          [0, 0, 0, ..., 0, 0, 0],\n",
              "          [0, 0, 0, ..., 0, 0, 0]],\n",
              "  \n",
              "         [[0, 0, 0, ..., 0, 0, 0],\n",
              "          [0, 0, 0, ..., 0, 0, 0],\n",
              "          [0, 0, 0, ..., 0, 0, 0],\n",
              "          ...,\n",
              "          [0, 0, 0, ..., 0, 0, 0],\n",
              "          [0, 0, 0, ..., 0, 0, 0],\n",
              "          [0, 0, 0, ..., 0, 0, 0]],\n",
              "  \n",
              "         [[0, 0, 0, ..., 0, 0, 0],\n",
              "          [0, 0, 0, ..., 0, 0, 0],\n",
              "          [0, 0, 0, ..., 0, 0, 0],\n",
              "          ...,\n",
              "          [0, 0, 0, ..., 0, 0, 0],\n",
              "          [0, 0, 0, ..., 0, 0, 0],\n",
              "          [0, 0, 0, ..., 0, 0, 0]]], dtype=uint8),\n",
              "  array([9, 0, 0, ..., 3, 0, 5], dtype=uint8)),\n",
              " (array([[[0, 0, 0, ..., 0, 0, 0],\n",
              "          [0, 0, 0, ..., 0, 0, 0],\n",
              "          [0, 0, 0, ..., 0, 0, 0],\n",
              "          ...,\n",
              "          [0, 0, 0, ..., 0, 0, 0],\n",
              "          [0, 0, 0, ..., 0, 0, 0],\n",
              "          [0, 0, 0, ..., 0, 0, 0]],\n",
              "  \n",
              "         [[0, 0, 0, ..., 0, 0, 0],\n",
              "          [0, 0, 0, ..., 0, 0, 0],\n",
              "          [0, 0, 0, ..., 0, 0, 0],\n",
              "          ...,\n",
              "          [0, 0, 0, ..., 0, 0, 0],\n",
              "          [0, 0, 0, ..., 0, 0, 0],\n",
              "          [0, 0, 0, ..., 0, 0, 0]],\n",
              "  \n",
              "         [[0, 0, 0, ..., 0, 0, 0],\n",
              "          [0, 0, 0, ..., 0, 0, 0],\n",
              "          [0, 0, 0, ..., 0, 0, 0],\n",
              "          ...,\n",
              "          [0, 0, 0, ..., 0, 0, 0],\n",
              "          [0, 0, 0, ..., 0, 0, 0],\n",
              "          [0, 0, 0, ..., 0, 0, 0]],\n",
              "  \n",
              "         ...,\n",
              "  \n",
              "         [[0, 0, 0, ..., 0, 0, 0],\n",
              "          [0, 0, 0, ..., 0, 0, 0],\n",
              "          [0, 0, 0, ..., 0, 0, 0],\n",
              "          ...,\n",
              "          [0, 0, 0, ..., 0, 0, 0],\n",
              "          [0, 0, 0, ..., 0, 0, 0],\n",
              "          [0, 0, 0, ..., 0, 0, 0]],\n",
              "  \n",
              "         [[0, 0, 0, ..., 0, 0, 0],\n",
              "          [0, 0, 0, ..., 0, 0, 0],\n",
              "          [0, 0, 0, ..., 0, 0, 0],\n",
              "          ...,\n",
              "          [0, 0, 0, ..., 0, 0, 0],\n",
              "          [0, 0, 0, ..., 0, 0, 0],\n",
              "          [0, 0, 0, ..., 0, 0, 0]],\n",
              "  \n",
              "         [[0, 0, 0, ..., 0, 0, 0],\n",
              "          [0, 0, 0, ..., 0, 0, 0],\n",
              "          [0, 0, 0, ..., 0, 0, 0],\n",
              "          ...,\n",
              "          [0, 0, 0, ..., 0, 0, 0],\n",
              "          [0, 0, 0, ..., 0, 0, 0],\n",
              "          [0, 0, 0, ..., 0, 0, 0]]], dtype=uint8),\n",
              "  array([9, 2, 1, ..., 8, 1, 5], dtype=uint8)))"
            ]
          },
          "metadata": {},
          "execution_count": 128
        }
      ]
    },
    {
      "cell_type": "code",
      "source": [
        "(X_train, y_train), (X_test, y_test) = mnist.load_data()\n",
        "\n",
        "# X_train : train_images\n",
        "# y_train : train_labels\n",
        "\n",
        "# X_test  : test_images\n",
        "# y_test  : test_labels"
      ],
      "metadata": {
        "id": "KC1TQ5pnDLNt"
      },
      "execution_count": null,
      "outputs": []
    },
    {
      "cell_type": "code",
      "source": [
        "X_train.shape"
      ],
      "metadata": {
        "colab": {
          "base_uri": "https://localhost:8080/"
        },
        "id": "ip1fdFc69ynr",
        "outputId": "444333ce-2b24-42bb-ad6c-9e8f9109bc7e"
      },
      "execution_count": null,
      "outputs": [
        {
          "output_type": "execute_result",
          "data": {
            "text/plain": [
              "(60000, 28, 28)"
            ]
          },
          "metadata": {},
          "execution_count": 130
        }
      ]
    },
    {
      "cell_type": "markdown",
      "source": [
        "The data consist of images which means it has pixel values"
      ],
      "metadata": {
        "id": "98M4HIYkxS3R"
      }
    },
    {
      "cell_type": "markdown",
      "source": [
        "By using shape we can see that it has 60,000 images for training and each image is of size 28x28 in X_train and a corresponding label for each image in y_train."
      ],
      "metadata": {
        "id": "-wFJs-s2DlxE"
      }
    },
    {
      "cell_type": "code",
      "source": [
        "X_train.shape, y_train.shape\n",
        "# 60k Images\n",
        "# each image shape  is 28x28=784 pixel values"
      ],
      "metadata": {
        "colab": {
          "base_uri": "https://localhost:8080/"
        },
        "id": "oA-QV37JDa_f",
        "outputId": "ee18970a-6267-4180-acf9-92fec2ad1385"
      },
      "execution_count": null,
      "outputs": [
        {
          "output_type": "execute_result",
          "data": {
            "text/plain": [
              "((60000, 28, 28), (60000,))"
            ]
          },
          "metadata": {},
          "execution_count": 131
        }
      ]
    },
    {
      "cell_type": "code",
      "source": [
        "X_train[0] # first image"
      ],
      "metadata": {
        "colab": {
          "base_uri": "https://localhost:8080/",
          "height": 68
        },
        "id": "R5jGZP8dk2xM",
        "outputId": "a7320bd8-963e-4849-d957-6324ca718926"
      },
      "execution_count": null,
      "outputs": [
        {
          "output_type": "execute_result",
          "data": {
            "text/plain": [
              "array([[  0,   0,   0,   0,   0,   0,   0,   0,   0,   0,   0,   0,   0,\n",
              "          0,   0,   0,   0,   0,   0,   0,   0,   0,   0,   0,   0,   0,\n",
              "          0,   0],\n",
              "       [  0,   0,   0,   0,   0,   0,   0,   0,   0,   0,   0,   0,   0,\n",
              "          0,   0,   0,   0,   0,   0,   0,   0,   0,   0,   0,   0,   0,\n",
              "          0,   0],\n",
              "       [  0,   0,   0,   0,   0,   0,   0,   0,   0,   0,   0,   0,   0,\n",
              "          0,   0,   0,   0,   0,   0,   0,   0,   0,   0,   0,   0,   0,\n",
              "          0,   0],\n",
              "       [  0,   0,   0,   0,   0,   0,   0,   0,   0,   0,   0,   0,   1,\n",
              "          0,   0,  13,  73,   0,   0,   1,   4,   0,   0,   0,   0,   1,\n",
              "          1,   0],\n",
              "       [  0,   0,   0,   0,   0,   0,   0,   0,   0,   0,   0,   0,   3,\n",
              "          0,  36, 136, 127,  62,  54,   0,   0,   0,   1,   3,   4,   0,\n",
              "          0,   3],\n",
              "       [  0,   0,   0,   0,   0,   0,   0,   0,   0,   0,   0,   0,   6,\n",
              "          0, 102, 204, 176, 134, 144, 123,  23,   0,   0,   0,   0,  12,\n",
              "         10,   0],\n",
              "       [  0,   0,   0,   0,   0,   0,   0,   0,   0,   0,   0,   0,   0,\n",
              "          0, 155, 236, 207, 178, 107, 156, 161, 109,  64,  23,  77, 130,\n",
              "         72,  15],\n",
              "       [  0,   0,   0,   0,   0,   0,   0,   0,   0,   0,   0,   1,   0,\n",
              "         69, 207, 223, 218, 216, 216, 163, 127, 121, 122, 146, 141,  88,\n",
              "        172,  66],\n",
              "       [  0,   0,   0,   0,   0,   0,   0,   0,   0,   1,   1,   1,   0,\n",
              "        200, 232, 232, 233, 229, 223, 223, 215, 213, 164, 127, 123, 196,\n",
              "        229,   0],\n",
              "       [  0,   0,   0,   0,   0,   0,   0,   0,   0,   0,   0,   0,   0,\n",
              "        183, 225, 216, 223, 228, 235, 227, 224, 222, 224, 221, 223, 245,\n",
              "        173,   0],\n",
              "       [  0,   0,   0,   0,   0,   0,   0,   0,   0,   0,   0,   0,   0,\n",
              "        193, 228, 218, 213, 198, 180, 212, 210, 211, 213, 223, 220, 243,\n",
              "        202,   0],\n",
              "       [  0,   0,   0,   0,   0,   0,   0,   0,   0,   1,   3,   0,  12,\n",
              "        219, 220, 212, 218, 192, 169, 227, 208, 218, 224, 212, 226, 197,\n",
              "        209,  52],\n",
              "       [  0,   0,   0,   0,   0,   0,   0,   0,   0,   0,   6,   0,  99,\n",
              "        244, 222, 220, 218, 203, 198, 221, 215, 213, 222, 220, 245, 119,\n",
              "        167,  56],\n",
              "       [  0,   0,   0,   0,   0,   0,   0,   0,   0,   4,   0,   0,  55,\n",
              "        236, 228, 230, 228, 240, 232, 213, 218, 223, 234, 217, 217, 209,\n",
              "         92,   0],\n",
              "       [  0,   0,   1,   4,   6,   7,   2,   0,   0,   0,   0,   0, 237,\n",
              "        226, 217, 223, 222, 219, 222, 221, 216, 223, 229, 215, 218, 255,\n",
              "         77,   0],\n",
              "       [  0,   3,   0,   0,   0,   0,   0,   0,   0,  62, 145, 204, 228,\n",
              "        207, 213, 221, 218, 208, 211, 218, 224, 223, 219, 215, 224, 244,\n",
              "        159,   0],\n",
              "       [  0,   0,   0,   0,  18,  44,  82, 107, 189, 228, 220, 222, 217,\n",
              "        226, 200, 205, 211, 230, 224, 234, 176, 188, 250, 248, 233, 238,\n",
              "        215,   0],\n",
              "       [  0,  57, 187, 208, 224, 221, 224, 208, 204, 214, 208, 209, 200,\n",
              "        159, 245, 193, 206, 223, 255, 255, 221, 234, 221, 211, 220, 232,\n",
              "        246,   0],\n",
              "       [  3, 202, 228, 224, 221, 211, 211, 214, 205, 205, 205, 220, 240,\n",
              "         80, 150, 255, 229, 221, 188, 154, 191, 210, 204, 209, 222, 228,\n",
              "        225,   0],\n",
              "       [ 98, 233, 198, 210, 222, 229, 229, 234, 249, 220, 194, 215, 217,\n",
              "        241,  65,  73, 106, 117, 168, 219, 221, 215, 217, 223, 223, 224,\n",
              "        229,  29],\n",
              "       [ 75, 204, 212, 204, 193, 205, 211, 225, 216, 185, 197, 206, 198,\n",
              "        213, 240, 195, 227, 245, 239, 223, 218, 212, 209, 222, 220, 221,\n",
              "        230,  67],\n",
              "       [ 48, 203, 183, 194, 213, 197, 185, 190, 194, 192, 202, 214, 219,\n",
              "        221, 220, 236, 225, 216, 199, 206, 186, 181, 177, 172, 181, 205,\n",
              "        206, 115],\n",
              "       [  0, 122, 219, 193, 179, 171, 183, 196, 204, 210, 213, 207, 211,\n",
              "        210, 200, 196, 194, 191, 195, 191, 198, 192, 176, 156, 167, 177,\n",
              "        210,  92],\n",
              "       [  0,   0,  74, 189, 212, 191, 175, 172, 175, 181, 185, 188, 189,\n",
              "        188, 193, 198, 204, 209, 210, 210, 211, 188, 188, 194, 192, 216,\n",
              "        170,   0],\n",
              "       [  2,   0,   0,   0,  66, 200, 222, 237, 239, 242, 246, 243, 244,\n",
              "        221, 220, 193, 191, 179, 182, 182, 181, 176, 166, 168,  99,  58,\n",
              "          0,   0],\n",
              "       [  0,   0,   0,   0,   0,   0,   0,  40,  61,  44,  72,  41,  35,\n",
              "          0,   0,   0,   0,   0,   0,   0,   0,   0,   0,   0,   0,   0,\n",
              "          0,   0],\n",
              "       [  0,   0,   0,   0,   0,   0,   0,   0,   0,   0,   0,   0,   0,\n",
              "          0,   0,   0,   0,   0,   0,   0,   0,   0,   0,   0,   0,   0,\n",
              "          0,   0],\n",
              "       [  0,   0,   0,   0,   0,   0,   0,   0,   0,   0,   0,   0,   0,\n",
              "          0,   0,   0,   0,   0,   0,   0,   0,   0,   0,   0,   0,   0,\n",
              "          0,   0]], dtype=uint8)"
            ],
            "text/html": [
              "<style>\n",
              "      .ndarray_repr .ndarray_raw_data {\n",
              "        display: none;\n",
              "      }\n",
              "      .ndarray_repr.show_array .ndarray_raw_data {\n",
              "        display: block;\n",
              "      }\n",
              "      .ndarray_repr.show_array .ndarray_image_preview {\n",
              "        display: none;\n",
              "      }\n",
              "      </style>\n",
              "      <div id=\"id-bc6c1b71-39fb-4477-acbc-8e58b5b1d3de\" class=\"ndarray_repr\"><pre>ndarray (28, 28) <button style=\"padding: 0 2px;\">show data</button></pre><img src=\"data:image/png;base64,iVBORw0KGgoAAAANSUhEUgAAABwAAAAcCAAAAABXZoBIAAACBUlEQVR4nLXSz0tUURQH8O+597373rx545g6NmNJY6TlJgozEsKFZGCrkDBoVdGmdf9BiwJ3bVr1PwhBUbQfJQcKjWZRTsjo0KDpDPV+eN+997WK0Z2bvtsPfM+Bc4D/HwJycwBZAEAE6zAyfe5RFMQfFYiRAj+CXM/c2HK82VetVMM34RGUmCxz9v7yYnW9dnWyskyHR6azi72Jwep3ScVk9c7LLhKQrpRBSiI2n76puZFT3doUwH4pcmw/zpjrU2zw3dFt4XEWdvbKhpinzTBYt5bDH4qlLYO8cbKBWHOudDHluFtiLrLD0kmM2//6q9VFS+JLLDxv9GzMPV9v3XuzYgHEGSUGCngbRCLd4W6CxPCLHTDwVMkDA0y/qEa/lFFBoF2EEME8CAD6hsZK8+djlmSatuiXXsWfNh27NU6Yelro1bytPElRbaGaO1FGPfc7zPg9HvHlIaVD8AjID9y/+bgZ/6iP9ks7J/QZevh8w/cd2PlGs8CKt92R7MQEk0yA7GtWq9ETN3zRs7fpR7FaWi/3yXaipW1IjFnbaSM70N7dsRzbzbHd8aCx7+wmKskUO5esz0sPmvXYF67gBzoNfxptxb5stxM10iLg1pOTO23NhcUptW1hE6gFYYprC8QMMPNsMM+4pamVbps/HGkSsg+1Cv4d+0Jh//Sm3DjGix4rfwFoJNh2/0cDFgAAAABJRU5ErkJggg==\" class=\"ndarray_image_preview\" /><pre class=\"ndarray_raw_data\">array([[  0,   0,   0,   0,   0,   0,   0,   0,   0,   0,   0,   0,   0,\n",
              "          0,   0,   0,   0,   0,   0,   0,   0,   0,   0,   0,   0,   0,\n",
              "          0,   0],\n",
              "       [  0,   0,   0,   0,   0,   0,   0,   0,   0,   0,   0,   0,   0,\n",
              "          0,   0,   0,   0,   0,   0,   0,   0,   0,   0,   0,   0,   0,\n",
              "          0,   0],\n",
              "       [  0,   0,   0,   0,   0,   0,   0,   0,   0,   0,   0,   0,   0,\n",
              "          0,   0,   0,   0,   0,   0,   0,   0,   0,   0,   0,   0,   0,\n",
              "          0,   0],\n",
              "       [  0,   0,   0,   0,   0,   0,   0,   0,   0,   0,   0,   0,   1,\n",
              "          0,   0,  13,  73,   0,   0,   1,   4,   0,   0,   0,   0,   1,\n",
              "          1,   0],\n",
              "       [  0,   0,   0,   0,   0,   0,   0,   0,   0,   0,   0,   0,   3,\n",
              "          0,  36, 136, 127,  62,  54,   0,   0,   0,   1,   3,   4,   0,\n",
              "          0,   3],\n",
              "       [  0,   0,   0,   0,   0,   0,   0,   0,   0,   0,   0,   0,   6,\n",
              "          0, 102, 204, 176, 134, 144, 123,  23,   0,   0,   0,   0,  12,\n",
              "         10,   0],\n",
              "       [  0,   0,   0,   0,   0,   0,   0,   0,   0,   0,   0,   0,   0,\n",
              "          0, 155, 236, 207, 178, 107, 156, 161, 109,  64,  23,  77, 130,\n",
              "         72,  15],\n",
              "       [  0,   0,   0,   0,   0,   0,   0,   0,   0,   0,   0,   1,   0,\n",
              "         69, 207, 223, 218, 216, 216, 163, 127, 121, 122, 146, 141,  88,\n",
              "        172,  66],\n",
              "       [  0,   0,   0,   0,   0,   0,   0,   0,   0,   1,   1,   1,   0,\n",
              "        200, 232, 232, 233, 229, 223, 223, 215, 213, 164, 127, 123, 196,\n",
              "        229,   0],\n",
              "       [  0,   0,   0,   0,   0,   0,   0,   0,   0,   0,   0,   0,   0,\n",
              "        183, 225, 216, 223, 228, 235, 227, 224, 222, 224, 221, 223, 245,\n",
              "        173,   0],\n",
              "       [  0,   0,   0,   0,   0,   0,   0,   0,   0,   0,   0,   0,   0,\n",
              "        193, 228, 218, 213, 198, 180, 212, 210, 211, 213, 223, 220, 243,\n",
              "        202,   0],\n",
              "       [  0,   0,   0,   0,   0,   0,   0,   0,   0,   1,   3,   0,  12,\n",
              "        219, 220, 212, 218, 192, 169, 227, 208, 218, 224, 212, 226, 197,\n",
              "        209,  52],\n",
              "       [  0,   0,   0,   0,   0,   0,   0,   0,   0,   0,   6,   0,  99,\n",
              "        244, 222, 220, 218, 203, 198, 221, 215, 213, 222, 220, 245, 119,\n",
              "        167,  56],\n",
              "       [  0,   0,   0,   0,   0,   0,   0,   0,   0,   4,   0,   0,  55,\n",
              "        236, 228, 230, 228, 240, 232, 213, 218, 223, 234, 217, 217, 209,\n",
              "         92,   0],\n",
              "       [  0,   0,   1,   4,   6,   7,   2,   0,   0,   0,   0,   0, 237,\n",
              "        226, 217, 223, 222, 219, 222, 221, 216, 223, 229, 215, 218, 255,\n",
              "         77,   0],\n",
              "       [  0,   3,   0,   0,   0,   0,   0,   0,   0,  62, 145, 204, 228,\n",
              "        207, 213, 221, 218, 208, 211, 218, 224, 223, 219, 215, 224, 244,\n",
              "        159,   0],\n",
              "       [  0,   0,   0,   0,  18,  44,  82, 107, 189, 228, 220, 222, 217,\n",
              "        226, 200, 205, 211, 230, 224, 234, 176, 188, 250, 248, 233, 238,\n",
              "        215,   0],\n",
              "       [  0,  57, 187, 208, 224, 221, 224, 208, 204, 214, 208, 209, 200,\n",
              "        159, 245, 193, 206, 223, 255, 255, 221, 234, 221, 211, 220, 232,\n",
              "        246,   0],\n",
              "       [  3, 202, 228, 224, 221, 211, 211, 214, 205, 205, 205, 220, 240,\n",
              "         80, 150, 255, 229, 221, 188, 154, 191, 210, 204, 209, 222, 228,\n",
              "        225,   0],\n",
              "       [ 98, 233, 198, 210, 222, 229, 229, 234, 249, 220, 194, 215, 217,\n",
              "        241,  65,  73, 106, 117, 168, 219, 221, 215, 217, 223, 223, 224,\n",
              "        229,  29],\n",
              "       [ 75, 204, 212, 204, 193, 205, 211, 225, 216, 185, 197, 206, 198,\n",
              "        213, 240, 195, 227, 245, 239, 223, 218, 212, 209, 222, 220, 221,\n",
              "        230,  67],\n",
              "       [ 48, 203, 183, 194, 213, 197, 185, 190, 194, 192, 202, 214, 219,\n",
              "        221, 220, 236, 225, 216, 199, 206, 186, 181, 177, 172, 181, 205,\n",
              "        206, 115],\n",
              "       [  0, 122, 219, 193, 179, 171, 183, 196, 204, 210, 213, 207, 211,\n",
              "        210, 200, 196, 194, 191, 195, 191, 198, 192, 176, 156, 167, 177,\n",
              "        210,  92],\n",
              "       [  0,   0,  74, 189, 212, 191, 175, 172, 175, 181, 185, 188, 189,\n",
              "        188, 193, 198, 204, 209, 210, 210, 211, 188, 188, 194, 192, 216,\n",
              "        170,   0],\n",
              "       [  2,   0,   0,   0,  66, 200, 222, 237, 239, 242, 246, 243, 244,\n",
              "        221, 220, 193, 191, 179, 182, 182, 181, 176, 166, 168,  99,  58,\n",
              "          0,   0],\n",
              "       [  0,   0,   0,   0,   0,   0,   0,  40,  61,  44,  72,  41,  35,\n",
              "          0,   0,   0,   0,   0,   0,   0,   0,   0,   0,   0,   0,   0,\n",
              "          0,   0],\n",
              "       [  0,   0,   0,   0,   0,   0,   0,   0,   0,   0,   0,   0,   0,\n",
              "          0,   0,   0,   0,   0,   0,   0,   0,   0,   0,   0,   0,   0,\n",
              "          0,   0],\n",
              "       [  0,   0,   0,   0,   0,   0,   0,   0,   0,   0,   0,   0,   0,\n",
              "          0,   0,   0,   0,   0,   0,   0,   0,   0,   0,   0,   0,   0,\n",
              "          0,   0]], dtype=uint8)</pre></div><script>\n",
              "      (() => {\n",
              "      const titles = ['show data', 'hide data'];\n",
              "      let index = 0\n",
              "      document.querySelector('#id-bc6c1b71-39fb-4477-acbc-8e58b5b1d3de button').onclick = (e) => {\n",
              "        document.querySelector('#id-bc6c1b71-39fb-4477-acbc-8e58b5b1d3de').classList.toggle('show_array');\n",
              "        index = (++index) % 2;\n",
              "        document.querySelector('#id-bc6c1b71-39fb-4477-acbc-8e58b5b1d3de button').textContent = titles[index];\n",
              "        e.preventDefault();\n",
              "        e.stopPropagation();\n",
              "      }\n",
              "      })();\n",
              "    </script>"
            ]
          },
          "metadata": {},
          "execution_count": 132
        }
      ]
    },
    {
      "cell_type": "code",
      "source": [
        "X_train[0]\n",
        "# There are 28 lists will avaialble\n",
        "# In each list 28 values will be there\n",
        "# the shape will become 28x28\n",
        "X_train[0].shape"
      ],
      "metadata": {
        "colab": {
          "base_uri": "https://localhost:8080/"
        },
        "id": "FrW7jv2iJIEj",
        "outputId": "7f8c4925-e092-4b22-8849-d772e9445423"
      },
      "execution_count": null,
      "outputs": [
        {
          "output_type": "execute_result",
          "data": {
            "text/plain": [
              "(28, 28)"
            ]
          },
          "metadata": {},
          "execution_count": 133
        }
      ]
    },
    {
      "cell_type": "code",
      "source": [
        "len(X_train[1]) # each list has 28 values"
      ],
      "metadata": {
        "colab": {
          "base_uri": "https://localhost:8080/"
        },
        "id": "2zXrKLPbEplF",
        "outputId": "0b886b15-1530-4997-ecbd-4ca3a3b3d49b"
      },
      "execution_count": null,
      "outputs": [
        {
          "output_type": "execute_result",
          "data": {
            "text/plain": [
              "28"
            ]
          },
          "metadata": {},
          "execution_count": 134
        }
      ]
    },
    {
      "cell_type": "code",
      "source": [
        "len(X_train[0])\n",
        "\n",
        "# 28 lists are there\n",
        "# in each list 28 values are there"
      ],
      "metadata": {
        "colab": {
          "base_uri": "https://localhost:8080/"
        },
        "id": "9Jobcv2Y2S9A",
        "outputId": "a44d2a3a-7b80-4850-e054-7e59e9674db5"
      },
      "execution_count": null,
      "outputs": [
        {
          "output_type": "execute_result",
          "data": {
            "text/plain": [
              "28"
            ]
          },
          "metadata": {},
          "execution_count": 135
        }
      ]
    },
    {
      "cell_type": "code",
      "source": [
        "y_train"
      ],
      "metadata": {
        "colab": {
          "base_uri": "https://localhost:8080/"
        },
        "id": "mELIsQCHcq4S",
        "outputId": "2da5d9e5-9122-48b2-9d9c-d8806cdc550a"
      },
      "execution_count": null,
      "outputs": [
        {
          "output_type": "execute_result",
          "data": {
            "text/plain": [
              "array([9, 0, 0, ..., 3, 0, 5], dtype=uint8)"
            ]
          },
          "metadata": {},
          "execution_count": 136
        }
      ]
    },
    {
      "cell_type": "code",
      "source": [
        "len(y_train)"
      ],
      "metadata": {
        "colab": {
          "base_uri": "https://localhost:8080/"
        },
        "id": "cpi5GtcxAvtG",
        "outputId": "07b2d9f3-9354-46e0-c91a-31ff9d3cd59c"
      },
      "execution_count": null,
      "outputs": [
        {
          "output_type": "execute_result",
          "data": {
            "text/plain": [
              "60000"
            ]
          },
          "metadata": {},
          "execution_count": 137
        }
      ]
    },
    {
      "cell_type": "code",
      "source": [
        "max(y_train),min(y_train)\n",
        "# multiclassification probelm\n",
        "# 10 classes"
      ],
      "metadata": {
        "colab": {
          "base_uri": "https://localhost:8080/"
        },
        "id": "cuyD5VLzOCdK",
        "outputId": "c17c175e-d854-4c63-9c91-e77abb154efd"
      },
      "execution_count": null,
      "outputs": [
        {
          "output_type": "execute_result",
          "data": {
            "text/plain": [
              "(9, 0)"
            ]
          },
          "metadata": {},
          "execution_count": 138
        }
      ]
    },
    {
      "cell_type": "markdown",
      "source": [
        "- X_train[0]  First image belongs to y[0] that is class number 9\n",
        "\n",
        "- X_train[1]  second image belongs to y[1] that is class number 0 and so on\n",
        "\n",
        "- there 60000 images and 60000 lables but 10 classes\n",
        "\n",
        "- It is a multiclassification problem\n",
        "\n",
        "- So we will use softmax at output layer\n"
      ],
      "metadata": {
        "id": "GDILaFsfBEyw"
      }
    },
    {
      "cell_type": "code",
      "source": [
        "X_train[0].shape    # First image\n",
        "X_train[1]          # second image\n",
        "\n",
        "# In image we have 784 pixels are there\n",
        "# 28x28\n",
        "# RGB picture : color picture\n",
        "# Gray        : not a color picture\n",
        "\n",
        "# RGB values ranges between  0 to 255\n",
        "# Rainbow :  7\n",
        "#  2^7: 256\n",
        "# 0= black\n",
        "# 255= white\n",
        "# Rainbow :  VIBGYOR ==== > 2^7=128   -128 to 128:   256    0 to 255\n",
        "# 0 : Black  255:white\n",
        "\n",
        "# subject: Digital Imgae processing  OpenCV"
      ],
      "metadata": {
        "colab": {
          "base_uri": "https://localhost:8080/",
          "height": 68
        },
        "id": "0ocLE0cixcOS",
        "outputId": "5ab99b71-b6de-4285-b4e5-b92d972bbc75"
      },
      "execution_count": null,
      "outputs": [
        {
          "output_type": "execute_result",
          "data": {
            "text/plain": [
              "array([[  0,   0,   0,   0,   0,   1,   0,   0,   0,   0,  41, 188, 103,\n",
              "         54,  48,  43,  87, 168, 133,  16,   0,   0,   0,   0,   0,   0,\n",
              "          0,   0],\n",
              "       [  0,   0,   0,   1,   0,   0,   0,  49, 136, 219, 216, 228, 236,\n",
              "        255, 255, 255, 255, 217, 215, 254, 231, 160,  45,   0,   0,   0,\n",
              "          0,   0],\n",
              "       [  0,   0,   0,   0,   0,  14, 176, 222, 224, 212, 203, 198, 196,\n",
              "        200, 215, 204, 202, 201, 201, 201, 209, 218, 224, 164,   0,   0,\n",
              "          0,   0],\n",
              "       [  0,   0,   0,   0,   0, 188, 219, 200, 198, 202, 198, 199, 199,\n",
              "        201, 196, 198, 198, 200, 200, 200, 200, 201, 200, 225,  41,   0,\n",
              "          0,   0],\n",
              "       [  0,   0,   0,   0,  51, 219, 199, 203, 203, 212, 238, 248, 250,\n",
              "        245, 249, 246, 247, 252, 248, 235, 207, 203, 203, 222, 140,   0,\n",
              "          0,   0],\n",
              "       [  0,   0,   0,   0, 116, 226, 206, 204, 207, 204, 101,  75,  47,\n",
              "         73,  48,  50,  45,  51,  63, 113, 222, 202, 206, 220, 224,   0,\n",
              "          0,   0],\n",
              "       [  0,   0,   0,   0, 200, 222, 209, 203, 215, 200,   0,  70,  98,\n",
              "          0, 103,  59,  68,  71,  49,   0, 219, 206, 214, 210, 250,  38,\n",
              "          0,   0],\n",
              "       [  0,   0,   0,   0, 247, 218, 212, 210, 215, 214,   0, 254, 243,\n",
              "        139, 255, 174, 251, 255, 205,   0, 215, 217, 214, 208, 220,  95,\n",
              "          0,   0],\n",
              "       [  0,   0,   0,  45, 226, 214, 214, 215, 224, 205,   0,  42,  35,\n",
              "         60,  16,  17,  12,  13,  70,   0, 189, 216, 212, 206, 212, 156,\n",
              "          0,   0],\n",
              "       [  0,   0,   0, 164, 235, 214, 211, 220, 216, 201,  52,  71,  89,\n",
              "         94,  83,  78,  70,  76,  92,  87, 206, 207, 222, 213, 219, 208,\n",
              "          0,   0],\n",
              "       [  0,   0,   0, 106, 187, 223, 237, 248, 211, 198, 252, 250, 248,\n",
              "        245, 248, 252, 253, 250, 252, 239, 201, 212, 225, 215, 193, 113,\n",
              "          0,   0],\n",
              "       [  0,   0,   0,   0,   0,  17,  54, 159, 222, 193, 208, 192, 197,\n",
              "        200, 200, 200, 200, 201, 203, 195, 210, 165,   0,   0,   0,   0,\n",
              "          0,   0],\n",
              "       [  0,   0,   0,   0,   0,   0,   0,  47, 225, 192, 214, 203, 206,\n",
              "        204, 204, 205, 206, 204, 212, 197, 218, 107,   0,   0,   0,   0,\n",
              "          0,   0],\n",
              "       [  0,   0,   0,   0,   1,   6,   0,  46, 212, 195, 212, 202, 206,\n",
              "        205, 204, 205, 206, 204, 212, 200, 218,  91,   0,   3,   1,   0,\n",
              "          0,   0],\n",
              "       [  0,   0,   0,   0,   0,   1,   0,  11, 197, 199, 205, 202, 205,\n",
              "        206, 204, 205, 207, 204, 205, 205, 218,  77,   0,   5,   0,   0,\n",
              "          0,   0],\n",
              "       [  0,   0,   0,   0,   0,   3,   0,   2, 191, 198, 201, 205, 206,\n",
              "        205, 205, 206, 209, 206, 199, 209, 219,  74,   0,   5,   0,   0,\n",
              "          0,   0],\n",
              "       [  0,   0,   0,   0,   0,   2,   0,   0, 188, 197, 200, 207, 207,\n",
              "        204, 207, 207, 210, 208, 198, 207, 221,  72,   0,   4,   0,   0,\n",
              "          0,   0],\n",
              "       [  0,   0,   0,   0,   0,   2,   0,   0, 215, 198, 203, 206, 208,\n",
              "        205, 207, 207, 210, 208, 200, 202, 222,  75,   0,   4,   0,   0,\n",
              "          0,   0],\n",
              "       [  0,   0,   0,   0,   0,   1,   0,   0, 212, 198, 209, 206, 209,\n",
              "        206, 208, 207, 211, 206, 205, 198, 221,  80,   0,   3,   0,   0,\n",
              "          0,   0],\n",
              "       [  0,   0,   0,   0,   0,   1,   0,   0, 204, 201, 205, 208, 207,\n",
              "        205, 211, 205, 210, 210, 209, 195, 221,  96,   0,   3,   0,   0,\n",
              "          0,   0],\n",
              "       [  0,   0,   0,   0,   0,   1,   0,   0, 202, 201, 205, 209, 207,\n",
              "        205, 213, 206, 210, 209, 210, 194, 217, 105,   0,   2,   0,   0,\n",
              "          0,   0],\n",
              "       [  0,   0,   0,   0,   0,   1,   0,   0, 204, 204, 205, 208, 207,\n",
              "        205, 215, 207, 210, 208, 211, 193, 213, 115,   0,   2,   0,   0,\n",
              "          0,   0],\n",
              "       [  0,   0,   0,   0,   0,   0,   0,   0, 204, 207, 207, 208, 206,\n",
              "        206, 215, 210, 210, 207, 212, 195, 210, 118,   0,   2,   0,   0,\n",
              "          0,   0],\n",
              "       [  0,   0,   0,   0,   0,   1,   0,   0, 198, 208, 208, 208, 204,\n",
              "        207, 212, 212, 210, 207, 211, 196, 207, 121,   0,   1,   0,   0,\n",
              "          0,   0],\n",
              "       [  0,   0,   0,   0,   0,   1,   0,   0, 198, 210, 207, 208, 206,\n",
              "        209, 213, 212, 211, 207, 210, 197, 207, 124,   0,   1,   0,   0,\n",
              "          0,   0],\n",
              "       [  0,   0,   0,   0,   0,   0,   0,   0, 172, 210, 203, 201, 199,\n",
              "        204, 207, 205, 204, 201, 205, 197, 206, 127,   0,   0,   0,   0,\n",
              "          0,   0],\n",
              "       [  0,   0,   0,   0,   0,   0,   0,   0, 188, 221, 214, 234, 236,\n",
              "        238, 244, 244, 244, 240, 243, 214, 224, 162,   0,   2,   0,   0,\n",
              "          0,   0],\n",
              "       [  0,   0,   0,   0,   0,   1,   0,   0, 139, 146, 130, 135, 135,\n",
              "        137, 125, 124, 125, 121, 119, 114, 130,  76,   0,   0,   0,   0,\n",
              "          0,   0]], dtype=uint8)"
            ],
            "text/html": [
              "<style>\n",
              "      .ndarray_repr .ndarray_raw_data {\n",
              "        display: none;\n",
              "      }\n",
              "      .ndarray_repr.show_array .ndarray_raw_data {\n",
              "        display: block;\n",
              "      }\n",
              "      .ndarray_repr.show_array .ndarray_image_preview {\n",
              "        display: none;\n",
              "      }\n",
              "      </style>\n",
              "      <div id=\"id-207c0d00-1c8c-4b1e-b812-23513f81da97\" class=\"ndarray_repr\"><pre>ndarray (28, 28) <button style=\"padding: 0 2px;\">show data</button></pre><img src=\"data:image/png;base64,iVBORw0KGgoAAAANSUhEUgAAABwAAAAcCAAAAABXZoBIAAAB90lEQVR4nF2QvWvTURSGn3PuTUwaSVMtlLZDBT+g0CragnQQwcnFQRAcdHNy0KngXyAIDg5O4qKuDrrp4ChFOthBsNrSxZZ0MMXYD5tffvfe45CkX2d9eF7e9wgAYsD487cL7Xzi5srTJvsnwMUnyz/WGmZmPxfT+qvJPQDVN+d1ezdPvn8nGZTKxc939+CnsY3kg6C5ooDY8PVF8ABTYw3vyiN9mvsohbC1Foj3Zrvm7MNGcvFFfW1kXfPi8UsPGr7qT4EC3ArOSuFlPvXhcnlocPNZ9KV/I+e6sRdW3TGqfNwZn313w3+dCpWYfs0s4YHJ30FdeYOJbPix5DJDfTSl1pXXeOBReTuWW2H65InCUN4q1m4P7PZLcboTOzd0plpZjl9Sis5L1K2litP6+97OgbP3r672NwsOEG31f7sDdAvxZz67ZsWKS4ikUrs01/mrAkgR23LJujmOJk560HJW/voMExCyApuo9SDKbtuCExNRbXuJB2IxUjRTMRVRS5qwfQiMijMRAM3FHTaJFBERJBWCFY6YLRc0mUvmfaR20AQSCKhgYqHcMX0PKlgHqoU+DnzIAAcmOEw0Hiok0BYhSVQwie5IIdRQFaTjH55SJ2RZ3s6ydo65I4VqFT+oWoTgVvtOo2kPirHwvVlAt01CymvzJID/CjnVF438ZwEAAAAASUVORK5CYII=\" class=\"ndarray_image_preview\" /><pre class=\"ndarray_raw_data\">array([[  0,   0,   0,   0,   0,   1,   0,   0,   0,   0,  41, 188, 103,\n",
              "         54,  48,  43,  87, 168, 133,  16,   0,   0,   0,   0,   0,   0,\n",
              "          0,   0],\n",
              "       [  0,   0,   0,   1,   0,   0,   0,  49, 136, 219, 216, 228, 236,\n",
              "        255, 255, 255, 255, 217, 215, 254, 231, 160,  45,   0,   0,   0,\n",
              "          0,   0],\n",
              "       [  0,   0,   0,   0,   0,  14, 176, 222, 224, 212, 203, 198, 196,\n",
              "        200, 215, 204, 202, 201, 201, 201, 209, 218, 224, 164,   0,   0,\n",
              "          0,   0],\n",
              "       [  0,   0,   0,   0,   0, 188, 219, 200, 198, 202, 198, 199, 199,\n",
              "        201, 196, 198, 198, 200, 200, 200, 200, 201, 200, 225,  41,   0,\n",
              "          0,   0],\n",
              "       [  0,   0,   0,   0,  51, 219, 199, 203, 203, 212, 238, 248, 250,\n",
              "        245, 249, 246, 247, 252, 248, 235, 207, 203, 203, 222, 140,   0,\n",
              "          0,   0],\n",
              "       [  0,   0,   0,   0, 116, 226, 206, 204, 207, 204, 101,  75,  47,\n",
              "         73,  48,  50,  45,  51,  63, 113, 222, 202, 206, 220, 224,   0,\n",
              "          0,   0],\n",
              "       [  0,   0,   0,   0, 200, 222, 209, 203, 215, 200,   0,  70,  98,\n",
              "          0, 103,  59,  68,  71,  49,   0, 219, 206, 214, 210, 250,  38,\n",
              "          0,   0],\n",
              "       [  0,   0,   0,   0, 247, 218, 212, 210, 215, 214,   0, 254, 243,\n",
              "        139, 255, 174, 251, 255, 205,   0, 215, 217, 214, 208, 220,  95,\n",
              "          0,   0],\n",
              "       [  0,   0,   0,  45, 226, 214, 214, 215, 224, 205,   0,  42,  35,\n",
              "         60,  16,  17,  12,  13,  70,   0, 189, 216, 212, 206, 212, 156,\n",
              "          0,   0],\n",
              "       [  0,   0,   0, 164, 235, 214, 211, 220, 216, 201,  52,  71,  89,\n",
              "         94,  83,  78,  70,  76,  92,  87, 206, 207, 222, 213, 219, 208,\n",
              "          0,   0],\n",
              "       [  0,   0,   0, 106, 187, 223, 237, 248, 211, 198, 252, 250, 248,\n",
              "        245, 248, 252, 253, 250, 252, 239, 201, 212, 225, 215, 193, 113,\n",
              "          0,   0],\n",
              "       [  0,   0,   0,   0,   0,  17,  54, 159, 222, 193, 208, 192, 197,\n",
              "        200, 200, 200, 200, 201, 203, 195, 210, 165,   0,   0,   0,   0,\n",
              "          0,   0],\n",
              "       [  0,   0,   0,   0,   0,   0,   0,  47, 225, 192, 214, 203, 206,\n",
              "        204, 204, 205, 206, 204, 212, 197, 218, 107,   0,   0,   0,   0,\n",
              "          0,   0],\n",
              "       [  0,   0,   0,   0,   1,   6,   0,  46, 212, 195, 212, 202, 206,\n",
              "        205, 204, 205, 206, 204, 212, 200, 218,  91,   0,   3,   1,   0,\n",
              "          0,   0],\n",
              "       [  0,   0,   0,   0,   0,   1,   0,  11, 197, 199, 205, 202, 205,\n",
              "        206, 204, 205, 207, 204, 205, 205, 218,  77,   0,   5,   0,   0,\n",
              "          0,   0],\n",
              "       [  0,   0,   0,   0,   0,   3,   0,   2, 191, 198, 201, 205, 206,\n",
              "        205, 205, 206, 209, 206, 199, 209, 219,  74,   0,   5,   0,   0,\n",
              "          0,   0],\n",
              "       [  0,   0,   0,   0,   0,   2,   0,   0, 188, 197, 200, 207, 207,\n",
              "        204, 207, 207, 210, 208, 198, 207, 221,  72,   0,   4,   0,   0,\n",
              "          0,   0],\n",
              "       [  0,   0,   0,   0,   0,   2,   0,   0, 215, 198, 203, 206, 208,\n",
              "        205, 207, 207, 210, 208, 200, 202, 222,  75,   0,   4,   0,   0,\n",
              "          0,   0],\n",
              "       [  0,   0,   0,   0,   0,   1,   0,   0, 212, 198, 209, 206, 209,\n",
              "        206, 208, 207, 211, 206, 205, 198, 221,  80,   0,   3,   0,   0,\n",
              "          0,   0],\n",
              "       [  0,   0,   0,   0,   0,   1,   0,   0, 204, 201, 205, 208, 207,\n",
              "        205, 211, 205, 210, 210, 209, 195, 221,  96,   0,   3,   0,   0,\n",
              "          0,   0],\n",
              "       [  0,   0,   0,   0,   0,   1,   0,   0, 202, 201, 205, 209, 207,\n",
              "        205, 213, 206, 210, 209, 210, 194, 217, 105,   0,   2,   0,   0,\n",
              "          0,   0],\n",
              "       [  0,   0,   0,   0,   0,   1,   0,   0, 204, 204, 205, 208, 207,\n",
              "        205, 215, 207, 210, 208, 211, 193, 213, 115,   0,   2,   0,   0,\n",
              "          0,   0],\n",
              "       [  0,   0,   0,   0,   0,   0,   0,   0, 204, 207, 207, 208, 206,\n",
              "        206, 215, 210, 210, 207, 212, 195, 210, 118,   0,   2,   0,   0,\n",
              "          0,   0],\n",
              "       [  0,   0,   0,   0,   0,   1,   0,   0, 198, 208, 208, 208, 204,\n",
              "        207, 212, 212, 210, 207, 211, 196, 207, 121,   0,   1,   0,   0,\n",
              "          0,   0],\n",
              "       [  0,   0,   0,   0,   0,   1,   0,   0, 198, 210, 207, 208, 206,\n",
              "        209, 213, 212, 211, 207, 210, 197, 207, 124,   0,   1,   0,   0,\n",
              "          0,   0],\n",
              "       [  0,   0,   0,   0,   0,   0,   0,   0, 172, 210, 203, 201, 199,\n",
              "        204, 207, 205, 204, 201, 205, 197, 206, 127,   0,   0,   0,   0,\n",
              "          0,   0],\n",
              "       [  0,   0,   0,   0,   0,   0,   0,   0, 188, 221, 214, 234, 236,\n",
              "        238, 244, 244, 244, 240, 243, 214, 224, 162,   0,   2,   0,   0,\n",
              "          0,   0],\n",
              "       [  0,   0,   0,   0,   0,   1,   0,   0, 139, 146, 130, 135, 135,\n",
              "        137, 125, 124, 125, 121, 119, 114, 130,  76,   0,   0,   0,   0,\n",
              "          0,   0]], dtype=uint8)</pre></div><script>\n",
              "      (() => {\n",
              "      const titles = ['show data', 'hide data'];\n",
              "      let index = 0\n",
              "      document.querySelector('#id-207c0d00-1c8c-4b1e-b812-23513f81da97 button').onclick = (e) => {\n",
              "        document.querySelector('#id-207c0d00-1c8c-4b1e-b812-23513f81da97').classList.toggle('show_array');\n",
              "        index = (++index) % 2;\n",
              "        document.querySelector('#id-207c0d00-1c8c-4b1e-b812-23513f81da97 button').textContent = titles[index];\n",
              "        e.preventDefault();\n",
              "        e.stopPropagation();\n",
              "      }\n",
              "      })();\n",
              "    </script>"
            ]
          },
          "metadata": {},
          "execution_count": 139
        }
      ]
    },
    {
      "cell_type": "code",
      "source": [
        "y_train[:5]\n",
        "X_train[0] # 9 ==== Shoe\n",
        "X_train[1] # 0 === shirt\n",
        "X_train[2] # 0 === top\n",
        "X_train[3] # 3 === dress\n",
        "X_train[4] # 0\n",
        "# Total 60k images\n",
        "# the divides into 10 classes"
      ],
      "metadata": {
        "colab": {
          "base_uri": "https://localhost:8080/",
          "height": 68
        },
        "id": "PE2eEOR4lvWw",
        "outputId": "9aa786c8-c8f1-4bca-e167-3f511d15bede"
      },
      "execution_count": null,
      "outputs": [
        {
          "output_type": "execute_result",
          "data": {
            "text/plain": [
              "array([[  0,   0,   0,   0,   0,   0,   0,   0,   0,   0,   0,   0,   0,\n",
              "          0,   0,   0,   0,  26,   0,   0,   0,   0,   0,   0,   0,   0,\n",
              "          0,   0],\n",
              "       [  0,   0,   0,   0,   0,   0,   0,   0, 189, 206, 187,  32,   0,\n",
              "          0,   0,  26, 217, 226, 196,  11,   0,   0,   0,   0,   0,   0,\n",
              "          0,   0],\n",
              "       [  0,   0,   0,   0,   0,   0,   0,   0, 192, 227, 234, 243, 230,\n",
              "        147, 239, 242, 234, 218, 209,   0,   0,   0,   0,   0,   0,   0,\n",
              "          0,   0],\n",
              "       [  0,   0,   0,   0,   0,   0,   0,   0, 173, 225, 215, 233, 254,\n",
              "          0, 194, 240, 217, 221, 190,   0,   0,   0,   0,   0,   0,   0,\n",
              "          0,   0],\n",
              "       [  0,   0,   0,   0,   0,   0,   0,   0, 139, 229, 212, 226, 255,\n",
              "          0, 162, 255, 213, 226, 200,   0,   0,   0,   0,   0,   0,   0,\n",
              "          0,   0],\n",
              "       [  0,   0,   0,   0,   0,   0,   0,   0,  98, 232, 211, 215, 249,\n",
              "         46, 162, 246, 214, 230, 186,   0,   0,   0,   0,   0,   0,   0,\n",
              "          0,   0],\n",
              "       [  0,   0,   0,   0,   0,   0,   0,   0,  70, 228, 213, 220, 224,\n",
              "        252, 239, 219, 217, 231, 171,   0,   0,   0,   0,   0,   0,   0,\n",
              "          0,   0],\n",
              "       [  0,   0,   0,   0,   0,   0,   0,   0,  45, 222, 214, 218, 216,\n",
              "        210, 215, 217, 202, 224, 172,   0,   0,   0,   0,   0,   0,   0,\n",
              "          0,   0],\n",
              "       [  0,   0,   0,   0,   0,   0,   0,   0,  24, 254, 214, 210, 211,\n",
              "        214, 215, 212, 203, 221, 167,   0,   0,   0,   0,   0,   0,   0,\n",
              "          0,   0],\n",
              "       [  0,   0,   0,   0,   0,   0,   0,   0,   0, 254, 216, 215, 217,\n",
              "        217, 216, 216, 206, 225, 150,   0,   0,   0,   0,   0,   0,   0,\n",
              "          0,   0],\n",
              "       [  0,   0,   0,   0,   0,   0,   0,   0,   0, 247, 216, 214, 217,\n",
              "        216, 214, 212, 203, 226, 136,   0,   0,   0,   0,   0,   0,   0,\n",
              "          0,   0],\n",
              "       [  0,   0,   0,   0,   0,   0,   0,   0,   0, 245, 216, 214, 216,\n",
              "        217, 215, 211, 204, 225, 125,   0,   0,   0,   0,   0,   0,   0,\n",
              "          0,   0],\n",
              "       [  0,   0,   0,   0,   0,   0,   0,   0,   0, 247, 216, 214, 217,\n",
              "        220, 217, 213, 203, 222, 147,   0,   0,   0,   0,   0,   0,   0,\n",
              "          0,   0],\n",
              "       [  0,   0,   0,   0,   0,   0,   0,   0,   0, 248, 216, 215, 218,\n",
              "        222, 216, 214, 207, 218, 179,   0,   0,   0,   0,   0,   0,   0,\n",
              "          0,   0],\n",
              "       [  0,   0,   0,   0,   0,   0,   0,   0,   0, 249, 216, 217, 219,\n",
              "        222, 217, 214, 210, 215, 211,   0,   0,   0,   0,   0,   0,   0,\n",
              "          0,   0],\n",
              "       [  0,   0,   0,   0,   0,   0,   0,   0,  38, 255, 214, 218, 219,\n",
              "        224, 218, 215, 211, 211, 231,   0,   0,   0,   0,   0,   0,   0,\n",
              "          0,   0],\n",
              "       [  0,   0,   0,   0,   0,   0,   0,   0,  79, 227, 209, 219, 219,\n",
              "        227, 219, 215, 213, 206, 254,  58,   0,   0,   0,   0,   0,   0,\n",
              "          0,   0],\n",
              "       [  0,   0,   0,   0,   0,   0,   0,   0, 146, 226, 211, 220, 219,\n",
              "        228, 218, 215, 216, 205, 219, 163,   0,   0,   0,   0,   0,   0,\n",
              "          0,   0],\n",
              "       [  0,   0,   0,   0,   0,   0,   0,   0, 202, 221, 214, 221, 219,\n",
              "        231, 218, 215, 218, 213, 212, 220,   0,   0,   0,   0,   0,   0,\n",
              "          0,   0],\n",
              "       [  0,   0,   0,   0,   0,   0,   0,   0, 234, 217, 216, 220, 219,\n",
              "        234, 217, 215, 218, 216, 223, 247,   7,   0,   0,   0,   0,   0,\n",
              "          0,   0],\n",
              "       [  0,   0,   0,   0,   0,   0,   0,  17, 254, 212, 219, 219, 220,\n",
              "        233, 214, 216, 219, 222, 153, 238,  58,   0,   0,   0,   0,   0,\n",
              "          0,   0],\n",
              "       [  0,   0,   0,   0,   0,   0,   0,  66, 255, 208, 220, 219, 222,\n",
              "        241, 220, 218, 218, 218, 192, 242,  99,   0,   0,   0,   0,   0,\n",
              "          0,   0],\n",
              "       [  0,   0,   0,   0,   0,   0,   0, 142, 235, 203, 218, 216, 231,\n",
              "        242, 225, 233, 219, 214, 216, 238, 144,   0,   0,   0,   0,   0,\n",
              "          0,   0],\n",
              "       [  0,   0,   0,   0,   0,   0,   0, 177, 248, 227, 229, 211, 255,\n",
              "         76,   0, 247, 243, 230, 230, 249, 187,   0,   0,   0,   0,   0,\n",
              "          0,   0],\n",
              "       [  0,   0,   0,   0,   0,   0,   0, 101, 241, 228, 228, 220, 255,\n",
              "         64,   0, 243, 237, 230, 227, 241, 142,   0,   0,   0,   0,   0,\n",
              "          0,   0],\n",
              "       [  0,   0,   0,   0,   0,   0,   0,   0, 255, 242, 222, 218, 255,\n",
              "         62,   0, 223, 238, 225, 238, 255,  31,   0,   0,   0,   0,   0,\n",
              "          0,   0],\n",
              "       [  0,   0,   0,   0,   0,   0,   0,   0,  45, 255, 242, 235, 255,\n",
              "         84,   0, 246, 255, 242, 255,  70,   0,   0,   0,   0,   0,   0,\n",
              "          0,   0],\n",
              "       [  0,   0,   0,   0,   0,   0,   0,   0,   0,   0,  61, 102, 168,\n",
              "         25,   0, 139, 161,  74,   0,   0,   0,   0,   0,   0,   0,   0,\n",
              "          0,   0]], dtype=uint8)"
            ],
            "text/html": [
              "<style>\n",
              "      .ndarray_repr .ndarray_raw_data {\n",
              "        display: none;\n",
              "      }\n",
              "      .ndarray_repr.show_array .ndarray_raw_data {\n",
              "        display: block;\n",
              "      }\n",
              "      .ndarray_repr.show_array .ndarray_image_preview {\n",
              "        display: none;\n",
              "      }\n",
              "      </style>\n",
              "      <div id=\"id-715edfe3-6972-4844-81ea-e3021c99c6e0\" class=\"ndarray_repr\"><pre>ndarray (28, 28) <button style=\"padding: 0 2px;\">show data</button></pre><img src=\"data:image/png;base64,iVBORw0KGgoAAAANSUhEUgAAABwAAAAcCAAAAABXZoBIAAABY0lEQVR4nG3OO0sDQRQF4HNmduMjGBWirg8wICgiCmKjgjaChVhaibVg4S/xV9jZ2FkpdtZpAoqCTyIKGh/RaJKZ3WuVCDO51eV8nDsDuDPkJcBp/iQHYOjy4SzdyILGovtGCl+HW7r60VVpZKqxlJLST7RbSN51CR7eBHGNuOu2YaePF1oq9Rn8Mig3sflm0arwKf/1qPnp41OdSfU8VJ9t9M++5FA1AQxj4zefoUIFCXTw7iNqEEiSxPz/UPMsEkBIoVRaNBVADSVxf4smQSphYHMtURGEjlvgeCohFEmb9XGyaAhNKDOw6OGKKIICLdc7Hs4bTWhAtdcWPMxZJdAC6PRwm4O9WaOFEpOp4985B2dpCdWeUmIngkkH119NEncw7KaN7LSDY11R2kSbo5moJ5OecvCoRunAN2wdcbUAZ6R8cyXLuH27f5NRF6el/CIb+JGyrLoGYGn7YBB7+2v/yR+rVoQPczXmPgAAAABJRU5ErkJggg==\" class=\"ndarray_image_preview\" /><pre class=\"ndarray_raw_data\">array([[  0,   0,   0,   0,   0,   0,   0,   0,   0,   0,   0,   0,   0,\n",
              "          0,   0,   0,   0,  26,   0,   0,   0,   0,   0,   0,   0,   0,\n",
              "          0,   0],\n",
              "       [  0,   0,   0,   0,   0,   0,   0,   0, 189, 206, 187,  32,   0,\n",
              "          0,   0,  26, 217, 226, 196,  11,   0,   0,   0,   0,   0,   0,\n",
              "          0,   0],\n",
              "       [  0,   0,   0,   0,   0,   0,   0,   0, 192, 227, 234, 243, 230,\n",
              "        147, 239, 242, 234, 218, 209,   0,   0,   0,   0,   0,   0,   0,\n",
              "          0,   0],\n",
              "       [  0,   0,   0,   0,   0,   0,   0,   0, 173, 225, 215, 233, 254,\n",
              "          0, 194, 240, 217, 221, 190,   0,   0,   0,   0,   0,   0,   0,\n",
              "          0,   0],\n",
              "       [  0,   0,   0,   0,   0,   0,   0,   0, 139, 229, 212, 226, 255,\n",
              "          0, 162, 255, 213, 226, 200,   0,   0,   0,   0,   0,   0,   0,\n",
              "          0,   0],\n",
              "       [  0,   0,   0,   0,   0,   0,   0,   0,  98, 232, 211, 215, 249,\n",
              "         46, 162, 246, 214, 230, 186,   0,   0,   0,   0,   0,   0,   0,\n",
              "          0,   0],\n",
              "       [  0,   0,   0,   0,   0,   0,   0,   0,  70, 228, 213, 220, 224,\n",
              "        252, 239, 219, 217, 231, 171,   0,   0,   0,   0,   0,   0,   0,\n",
              "          0,   0],\n",
              "       [  0,   0,   0,   0,   0,   0,   0,   0,  45, 222, 214, 218, 216,\n",
              "        210, 215, 217, 202, 224, 172,   0,   0,   0,   0,   0,   0,   0,\n",
              "          0,   0],\n",
              "       [  0,   0,   0,   0,   0,   0,   0,   0,  24, 254, 214, 210, 211,\n",
              "        214, 215, 212, 203, 221, 167,   0,   0,   0,   0,   0,   0,   0,\n",
              "          0,   0],\n",
              "       [  0,   0,   0,   0,   0,   0,   0,   0,   0, 254, 216, 215, 217,\n",
              "        217, 216, 216, 206, 225, 150,   0,   0,   0,   0,   0,   0,   0,\n",
              "          0,   0],\n",
              "       [  0,   0,   0,   0,   0,   0,   0,   0,   0, 247, 216, 214, 217,\n",
              "        216, 214, 212, 203, 226, 136,   0,   0,   0,   0,   0,   0,   0,\n",
              "          0,   0],\n",
              "       [  0,   0,   0,   0,   0,   0,   0,   0,   0, 245, 216, 214, 216,\n",
              "        217, 215, 211, 204, 225, 125,   0,   0,   0,   0,   0,   0,   0,\n",
              "          0,   0],\n",
              "       [  0,   0,   0,   0,   0,   0,   0,   0,   0, 247, 216, 214, 217,\n",
              "        220, 217, 213, 203, 222, 147,   0,   0,   0,   0,   0,   0,   0,\n",
              "          0,   0],\n",
              "       [  0,   0,   0,   0,   0,   0,   0,   0,   0, 248, 216, 215, 218,\n",
              "        222, 216, 214, 207, 218, 179,   0,   0,   0,   0,   0,   0,   0,\n",
              "          0,   0],\n",
              "       [  0,   0,   0,   0,   0,   0,   0,   0,   0, 249, 216, 217, 219,\n",
              "        222, 217, 214, 210, 215, 211,   0,   0,   0,   0,   0,   0,   0,\n",
              "          0,   0],\n",
              "       [  0,   0,   0,   0,   0,   0,   0,   0,  38, 255, 214, 218, 219,\n",
              "        224, 218, 215, 211, 211, 231,   0,   0,   0,   0,   0,   0,   0,\n",
              "          0,   0],\n",
              "       [  0,   0,   0,   0,   0,   0,   0,   0,  79, 227, 209, 219, 219,\n",
              "        227, 219, 215, 213, 206, 254,  58,   0,   0,   0,   0,   0,   0,\n",
              "          0,   0],\n",
              "       [  0,   0,   0,   0,   0,   0,   0,   0, 146, 226, 211, 220, 219,\n",
              "        228, 218, 215, 216, 205, 219, 163,   0,   0,   0,   0,   0,   0,\n",
              "          0,   0],\n",
              "       [  0,   0,   0,   0,   0,   0,   0,   0, 202, 221, 214, 221, 219,\n",
              "        231, 218, 215, 218, 213, 212, 220,   0,   0,   0,   0,   0,   0,\n",
              "          0,   0],\n",
              "       [  0,   0,   0,   0,   0,   0,   0,   0, 234, 217, 216, 220, 219,\n",
              "        234, 217, 215, 218, 216, 223, 247,   7,   0,   0,   0,   0,   0,\n",
              "          0,   0],\n",
              "       [  0,   0,   0,   0,   0,   0,   0,  17, 254, 212, 219, 219, 220,\n",
              "        233, 214, 216, 219, 222, 153, 238,  58,   0,   0,   0,   0,   0,\n",
              "          0,   0],\n",
              "       [  0,   0,   0,   0,   0,   0,   0,  66, 255, 208, 220, 219, 222,\n",
              "        241, 220, 218, 218, 218, 192, 242,  99,   0,   0,   0,   0,   0,\n",
              "          0,   0],\n",
              "       [  0,   0,   0,   0,   0,   0,   0, 142, 235, 203, 218, 216, 231,\n",
              "        242, 225, 233, 219, 214, 216, 238, 144,   0,   0,   0,   0,   0,\n",
              "          0,   0],\n",
              "       [  0,   0,   0,   0,   0,   0,   0, 177, 248, 227, 229, 211, 255,\n",
              "         76,   0, 247, 243, 230, 230, 249, 187,   0,   0,   0,   0,   0,\n",
              "          0,   0],\n",
              "       [  0,   0,   0,   0,   0,   0,   0, 101, 241, 228, 228, 220, 255,\n",
              "         64,   0, 243, 237, 230, 227, 241, 142,   0,   0,   0,   0,   0,\n",
              "          0,   0],\n",
              "       [  0,   0,   0,   0,   0,   0,   0,   0, 255, 242, 222, 218, 255,\n",
              "         62,   0, 223, 238, 225, 238, 255,  31,   0,   0,   0,   0,   0,\n",
              "          0,   0],\n",
              "       [  0,   0,   0,   0,   0,   0,   0,   0,  45, 255, 242, 235, 255,\n",
              "         84,   0, 246, 255, 242, 255,  70,   0,   0,   0,   0,   0,   0,\n",
              "          0,   0],\n",
              "       [  0,   0,   0,   0,   0,   0,   0,   0,   0,   0,  61, 102, 168,\n",
              "         25,   0, 139, 161,  74,   0,   0,   0,   0,   0,   0,   0,   0,\n",
              "          0,   0]], dtype=uint8)</pre></div><script>\n",
              "      (() => {\n",
              "      const titles = ['show data', 'hide data'];\n",
              "      let index = 0\n",
              "      document.querySelector('#id-715edfe3-6972-4844-81ea-e3021c99c6e0 button').onclick = (e) => {\n",
              "        document.querySelector('#id-715edfe3-6972-4844-81ea-e3021c99c6e0').classList.toggle('show_array');\n",
              "        index = (++index) % 2;\n",
              "        document.querySelector('#id-715edfe3-6972-4844-81ea-e3021c99c6e0 button').textContent = titles[index];\n",
              "        e.preventDefault();\n",
              "        e.stopPropagation();\n",
              "      }\n",
              "      })();\n",
              "    </script>"
            ]
          },
          "metadata": {},
          "execution_count": 140
        }
      ]
    },
    {
      "cell_type": "markdown",
      "source": [
        "np.max() gives the maximum value. Hence the maximum value in X_train is 255. We can even see the minimum value using np.min(X_train). The minimum value will be 0."
      ],
      "metadata": {
        "id": "CoAQ9bwgFIyd"
      }
    },
    {
      "cell_type": "markdown",
      "source": [
        "As we know the images are divided into 10 categories. The 10 categories are encoded using a numerical value as show below."
      ],
      "metadata": {
        "id": "_8rW9L9EFXsd"
      }
    },
    {
      "cell_type": "markdown",
      "source": [
        "These are all the class name in their proper order. top is encoded as 0, trouser is encoded as 1 and so on."
      ],
      "metadata": {
        "id": "87eVPpqnFgIh"
      }
    },
    {
      "cell_type": "markdown",
      "source": [
        "class_names = ['top', 'trouser', 'pullover', 'dress', 'coat', 'sandal', 'shirt', 'sneaker', 'bag', 'ankle boot']"
      ],
      "metadata": {
        "id": "5UjeA60JFj4r"
      }
    },
    {
      "cell_type": "code",
      "source": [
        "class_names = ['top', 'trouser', 'pullover', 'dress', 'coat',\n",
        "               'sandal', 'shirt', 'sneaker', 'bag', 'ankle boot']\n",
        "# y_train[:5]\n",
        "# X_train[0] # 9 ==== Shoe\n",
        "# X_train[1] # 0 === top\n",
        "# X_train[2] # 0 === top\n",
        "# X_train[3] # 3 === dress\n",
        "# X_train[4] # 0 === top\n",
        "# Total 60k images\n",
        "# the divides into 10 classes"
      ],
      "metadata": {
        "id": "ScwK0Ju3HmFU"
      },
      "execution_count": null,
      "outputs": []
    },
    {
      "cell_type": "code",
      "source": [
        "# X_train: 60000\n",
        "# Y_train: outputs\n",
        "# X_train[0]   ====== y_train[0]\n",
        "# Boot =========== 9"
      ],
      "metadata": {
        "id": "vve3T4E4LAuA"
      },
      "execution_count": null,
      "outputs": []
    },
    {
      "cell_type": "markdown",
      "source": [
        "### Data exploration"
      ],
      "metadata": {
        "id": "FZTyQNEkFoI6"
      }
    },
    {
      "cell_type": "markdown",
      "source": [
        "- Here we have plotted the second image of our training set i.e. the image at index 1.\n",
        "\n",
        "- The **plt.figure()** function in pyplot module of matplotlib library is used to create a new figure.\n",
        "\n",
        "- The **plt.imshow()** function in pyplot module of matplotlib library is used to display data as an image.\n",
        "\n",
        "- **plt.colorbar()** displays the colour bar besides the image. You can see that the values are between 0 and 255."
      ],
      "metadata": {
        "id": "sikEa8wqHLYV"
      }
    },
    {
      "cell_type": "code",
      "source": [
        "class_names[y_train[0]]\n",
        "#y_train[0]"
      ],
      "metadata": {
        "colab": {
          "base_uri": "https://localhost:8080/",
          "height": 35
        },
        "id": "7vVpTytCDXCJ",
        "outputId": "c1b4fe22-904c-49f7-cae3-4f4b81d044ec"
      },
      "execution_count": null,
      "outputs": [
        {
          "output_type": "execute_result",
          "data": {
            "text/plain": [
              "'ankle boot'"
            ],
            "application/vnd.google.colaboratory.intrinsic+json": {
              "type": "string"
            }
          },
          "metadata": {},
          "execution_count": 143
        }
      ]
    },
    {
      "cell_type": "code",
      "source": [
        "plt.imshow(X_train[0])\n",
        "plt.xlabel(y_train[0])\n",
        "plt.title(class_names[y_train[0]])\n",
        "# image shape 28x28"
      ],
      "metadata": {
        "colab": {
          "base_uri": "https://localhost:8080/",
          "height": 489
        },
        "id": "FxuK4MNln1Xb",
        "outputId": "88ad17a1-d284-4bff-cf55-176ee9f1deed"
      },
      "execution_count": null,
      "outputs": [
        {
          "output_type": "execute_result",
          "data": {
            "text/plain": [
              "Text(0.5, 1.0, 'ankle boot')"
            ]
          },
          "metadata": {},
          "execution_count": 144
        },
        {
          "output_type": "display_data",
          "data": {
            "text/plain": [
              "<Figure size 640x480 with 1 Axes>"
            ],
            "image/png": "[encoded data removed]"
          },
          "metadata": {}
        }
      ]
    },
    {
      "cell_type": "code",
      "source": [
        "plt.imshow(X_train[2])\n",
        "plt.xlabel(y_train[2])\n",
        "plt.title(class_names[y_train[2]])\n",
        "# image shape 28x28"
      ],
      "metadata": {
        "colab": {
          "base_uri": "https://localhost:8080/",
          "height": 489
        },
        "id": "nT-xVsnCDxI2",
        "outputId": "f0fb6e0e-c36c-4f33-8d5e-806e362e1fc6"
      },
      "execution_count": null,
      "outputs": [
        {
          "output_type": "execute_result",
          "data": {
            "text/plain": [
              "Text(0.5, 1.0, 'top')"
            ]
          },
          "metadata": {},
          "execution_count": 145
        },
        {
          "output_type": "display_data",
          "data": {
            "text/plain": [
              "<Figure size 640x480 with 1 Axes>"
            ],
            "image/png": "[encoded data removed]"
          },
          "metadata": {}
        }
      ]
    },
    {
      "cell_type": "code",
      "source": [
        "for i in range(0,25):\n",
        "    plt.subplot(5,5,i+1)"
      ],
      "metadata": {
        "colab": {
          "base_uri": "https://localhost:8080/",
          "height": 435
        },
        "id": "__GdHKxvEAMq",
        "outputId": "a8223af6-9213-4b5a-e222-d52346faf86e"
      },
      "execution_count": null,
      "outputs": [
        {
          "output_type": "display_data",
          "data": {
            "text/plain": [
              "<Figure size 640x480 with 25 Axes>"
            ],
            "image/png": "[encoded data removed]"
          },
          "metadata": {}
        }
      ]
    },
    {
      "cell_type": "code",
      "source": [
        "plt.figure(figsize=(10,14))\n",
        "for i in range(1,26):\n",
        "    plt.subplot(5,5,i)\n",
        "    plt.imshow(X_train[i])\n",
        "    plt.xlabel(y_train[i])\n",
        "    plt.title(class_names[y_train[i]])"
      ],
      "metadata": {
        "colab": {
          "base_uri": "https://localhost:8080/",
          "height": 1000
        },
        "id": "J0KJgW5_Oz8P",
        "outputId": "6de7e27a-92bd-4626-de53-87663c49d86b"
      },
      "execution_count": null,
      "outputs": [
        {
          "output_type": "display_data",
          "data": {
            "text/plain": [
              "<Figure size 1000x1400 with 25 Axes>"
            ],
            "image/png": "[encoded data removed]"
          },
          "metadata": {}
        }
      ]
    },
    {
      "cell_type": "code",
      "source": [
        "plt.figure()\n",
        "plt.imshow(X_train[1])\n",
        "plt.title(class_names[y_train[1]])\n",
        "plt.colorbar()\n",
        "plt.show()\n",
        "\n",
        "# yellow =250"
      ],
      "metadata": {
        "colab": {
          "base_uri": "https://localhost:8080/",
          "height": 452
        },
        "id": "SFThejmYG9hl",
        "outputId": "fd2a4699-b433-4a79-e067-fd7c12cab287"
      },
      "execution_count": null,
      "outputs": [
        {
          "output_type": "display_data",
          "data": {
            "text/plain": [
              "<Figure size 640x480 with 2 Axes>"
            ],
            "image/png": "[encoded data removed]"
          },
          "metadata": {}
        }
      ]
    },
    {
      "cell_type": "markdown",
      "source": [
        "As you can see the image is a top and the value at index 0 of y_train also corresponds to the class name top."
      ],
      "metadata": {
        "id": "bGvOt0FKHTiz"
      }
    },
    {
      "cell_type": "code",
      "source": [
        "plt.figure(figsize=(10,10))\n",
        "for i in range(25):  # 25images\n",
        "    plt.subplot(5,5,i+1) # 25 plots  i=2   5,5,2\n",
        "    plt.xticks([])\n",
        "    plt.yticks([])\n",
        "    plt.grid(False)\n",
        "    plt.imshow(X_train[i])\n",
        "    plt.xlabel(class_names[y_train[i]])\n",
        "    #plt.xlabel(y_train[i])\n",
        "plt.show()"
      ],
      "metadata": {
        "colab": {
          "base_uri": "https://localhost:8080/",
          "height": 826
        },
        "id": "nnbrcu09DpiR",
        "outputId": "d6dcf700-01d3-45a3-a35c-a49368f28ece"
      },
      "execution_count": null,
      "outputs": [
        {
          "output_type": "display_data",
          "data": {
            "text/plain": [
              "<Figure size 1000x1000 with 25 Axes>"
            ],
            "image/png": "[encoded data removed]"
          },
          "metadata": {}
        }
      ]
    },
    {
      "cell_type": "markdown",
      "source": [
        "**Normalization**\n",
        "\n",
        "range between 0 to 1"
      ],
      "metadata": {
        "id": "jz2QG0-_2C6T"
      }
    },
    {
      "cell_type": "markdown",
      "source": [
        "Neural Network model doesn't take value greater than 1.\n",
        "\n",
        "So we need to bring all the values between 0 and 1.\n",
        "\n",
        "To do this we will divide all the values in the training and testing dataset by 255 as the greatest value in our dataset is 255."
      ],
      "metadata": {
        "id": "P6OuSrr6H84Y"
      }
    },
    {
      "cell_type": "code",
      "source": [
        "np.array([10,20])/2"
      ],
      "metadata": {
        "colab": {
          "base_uri": "https://localhost:8080/"
        },
        "id": "PaObZDOa4pCk",
        "outputId": "87b6634d-a7a1-41f0-a548-52328656a960"
      },
      "execution_count": null,
      "outputs": [
        {
          "output_type": "execute_result",
          "data": {
            "text/plain": [
              "array([ 5., 10.])"
            ]
          },
          "metadata": {},
          "execution_count": 150
        }
      ]
    },
    {
      "cell_type": "code",
      "source": [
        "X_train = X_train/255.0\n",
        "X_test = X_test/255.0"
      ],
      "metadata": {
        "id": "z590xnrTHqm_"
      },
      "execution_count": null,
      "outputs": []
    },
    {
      "cell_type": "code",
      "source": [
        "X_train[0]"
      ],
      "metadata": {
        "colab": {
          "base_uri": "https://localhost:8080/"
        },
        "id": "GjLpbTumRTzu",
        "outputId": "d2fe1a26-3e2f-42d7-f8f0-5c0ac8d5fb5e"
      },
      "execution_count": null,
      "outputs": [
        {
          "output_type": "execute_result",
          "data": {
            "text/plain": [
              "array([[0.        , 0.        , 0.        , 0.        , 0.        ,\n",
              "        0.        , 0.        , 0.        , 0.        , 0.        ,\n",
              "        0.        , 0.        , 0.        , 0.        , 0.        ,\n",
              "        0.        , 0.        , 0.        , 0.        , 0.        ,\n",
              "        0.        , 0.        , 0.        , 0.        , 0.        ,\n",
              "        0.        , 0.        , 0.        ],\n",
              "       [0.        , 0.        , 0.        , 0.        , 0.        ,\n",
              "        0.        , 0.        , 0.        , 0.        , 0.        ,\n",
              "        0.        , 0.        , 0.        , 0.        , 0.        ,\n",
              "        0.        , 0.        , 0.        , 0.        , 0.        ,\n",
              "        0.        , 0.        , 0.        , 0.        , 0.        ,\n",
              "        0.        , 0.        , 0.        ],\n",
              "       [0.        , 0.        , 0.        , 0.        , 0.        ,\n",
              "        0.        , 0.        , 0.        , 0.        , 0.        ,\n",
              "        0.        , 0.        , 0.        , 0.        , 0.        ,\n",
              "        0.        , 0.        , 0.        , 0.        , 0.        ,\n",
              "        0.        , 0.        , 0.        , 0.        , 0.        ,\n",
              "        0.        , 0.        , 0.        ],\n",
              "       [0.        , 0.        , 0.        , 0.        , 0.        ,\n",
              "        0.        , 0.        , 0.        , 0.        , 0.        ,\n",
              "        0.        , 0.        , 0.00392157, 0.        , 0.        ,\n",
              "        0.05098039, 0.28627451, 0.        , 0.        , 0.00392157,\n",
              "        0.01568627, 0.        , 0.        , 0.        , 0.        ,\n",
              "        0.00392157, 0.00392157, 0.        ],\n",
              "       [0.        , 0.        , 0.        , 0.        , 0.        ,\n",
              "        0.        , 0.        , 0.        , 0.        , 0.        ,\n",
              "        0.        , 0.        , 0.01176471, 0.        , 0.14117647,\n",
              "        0.53333333, 0.49803922, 0.24313725, 0.21176471, 0.        ,\n",
              "        0.        , 0.        , 0.00392157, 0.01176471, 0.01568627,\n",
              "        0.        , 0.        , 0.01176471],\n",
              "       [0.        , 0.        , 0.        , 0.        , 0.        ,\n",
              "        0.        , 0.        , 0.        , 0.        , 0.        ,\n",
              "        0.        , 0.        , 0.02352941, 0.        , 0.4       ,\n",
              "        0.8       , 0.69019608, 0.5254902 , 0.56470588, 0.48235294,\n",
              "        0.09019608, 0.        , 0.        , 0.        , 0.        ,\n",
              "        0.04705882, 0.03921569, 0.        ],\n",
              "       [0.        , 0.        , 0.        , 0.        , 0.        ,\n",
              "        0.        , 0.        , 0.        , 0.        , 0.        ,\n",
              "        0.        , 0.        , 0.        , 0.        , 0.60784314,\n",
              "        0.9254902 , 0.81176471, 0.69803922, 0.41960784, 0.61176471,\n",
              "        0.63137255, 0.42745098, 0.25098039, 0.09019608, 0.30196078,\n",
              "        0.50980392, 0.28235294, 0.05882353],\n",
              "       [0.        , 0.        , 0.        , 0.        , 0.        ,\n",
              "        0.        , 0.        , 0.        , 0.        , 0.        ,\n",
              "        0.        , 0.00392157, 0.        , 0.27058824, 0.81176471,\n",
              "        0.8745098 , 0.85490196, 0.84705882, 0.84705882, 0.63921569,\n",
              "        0.49803922, 0.4745098 , 0.47843137, 0.57254902, 0.55294118,\n",
              "        0.34509804, 0.6745098 , 0.25882353],\n",
              "       [0.        , 0.        , 0.        , 0.        , 0.        ,\n",
              "        0.        , 0.        , 0.        , 0.        , 0.00392157,\n",
              "        0.00392157, 0.00392157, 0.        , 0.78431373, 0.90980392,\n",
              "        0.90980392, 0.91372549, 0.89803922, 0.8745098 , 0.8745098 ,\n",
              "        0.84313725, 0.83529412, 0.64313725, 0.49803922, 0.48235294,\n",
              "        0.76862745, 0.89803922, 0.        ],\n",
              "       [0.        , 0.        , 0.        , 0.        , 0.        ,\n",
              "        0.        , 0.        , 0.        , 0.        , 0.        ,\n",
              "        0.        , 0.        , 0.        , 0.71764706, 0.88235294,\n",
              "        0.84705882, 0.8745098 , 0.89411765, 0.92156863, 0.89019608,\n",
              "        0.87843137, 0.87058824, 0.87843137, 0.86666667, 0.8745098 ,\n",
              "        0.96078431, 0.67843137, 0.        ],\n",
              "       [0.        , 0.        , 0.        , 0.        , 0.        ,\n",
              "        0.        , 0.        , 0.        , 0.        , 0.        ,\n",
              "        0.        , 0.        , 0.        , 0.75686275, 0.89411765,\n",
              "        0.85490196, 0.83529412, 0.77647059, 0.70588235, 0.83137255,\n",
              "        0.82352941, 0.82745098, 0.83529412, 0.8745098 , 0.8627451 ,\n",
              "        0.95294118, 0.79215686, 0.        ],\n",
              "       [0.        , 0.        , 0.        , 0.        , 0.        ,\n",
              "        0.        , 0.        , 0.        , 0.        , 0.00392157,\n",
              "        0.01176471, 0.        , 0.04705882, 0.85882353, 0.8627451 ,\n",
              "        0.83137255, 0.85490196, 0.75294118, 0.6627451 , 0.89019608,\n",
              "        0.81568627, 0.85490196, 0.87843137, 0.83137255, 0.88627451,\n",
              "        0.77254902, 0.81960784, 0.20392157],\n",
              "       [0.        , 0.        , 0.        , 0.        , 0.        ,\n",
              "        0.        , 0.        , 0.        , 0.        , 0.        ,\n",
              "        0.02352941, 0.        , 0.38823529, 0.95686275, 0.87058824,\n",
              "        0.8627451 , 0.85490196, 0.79607843, 0.77647059, 0.86666667,\n",
              "        0.84313725, 0.83529412, 0.87058824, 0.8627451 , 0.96078431,\n",
              "        0.46666667, 0.65490196, 0.21960784],\n",
              "       [0.        , 0.        , 0.        , 0.        , 0.        ,\n",
              "        0.        , 0.        , 0.        , 0.        , 0.01568627,\n",
              "        0.        , 0.        , 0.21568627, 0.9254902 , 0.89411765,\n",
              "        0.90196078, 0.89411765, 0.94117647, 0.90980392, 0.83529412,\n",
              "        0.85490196, 0.8745098 , 0.91764706, 0.85098039, 0.85098039,\n",
              "        0.81960784, 0.36078431, 0.        ],\n",
              "       [0.        , 0.        , 0.00392157, 0.01568627, 0.02352941,\n",
              "        0.02745098, 0.00784314, 0.        , 0.        , 0.        ,\n",
              "        0.        , 0.        , 0.92941176, 0.88627451, 0.85098039,\n",
              "        0.8745098 , 0.87058824, 0.85882353, 0.87058824, 0.86666667,\n",
              "        0.84705882, 0.8745098 , 0.89803922, 0.84313725, 0.85490196,\n",
              "        1.        , 0.30196078, 0.        ],\n",
              "       [0.        , 0.01176471, 0.        , 0.        , 0.        ,\n",
              "        0.        , 0.        , 0.        , 0.        , 0.24313725,\n",
              "        0.56862745, 0.8       , 0.89411765, 0.81176471, 0.83529412,\n",
              "        0.86666667, 0.85490196, 0.81568627, 0.82745098, 0.85490196,\n",
              "        0.87843137, 0.8745098 , 0.85882353, 0.84313725, 0.87843137,\n",
              "        0.95686275, 0.62352941, 0.        ],\n",
              "       [0.        , 0.        , 0.        , 0.        , 0.07058824,\n",
              "        0.17254902, 0.32156863, 0.41960784, 0.74117647, 0.89411765,\n",
              "        0.8627451 , 0.87058824, 0.85098039, 0.88627451, 0.78431373,\n",
              "        0.80392157, 0.82745098, 0.90196078, 0.87843137, 0.91764706,\n",
              "        0.69019608, 0.7372549 , 0.98039216, 0.97254902, 0.91372549,\n",
              "        0.93333333, 0.84313725, 0.        ],\n",
              "       [0.        , 0.22352941, 0.73333333, 0.81568627, 0.87843137,\n",
              "        0.86666667, 0.87843137, 0.81568627, 0.8       , 0.83921569,\n",
              "        0.81568627, 0.81960784, 0.78431373, 0.62352941, 0.96078431,\n",
              "        0.75686275, 0.80784314, 0.8745098 , 1.        , 1.        ,\n",
              "        0.86666667, 0.91764706, 0.86666667, 0.82745098, 0.8627451 ,\n",
              "        0.90980392, 0.96470588, 0.        ],\n",
              "       [0.01176471, 0.79215686, 0.89411765, 0.87843137, 0.86666667,\n",
              "        0.82745098, 0.82745098, 0.83921569, 0.80392157, 0.80392157,\n",
              "        0.80392157, 0.8627451 , 0.94117647, 0.31372549, 0.58823529,\n",
              "        1.        , 0.89803922, 0.86666667, 0.7372549 , 0.60392157,\n",
              "        0.74901961, 0.82352941, 0.8       , 0.81960784, 0.87058824,\n",
              "        0.89411765, 0.88235294, 0.        ],\n",
              "       [0.38431373, 0.91372549, 0.77647059, 0.82352941, 0.87058824,\n",
              "        0.89803922, 0.89803922, 0.91764706, 0.97647059, 0.8627451 ,\n",
              "        0.76078431, 0.84313725, 0.85098039, 0.94509804, 0.25490196,\n",
              "        0.28627451, 0.41568627, 0.45882353, 0.65882353, 0.85882353,\n",
              "        0.86666667, 0.84313725, 0.85098039, 0.8745098 , 0.8745098 ,\n",
              "        0.87843137, 0.89803922, 0.11372549],\n",
              "       [0.29411765, 0.8       , 0.83137255, 0.8       , 0.75686275,\n",
              "        0.80392157, 0.82745098, 0.88235294, 0.84705882, 0.7254902 ,\n",
              "        0.77254902, 0.80784314, 0.77647059, 0.83529412, 0.94117647,\n",
              "        0.76470588, 0.89019608, 0.96078431, 0.9372549 , 0.8745098 ,\n",
              "        0.85490196, 0.83137255, 0.81960784, 0.87058824, 0.8627451 ,\n",
              "        0.86666667, 0.90196078, 0.2627451 ],\n",
              "       [0.18823529, 0.79607843, 0.71764706, 0.76078431, 0.83529412,\n",
              "        0.77254902, 0.7254902 , 0.74509804, 0.76078431, 0.75294118,\n",
              "        0.79215686, 0.83921569, 0.85882353, 0.86666667, 0.8627451 ,\n",
              "        0.9254902 , 0.88235294, 0.84705882, 0.78039216, 0.80784314,\n",
              "        0.72941176, 0.70980392, 0.69411765, 0.6745098 , 0.70980392,\n",
              "        0.80392157, 0.80784314, 0.45098039],\n",
              "       [0.        , 0.47843137, 0.85882353, 0.75686275, 0.70196078,\n",
              "        0.67058824, 0.71764706, 0.76862745, 0.8       , 0.82352941,\n",
              "        0.83529412, 0.81176471, 0.82745098, 0.82352941, 0.78431373,\n",
              "        0.76862745, 0.76078431, 0.74901961, 0.76470588, 0.74901961,\n",
              "        0.77647059, 0.75294118, 0.69019608, 0.61176471, 0.65490196,\n",
              "        0.69411765, 0.82352941, 0.36078431],\n",
              "       [0.        , 0.        , 0.29019608, 0.74117647, 0.83137255,\n",
              "        0.74901961, 0.68627451, 0.6745098 , 0.68627451, 0.70980392,\n",
              "        0.7254902 , 0.7372549 , 0.74117647, 0.7372549 , 0.75686275,\n",
              "        0.77647059, 0.8       , 0.81960784, 0.82352941, 0.82352941,\n",
              "        0.82745098, 0.7372549 , 0.7372549 , 0.76078431, 0.75294118,\n",
              "        0.84705882, 0.66666667, 0.        ],\n",
              "       [0.00784314, 0.        , 0.        , 0.        , 0.25882353,\n",
              "        0.78431373, 0.87058824, 0.92941176, 0.9372549 , 0.94901961,\n",
              "        0.96470588, 0.95294118, 0.95686275, 0.86666667, 0.8627451 ,\n",
              "        0.75686275, 0.74901961, 0.70196078, 0.71372549, 0.71372549,\n",
              "        0.70980392, 0.69019608, 0.65098039, 0.65882353, 0.38823529,\n",
              "        0.22745098, 0.        , 0.        ],\n",
              "       [0.        , 0.        , 0.        , 0.        , 0.        ,\n",
              "        0.        , 0.        , 0.15686275, 0.23921569, 0.17254902,\n",
              "        0.28235294, 0.16078431, 0.1372549 , 0.        , 0.        ,\n",
              "        0.        , 0.        , 0.        , 0.        , 0.        ,\n",
              "        0.        , 0.        , 0.        , 0.        , 0.        ,\n",
              "        0.        , 0.        , 0.        ],\n",
              "       [0.        , 0.        , 0.        , 0.        , 0.        ,\n",
              "        0.        , 0.        , 0.        , 0.        , 0.        ,\n",
              "        0.        , 0.        , 0.        , 0.        , 0.        ,\n",
              "        0.        , 0.        , 0.        , 0.        , 0.        ,\n",
              "        0.        , 0.        , 0.        , 0.        , 0.        ,\n",
              "        0.        , 0.        , 0.        ],\n",
              "       [0.        , 0.        , 0.        , 0.        , 0.        ,\n",
              "        0.        , 0.        , 0.        , 0.        , 0.        ,\n",
              "        0.        , 0.        , 0.        , 0.        , 0.        ,\n",
              "        0.        , 0.        , 0.        , 0.        , 0.        ,\n",
              "        0.        , 0.        , 0.        , 0.        , 0.        ,\n",
              "        0.        , 0.        , 0.        ]])"
            ]
          },
          "metadata": {},
          "execution_count": 152
        }
      ]
    },
    {
      "cell_type": "code",
      "source": [
        "plt.imshow(X_train[0])"
      ],
      "metadata": {
        "colab": {
          "base_uri": "https://localhost:8080/",
          "height": 447
        },
        "id": "qqENbtDDrf-3",
        "outputId": "767e4808-cd07-4cc2-e7e8-1e51b6cf4985"
      },
      "execution_count": null,
      "outputs": [
        {
          "output_type": "execute_result",
          "data": {
            "text/plain": [
              "<matplotlib.image.AxesImage at 0x77fe3cc104f0>"
            ]
          },
          "metadata": {},
          "execution_count": 153
        },
        {
          "output_type": "display_data",
          "data": {
            "text/plain": [
              "<Figure size 640x480 with 1 Axes>"
            ],
            "image/png": "[encoded data removed]"
          },
          "metadata": {}
        }
      ]
    },
    {
      "cell_type": "markdown",
      "source": [
        "Now we can see that all the values are between 0 and 1."
      ],
      "metadata": {
        "id": "06i0ugNgIKdf"
      }
    },
    {
      "cell_type": "code",
      "source": [
        "plt.figure()\n",
        "plt.imshow(X_train[1])\n",
        "plt.colorbar()  # scale of the values\n",
        "plt.show()"
      ],
      "metadata": {
        "colab": {
          "base_uri": "https://localhost:8080/",
          "height": 435
        },
        "id": "_8tUGtvSHvWP",
        "outputId": "a200c828-4819-4370-bb27-e3a8388c70b7"
      },
      "execution_count": null,
      "outputs": [
        {
          "output_type": "display_data",
          "data": {
            "text/plain": [
              "<Figure size 640x480 with 2 Axes>"
            ],
            "image/png": "[encoded data removed]"
          },
          "metadata": {}
        }
      ]
    },
    {
      "cell_type": "markdown",
      "source": [
        "- We read the data\n",
        "\n",
        "- we understand the values\n",
        "\n",
        "- we understand the shape of the data\n",
        "\n",
        "- we plot the data\n",
        "\n",
        "- we understand the lables of the data\n",
        "\n",
        "- we normlaize the data\n",
        "\n",
        "- here train and test data both are available\n",
        "\n",
        "- here X(input data)  , y (target data) already provided"
      ],
      "metadata": {
        "id": "M7ZonSxE2xBR"
      }
    },
    {
      "cell_type": "markdown",
      "source": [
        "**Build the model with TF 2.0**"
      ],
      "metadata": {
        "id": "AprtZf-IIVI5"
      }
    },
    {
      "cell_type": "markdown",
      "source": [
        "We will import the necessary layers to build the model. The Neural Network is constructed from 3 type of layers:\n",
        "\n",
        "**Input layer** — initial data for the neural network.\n",
        "\n",
        "**Hidden layers** — intermediate layer between input and output layer and place\n",
        "where all the computation is done.\n",
        "\n",
        "**Output layer** — produce the result for given inputs"
      ],
      "metadata": {
        "id": "hAcmnJ6WIdii"
      }
    },
    {
      "cell_type": "code",
      "source": [
        "from tensorflow.keras import Sequential\n",
        "from tensorflow.keras.layers import Flatten, Dense"
      ],
      "metadata": {
        "id": "VBbb2oh6IIoL"
      },
      "execution_count": null,
      "outputs": []
    },
    {
      "cell_type": "markdown",
      "source": [
        "**Flatten()**\n",
        "\n",
        "- is used as the input layer to convert the data into a 1-dimensional array for input it to the next layer.\n",
        "\n",
        "\n",
        "- Our image 2D image will be converted to a single 1D column.\n",
        "input_shape = (28,28) because the size of our input image is 28x28.\n",
        "\n",
        "**Dense()**\n",
        "\n",
        "    - layer is the regular deeply connected neural network layer.\n",
        "\n",
        "    - It is most common and frequently used layer.\n",
        "    \n",
        "    - We have a dense layer with 128 neurons with activation function relu.\n",
        "    \n",
        "    - The rectified linear activation function or ReLU for short is a piecewise linear function that will output the input directly if it is positive, otherwise, it will output zero."
      ],
      "metadata": {
        "id": "qSuvqv5NI5gN"
      }
    },
    {
      "cell_type": "markdown",
      "source": [
        "<img decoding=\"async\" loading=\"lazy\" width=\"357\" height=\"278\" src=\"https://kgptalkie.com/wp-content/uploads/2020/08/relu.png\" alt=\"\" class=\"wp-image-3518\" srcset=\"https://kgptalkie.com/wp-content/uploads/2020/08/relu.png 357w, https://kgptalkie.com/wp-content/uploads/2020/08/relu-300x234.png 300w\" sizes=\"(max-width: 357px) 100vw, 357px\">"
      ],
      "metadata": {
        "id": "cMCHsXTSJOGu"
      }
    },
    {
      "cell_type": "markdown",
      "source": [
        "- The **output layer** is a dense layer with 10 neurons because we have 10 classes.\n",
        "\n",
        "- The activation function used is **softmax**.\n",
        "\n",
        "- Softmax converts a real vector to a vector of categorical probabilities.\n",
        "\n",
        "- The elements of the output vector are in range (0, 1) and sum to 1.\n",
        "\n",
        "- Softmax is often used as the activation for the last layer of a classification network because the result could be interpreted as a probability distribution."
      ],
      "metadata": {
        "id": "Rop3Sw5BJS-V"
      }
    },
    {
      "cell_type": "code",
      "source": [
        "X_train.shape[1:]"
      ],
      "metadata": {
        "colab": {
          "base_uri": "https://localhost:8080/"
        },
        "id": "75mVZhKpSKky",
        "outputId": "c86985f1-499c-4900-b3b2-44667b682c70"
      },
      "execution_count": null,
      "outputs": [
        {
          "output_type": "execute_result",
          "data": {
            "text/plain": [
              "(28, 28)"
            ]
          },
          "metadata": {},
          "execution_count": 156
        }
      ]
    },
    {
      "cell_type": "markdown",
      "source": [
        "## Model Development"
      ],
      "metadata": {
        "id": "9z8gJl461F1-"
      }
    },
    {
      "cell_type": "markdown",
      "source": [
        "<img id=\"dimg_301\" src=\"data:image/png;base64,iVBORw0KGgoAAAANSUhEUgAAAM0AAAD2CAMAAABC3/M1AAABHVBMVEX///8AAADX19fR0dGQkJCGhoabm+D7+/uWlt+BgYH4+PiFhYX19fXy8vLFxcWKiorn5+fh4eGlpaWUlJSampqhoaG3t7fgmZndkJC9vb2urq72+vbJycl7e3uSkt7ioqKcxJzExOz19fysrOXl5fegxqDx8fvW1vKLi9zns7O0tOfd3fShoeLLy+746enkqam6uumDg9rZgYHz3d15edfvzs7t9O271bvM4Mzy1tbpvb3g7OCPvY96snpkZGSoqOTX5tc7OzttbdJSUs5PT08mjCauzq5qqWokJCRdXdA9PcoqKsZlZdHNXFzZhobIOzvGJyfNTU3UdXXMSUnFGRkqKipTnVMAfwBtqG1El0QxjjFdoV1gYGBGRkYlJSW8wtwUAAAUWUlEQVR4nO1dCXsaR9JuDmsQBsQlEIcsEAgMiEOWJdARS/Y6JNn94nzrb53P2ST7/3/Gds/Z9zEzWJBH72NLgEajrunq6uqqersBeIYSg729fh/+H0zhm9O3ffh1+OGpGxUei3MAemPQ76I350P09W9P26IoGD/Y0pxaAFiDByjNAPwEX05gT8GXu4bF22737Rh0P4Bpb/BhCF5NJn8H/czpBfiwN/ifp26dKdy+AR/A35GmTV4jTfsw7b/tL7rg7a71zvjck+YfAOxNpudImp/6UPPG012WBjb97RBA5foH6I7B8HQHpen3en30f/EwAItp9xwMusOHKZh2J6e9cb+3eOr2PeMviEH3YQ/ifNF/6pZERn8vM+5b9stBdy8zfeLmRMLw9YL+YPw0LYmO04su+2H/YvjtWxIDuq8En2e+bTtiwTmnYxwM3n7LdsSCvYnkh7smzoNMmF0TZ6pwXU4FY2orYb1WXTHdoZlH48kr5d0a9DWmyNPzzbcjHmgNil2ZdU4fdK4a7IiP0zvVumxHzJqmDj3oCf3U2NO7bCJ0fbYJfd1WbtKqZWezWSw36uquMTX7MBSs+c859tMQAmoagc1KA24+cT48Mb+PdiM3Lc3Vyc1oBuq3VyMw+2TBD0a/3GZN76M9HDbeN/8Lcp/BVR1cfgafc+CfAPxsfp/t0bSfQRZKM0divQkrzVZYAUyaEQC/gDdZ8H/ogyvT+2yFhZ59+uflzb8uR7/Mrj5fHs3A7ejmX1fg85W5VdP0BSbfZomD+saHZf77mtJ8oyXBp88hRMAw1stnbL/XaRWTtaLeU+9vedbjxY8JiAPNp/6tusbKznJhdK2GhEnCF4Oe+mKdayLj8qRen49uR/N6vW5mm0uVciLxznmdUU+gF2FaZwTr5OgWe3tTr+ua51w5XQDguOa9V7Z1sfHY+kmd8cnmRzoq10g3qd+cKPSov1E/AOLyDWdBAADRWzwkK9Ui++lC6hCcXgDrQLtlITAfCX5wcyT5rXw53eb/pCeZ6U9RGNra5zyEmFC/Ef4o90b0E1bDMCyEyjZx45zlmuiKiKhfSn5occXha5iHfApMLvhjrueLmdyMto3EPYOQZVal+XJFoGEOmok8/JrhdM/wAlswbETbLkVjxsMNeYFUwyDyHxPOU++/ooJm3ddwODWwDzagbcKB4aMe2Du5hiE0oUtgXw+noNNeZm9qe6GnQ/jS7pd8Fbs4+dK4uXLMNeZIV9fyhyIbFqDpOGvwubuewWRxvne+N5763VQr4dfHrG0yE+zhFpmJWrqpM5nuJxJIERsJoRbtE+/KTY2b6mKk5b4cgYJKw1ykGu00/NZOJITXE7oGte2F1o21oNM1BoG10qH9LQn1TXwRqWvAelkSXGiKmcp1MboM5B1rlkv4DjUX+9T7ZkzaNtIM/9W1rrK8Zua+JMqS6yhdg10aj23TVSE9aY69F+1SSTrMaoxu7cehbbrSaF2379s85cCmdS0ebdOV5lbD9KXz3iv20dNgdE2lbavl6kw5QehKcyVzTB0cBiKk1TfkCSyxbasO/PKr/476ofdCWxq5ZwpRC9yEZl5ynQdW12Ta9j36crYGLWC1wPV3AL5otdBX9O93L4oZW9+0sam/onPHHKtrYm1r/T/6uvra+h7cfQ9Wv67A8re75Rr8sGr9dn3379W1c1lc48adNW0c6ll9/uDia5sjzfIr+NqCPQG+wk9g//wGlitwfx1oYEw2LY+NlNyh+DoCPF0Tadu/oUKB+yX4AUljfQXXSJrfW2tXGsO+kc83Ft4wLT1D4Ooa7GaelHewO65Rr7TQEPodrFq/AvhvuQS/ImlcOzDihmpYyKU5xl7n9eeNWpL/OU/brterNfzWWj7C/lgtQeuHxyV8v1zB0XO3bDkXzVQLTweXUj/tGJ8ITFb7ohlGYyZtfeV9qudDS7vmADfIpYbwOhYCXdPx25Znd5xPtdc3FYFagCqhF2buY0N0U/AinN+m0zm2yO3KIW9WrKXwdynlUpsE364hhPPbdDrHldhqppnlcZvULKZrTqc9mxUhyFXnxBaQa9sg7pZnHYj1qsX7qTpmcxRMh8UqqXFJchlTIDVnsJfpTZzwRn+xl+FlBkR2DYFj21b3naUzubQe1/dnrEAz1ZxzRRq0VDrQuCLlXxIGbUKTIBiaBIJY16C2lcF7XLvX9+TQb63vr+nfuZUnnmbsyPI0Lks1pYYt0U5f67EisrLZtvg+8d5/s2KbjgSkPzmROcj8sDrUuBQ5ayJgPTUVZDYXTO5GbNdQHCuR8P7I/Yp7ifUdbapPxL0zEw6rVJW2ceXgvZhpN2AybxKjnjyG4tjGrfUdd9AjrJfUB7eisXMrmTdroEbYOCuYC89lqUCaRiCxa1ARy19Qbhg5mUIsaXFmb3iGOvsJdtqhIF5hz5rFw4o/31R9B6cnz2vS4sh0DSIFdU0mDPLW6E9GR7Q81onTYy+4nmnTkyLlBtpzvrEeKkobBvSYUjoQcmHgqpS1D6MjPLp2e3TiPWt6sCMU8Fmzloa6/c5f1yhZAl0qkSi1axBrnk9GgCfubF6vnyDAb/bS2TVSrDjUrAny1cNE4qPzMEKwIuS61uoob3h9pv6joOmMGXpeAUX2YVZQLQfy0rRYEXR5vmwOBcyUwkFHaPIwuJM7NefnWEUvffyICm3eWeFYETJda601btjS6ZyG6yqRmsUZSHZ00yq2i3qsCKYDJbqm007YOToXeb2Aj3qOMCnfTodlRYjtmo6iQdea7yqQaHvN9C0y12IHgWddVgQdhhXq2h09NwrQ0bnIf2beGpOXZGsEvrsuK4Kp9hDp2lpnfANNaZK+ijnr/ybvjwYrgQg1twJd62jecK1VVRe0FI2XQoFzSTPorgj10Fl+ML6jecOVcopFKAYL9GOQ4q7WsWZEqVUv4CGG5vuqowUdzRtqmQG8rRY/klLGzIIBK6KUolA6AP7rZBrNxn9Al7ejeUNNafL+XJNP8QyPhUfFDFgRxSQNq1LyXpZsad4183FLE7j6x6DESc5W8eEXjRWBRUmaH8uOInQ0b6grjffwkRVoMzGoPCFgRFYEx651NG+oZwWAt0R+abvIZDQQ0GnBiKwIi7VrHc0b6nhzDtDfqLhm+JC0BEWqs0LPng4K9MOKd/a0ASeUsq/SRBSdyQnosiJEcx2TnL+O07NxkE5hs+Y+1pIkPZv2IrIiWF3T8zofNY0AAhmSxZxo4lHmS42iFZUVwegaJz7LgZ7MNkopQqGCzKDvYoODL2iC2I+BFUHrmtZCTHSRxZIi8gfYAsb+wFOH4C/brAh0UWRWBKNrWitpdhzOUHhjPprDb0SJNNIsciZwM+r+SqBULUM/xHmdUTuzcqYBrWsttTjXjH2eH91i7bg68otT7WFCpQBTtmF29C9bTsMfHvsOqZIV0VWwImhdWz6q7khHoOZ1Zkk5r9vS7TuBJcoUo0oUeyVQSJep3xwqojYD1ZzE6pqiuztkdPCSG7m1WRFe5LZILQagG1WFGlbhuNVjKWHQuuBN+QQIXWu/UwU716R1Hs0F111hyRvaf64UG2ne2g3iQcWKyCoqh31FyFcTiRLKa0gupqLqElYElvGgSk4KyRfigpqxUNn67qg6lKbi3c5L/QENpeM6iTMeZ2TP6LIiqkHrS9VqqcANUCPkU2AoCEaP/XBbSlon4ehawZnCbNzzPZzWd+SYUbAicoGyubqWtZldcCVg8QOuNZsV8YrTPROcFSHXNlvW0p9YpvCRlyk865DvL0VjxsONn8W1VwbQhmW9P5fnPN/cHwlnbuq/poJmXToVeihhRSD6VLkGPnr2Ml9ASc5H4prWGSOgCSsina94Nqxkt6TE1Jb4rAiAgueZ86HDipiMMxl25y4ZB6edwqtEign7zeN9Z3lnj6Dr1dk9G3TSYUW4upZrYtl9d4ajgzhIGGLyG45R9UNvyl9hSzg4RL8nEz96L69X685Z54w/o2pXphTSzVwwSye9EpQGVYtyHHSNFkTaBrUsEKeRSIgKjNiGKoFYEXZP+yuD4PmXicVCqlYwrDvnapvdZ23vQaHckBYpw5QV4TYVX++ksT9U1HqEJDja5kroyQln0C86d9KstgtYEW6REzE09v15KB+OfUIzvvz3njgH7/UUzZgVYbe3Rj7NY+aFIQgODtZXrq4daO7bYF6laltmWtWPiW8hgElAjCP7dVu36C1EBfEBUYLiwNGwfePdbzB42kVp3QEwKBUNUd2db3KKhNHoT0cj1Nl9wlgE2C/6da9hKu+rKU4fQMssry9RA0pSZFueLuoXV4ZhRVjcYvSCYUUnD1x+oUFJcpi+KZR5fZPiphBNkN3PcfiFZYPC1xDjpsgbN8j7rOzMuCFtGkOwcTzEl0YOGgXPXyO1zV6Dxm7TsPmmwd7fW7WFn2+yx8F8g/t5ZvONOSvC8QXIQE1kX4BcVQf8Qjd2AztIayqLx0/z3Q5OOZEO6IiHp21+oOqFnp9m7EO7YrSxgFcaG0WcUi8lOPEB17Z5PVbR9KENWBGi9Q2Za0vWGtJaMxYpbqQQaZsfI6zqrm9M1p7lXGCb/SxUjV176lAKfYjias0mllHVXXuasCKyzUoQ23S1IEUtTVBcAB881tBlRfBTbpgto0FwcPC4gMOKEETaNWI2vkFJBawIJ3tbYrwclMfxOmdwnnkYOuENFLNhMwOyCGE7j3On807MBrEinEx6C8VsOKwIVTztioyntdPOggDpQZ6j89k/3PBk/3WPXGNNaVaELHqL7BnUtj+9J5Nra8XT9FkRXhVEtonyNeJYZwMNWYtH6JhcYDG1nDTWaZsZDVZEh/7kRBaHzmJx6OBRo0xHVRyHTorj0H6Sl2/LPARxaAUrohWSFZGnmEMcHrqPsTDn7OUIqlo5gndejsDSzhHI8jcYK4J+lo1yMi1okowVYaH8jVzLsOksd/ijaf5GlFuzjq7EuTU4a1YY5pcDRW7tLbAULgOZWwvBipgzrAhw4nTMS37eM+XmPdtpmoejzHuqqlei5j0R5kf4lsNXR/40w8tJt7GctGXbuHf+sDJmRdCgfddleFbEfD73WREuOPUCTtP9eoGiXS/gPMFX6kieXF6mXqCjvCFbL+DCspjW5F4QTjPGK+DUcuiwIgay8nym9jZkLYcQxSrhWwacj6BgJf0+4UwOkc+KiLXOhoskYdBENVC5UmETNVBaj92gBgqU21hlAO4CJOkZJ2p9GssniL0+DZriZry1gwwrwgOzFo+/dhCv66xSdZ3UpBqxrpPlRsRe1+mUBTlMleZGa245vJWO5g11pc5i9dAFxjPL7Vg9NFarTnMJiR8jRKtVx/Ss+efhRlgRwUoge8CLnBM8AgNWBMsjSLaDlw6PoBw7KyIYGLkUd0mDp9pMpKE5HslCiuJ4xC8NVozO17T4+Dd4z29I04LZnm8FAJGijsKN4i96Opo31LICQTG6wEIj7AxvLeAUFsnvODAd2WpOYcD3FHg2DqLzPYV7JsTJ9/SaqeLi+iuGp+Li6nidPk9atCLwYEudKxaKeof2MSuCyDxpHZk9DjupBgxDHy6tCzaHPexqTcphj7RawzTaTdcyKTN6Vx6ISsNgfwFmJb2J/QVQlKN+YpMinCiH+8TUez8Uq6XGl4+hoxzR935gohwjKgJ1QkSgKOC7WTm7XQXlAsYRKOkeMCBMBIq3Z4obHeTmrX1uobcTWVDKbhwdVOZ+DaOD/P1siMgtDTvfiUdug1L2sZSRYtGMlrj3s9GKqtNI5xpkVD3QF2VUHYdwvz6EbPlH072GQu0D1U7R1XVa+0D1Ga6RxJ4l33n7QMkyHpQwmtkoDI6GyfboUmajPMj2g9PYo4vORhnvn+ZE0QFgMoV48So3U9i/YKrvpXpmnik0yOLawHdTpLO4RORzosziIkj3tsOyuAjxsCLE+w6WaIYR8TbIsFv9BS/DLt8YW7HvIC/DblT9wGYGKYY+Z09ImxXxIKh+kOiZaAfS6+W60+mcrR8lLZXC2a8zzRQOI5CVKUnD6s6Y9+uMvpcqWTVkVtIl1rNwJy7Evs+tySEwwhx9yPMJjKvteMAZ+kZ7EIv0LOxu/hvYH1p2SAQJkZ6FPmnhKffuFuhZhFMw4tpXHdOv7Cb2VdfDRva819Nerp5Zkc7ziO08AryGUEvXuHoW8WSf7TorIuqpSzGe41EOdETDSvP0LPKpMbGeseKvBxrKZnH0LIbzo+I9/8b3tUOcfxPHSXKbOpsoaXg2UTyn/MV7bpT/yPP/MTs3KqYTGGPx0wKEPNMrtvMKYz5vzWUWy89ba1LnrcV3up8hK0KJVKOA+idlcBZenOd8ap1TiERupHnsOwb7DiNfck4hGbeK91RMgzMknZOW5fB3S2i6A2c4PofAdksg9MwSsyLCweh8z1KlqtA4fyeLtrOThXO+pzXpZfbsWFoed7HjP01WvcsIaffsPSAkyH/0dhlhz17tbvzsVYMdYLxPFBon3gFmqL8DTGiEOLMY7c4j/h17dx7BmcV+jnBDZxaHPE+6ILNxGjsnbeo8aahsIpfgSmbAxRqn3tUqbltGQLLjmBSlCm9WXUTdcSwyeLvBHekU4rC7wU0UOw8qd4OLA9ROffW6ltMDvF2uDHbqWyh26osHl4gVMRqN0DdlIICAvYuiO/tn1JU2SnljQzaXNWAY+Ihvh8ttQHy7j24JrHwyhp1htwpRWRHbhag7Km8XIrIitgsRWRFbhoisiC1DNFbEtsHgdIUdgAErYgfw19K0v5YV+GtZaO3ZU1fqp0VUvud2ISwrYjuhd3rcQKM8fysQmcO+VQh16uL2IsSJmFsMS9nW6U4sblwYnyS73TA85XfbYXQC8/bjQXw69u4JY3Jy+U5A91T5XcHkNTWPDukPdgv980xv4nih/e5eZpdmGT4GU3tPyIeF7pr0Gc94xjOe8YxnPCMk/gtwwq71YHKJJgAAAABJRU5ErkJggg==\" class=\"YQ4gaf\" height=\"246\" style=\"object-position:16% 36%\" width=\"205\" alt=\"Neural network (machine learning ...\" data-csiid=\"7\" data-atf=\"1\">"
      ],
      "metadata": {
        "id": "jfZR7F131PC0"
      }
    },
    {
      "cell_type": "code",
      "source": [
        "model = Sequential()\n",
        "# input layer   starts flatten 28x28 === 1-D\n",
        "model.add(Flatten(input_shape = (28, 28)))   # 28x28=784 input\n",
        "# one Hidden layer\n",
        "# how many neurons wants to use : 128\n",
        "# which activation function wants to use : 'relu'\n",
        "# bcz it avoids vanish gradients problem\n",
        "model.add(Dense(128, activation = 'relu'))  # 128   :  784x128+ 128*(1bias)\n",
        "# Output layer\n",
        "# how many classes are there =10\n",
        "# how many neuorns : 10\n",
        "# activation: softmax\n",
        "model.add(Dense(10, activation = 'softmax'))  # 128 is attached with 10 neurons= 128x10=1280 +10*(1bias)\n"
      ],
      "metadata": {
        "id": "pmB6sAvSIvo5",
        "colab": {
          "base_uri": "https://localhost:8080/"
        },
        "outputId": "127197fa-14ba-466b-e708-f946de2bf27c"
      },
      "execution_count": null,
      "outputs": [
        {
          "output_type": "stream",
          "name": "stderr",
          "text": [
            "/usr/local/lib/python3.10/dist-packages/keras/src/layers/reshaping/flatten.py:37: UserWarning: Do not pass an `input_shape`/`input_dim` argument to a layer. When using Sequential models, prefer using an `Input(shape)` object as the first layer in the model instead.\n",
            "  super().__init__(**kwargs)\n"
          ]
        }
      ]
    },
    {
      "cell_type": "code",
      "source": [
        "model = Sequential()\n",
        "model.add(Flatten(input_shape = (28, 28)))\n",
        "model.add(Dense(128, activation = 'relu'))\n",
        "model.add(Dense(10, activation = 'softmax'))\n"
      ],
      "metadata": {
        "id": "M1ZZKb8j8CQz"
      },
      "execution_count": null,
      "outputs": []
    },
    {
      "cell_type": "markdown",
      "source": [
        "## Model summary"
      ],
      "metadata": {
        "id": "K7V-lSGz1a9W"
      }
    },
    {
      "cell_type": "code",
      "source": [
        "model.summary()\n",
        "# how many weights for input layer = 28x28 ==== > 784 ==== > weights\n",
        "# hidden layer weights= 128\n",
        "\n",
        "# total weights till inputlayer + hidden layer= 784*128=100352+ 128= 100480\n",
        "# hidden layer + outpulayer= 128*10=1280+10 bais= 1290\n",
        "\n",
        "# Total weights= 100480+1290\n",
        "\n",
        "# servers drinks so much water"
      ],
      "metadata": {
        "colab": {
          "base_uri": "https://localhost:8080/",
          "height": 234
        },
        "id": "Cs0dR2XRJpPr",
        "outputId": "1eda92f4-4ac0-4d09-fc0d-43f1a6c500cc"
      },
      "execution_count": null,
      "outputs": [
        {
          "output_type": "display_data",
          "data": {
            "text/plain": [
              "\u001b[1mModel: \"sequential_5\"\u001b[0m\n"
            ],
            "text/html": [
              "<pre style=\"white-space:pre;overflow-x:auto;line-height:normal;font-family:Menlo,'DejaVu Sans Mono',consolas,'Courier New',monospace\"><span style=\"font-weight: bold\">Model: \"sequential_5\"</span>\n",
              "</pre>\n"
            ]
          },
          "metadata": {}
        },
        {
          "output_type": "display_data",
          "data": {
            "text/plain": [
              "┏━━━━━━━━━━━━━━━━━━━━━━━━━━━━━━━━━━━━━━┳━━━━━━━━━━━━━━━━━━━━━━━━━━━━━┳━━━━━━━━━━━━━━━━━┓\n",
              "┃\u001b[1m \u001b[0m\u001b[1mLayer (type)                        \u001b[0m\u001b[1m \u001b[0m┃\u001b[1m \u001b[0m\u001b[1mOutput Shape               \u001b[0m\u001b[1m \u001b[0m┃\u001b[1m \u001b[0m\u001b[1m        Param #\u001b[0m\u001b[1m \u001b[0m┃\n",
              "┡━━━━━━━━━━━━━━━━━━━━━━━━━━━━━━━━━━━━━━╇━━━━━━━━━━━━━━━━━━━━━━━━━━━━━╇━━━━━━━━━━━━━━━━━┩\n",
              "│ flatten_5 (\u001b[38;5;33mFlatten\u001b[0m)                  │ (\u001b[38;5;45mNone\u001b[0m, \u001b[38;5;34m784\u001b[0m)                 │               \u001b[38;5;34m0\u001b[0m │\n",
              "├──────────────────────────────────────┼─────────────────────────────┼─────────────────┤\n",
              "│ dense_10 (\u001b[38;5;33mDense\u001b[0m)                     │ (\u001b[38;5;45mNone\u001b[0m, \u001b[38;5;34m128\u001b[0m)                 │         \u001b[38;5;34m100,480\u001b[0m │\n",
              "├──────────────────────────────────────┼─────────────────────────────┼─────────────────┤\n",
              "│ dense_11 (\u001b[38;5;33mDense\u001b[0m)                     │ (\u001b[38;5;45mNone\u001b[0m, \u001b[38;5;34m10\u001b[0m)                  │           \u001b[38;5;34m1,290\u001b[0m │\n",
              "└──────────────────────────────────────┴─────────────────────────────┴─────────────────┘\n"
            ],
            "text/html": [
              "<pre style=\"white-space:pre;overflow-x:auto;line-height:normal;font-family:Menlo,'DejaVu Sans Mono',consolas,'Courier New',monospace\">┏━━━━━━━━━━━━━━━━━━━━━━━━━━━━━━━━━━━━━━┳━━━━━━━━━━━━━━━━━━━━━━━━━━━━━┳━━━━━━━━━━━━━━━━━┓\n",
              "┃<span style=\"font-weight: bold\"> Layer (type)                         </span>┃<span style=\"font-weight: bold\"> Output Shape                </span>┃<span style=\"font-weight: bold\">         Param # </span>┃\n",
              "┡━━━━━━━━━━━━━━━━━━━━━━━━━━━━━━━━━━━━━━╇━━━━━━━━━━━━━━━━━━━━━━━━━━━━━╇━━━━━━━━━━━━━━━━━┩\n",
              "│ flatten_5 (<span style=\"color: #0087ff; text-decoration-color: #0087ff\">Flatten</span>)                  │ (<span style=\"color: #00d7ff; text-decoration-color: #00d7ff\">None</span>, <span style=\"color: #00af00; text-decoration-color: #00af00\">784</span>)                 │               <span style=\"color: #00af00; text-decoration-color: #00af00\">0</span> │\n",
              "├──────────────────────────────────────┼─────────────────────────────┼─────────────────┤\n",
              "│ dense_10 (<span style=\"color: #0087ff; text-decoration-color: #0087ff\">Dense</span>)                     │ (<span style=\"color: #00d7ff; text-decoration-color: #00d7ff\">None</span>, <span style=\"color: #00af00; text-decoration-color: #00af00\">128</span>)                 │         <span style=\"color: #00af00; text-decoration-color: #00af00\">100,480</span> │\n",
              "├──────────────────────────────────────┼─────────────────────────────┼─────────────────┤\n",
              "│ dense_11 (<span style=\"color: #0087ff; text-decoration-color: #0087ff\">Dense</span>)                     │ (<span style=\"color: #00d7ff; text-decoration-color: #00d7ff\">None</span>, <span style=\"color: #00af00; text-decoration-color: #00af00\">10</span>)                  │           <span style=\"color: #00af00; text-decoration-color: #00af00\">1,290</span> │\n",
              "└──────────────────────────────────────┴─────────────────────────────┴─────────────────┘\n",
              "</pre>\n"
            ]
          },
          "metadata": {}
        },
        {
          "output_type": "display_data",
          "data": {
            "text/plain": [
              "\u001b[1m Total params: \u001b[0m\u001b[38;5;34m101,770\u001b[0m (397.54 KB)\n"
            ],
            "text/html": [
              "<pre style=\"white-space:pre;overflow-x:auto;line-height:normal;font-family:Menlo,'DejaVu Sans Mono',consolas,'Courier New',monospace\"><span style=\"font-weight: bold\"> Total params: </span><span style=\"color: #00af00; text-decoration-color: #00af00\">101,770</span> (397.54 KB)\n",
              "</pre>\n"
            ]
          },
          "metadata": {}
        },
        {
          "output_type": "display_data",
          "data": {
            "text/plain": [
              "\u001b[1m Trainable params: \u001b[0m\u001b[38;5;34m101,770\u001b[0m (397.54 KB)\n"
            ],
            "text/html": [
              "<pre style=\"white-space:pre;overflow-x:auto;line-height:normal;font-family:Menlo,'DejaVu Sans Mono',consolas,'Courier New',monospace\"><span style=\"font-weight: bold\"> Trainable params: </span><span style=\"color: #00af00; text-decoration-color: #00af00\">101,770</span> (397.54 KB)\n",
              "</pre>\n"
            ]
          },
          "metadata": {}
        },
        {
          "output_type": "display_data",
          "data": {
            "text/plain": [
              "\u001b[1m Non-trainable params: \u001b[0m\u001b[38;5;34m0\u001b[0m (0.00 B)\n"
            ],
            "text/html": [
              "<pre style=\"white-space:pre;overflow-x:auto;line-height:normal;font-family:Menlo,'DejaVu Sans Mono',consolas,'Courier New',monospace\"><span style=\"font-weight: bold\"> Non-trainable params: </span><span style=\"color: #00af00; text-decoration-color: #00af00\">0</span> (0.00 B)\n",
              "</pre>\n"
            ]
          },
          "metadata": {}
        }
      ]
    },
    {
      "cell_type": "markdown",
      "source": [
        "**trainable parameters**\n",
        "\n",
        "    - Updated by model during back prpogation\n",
        "\n",
        "**Non-trainable parameters**\n",
        "\n",
        "    - Not Updated by model during back prpogation\n",
        "\n",
        "    - It is reffered as hyperparameters"
      ],
      "metadata": {
        "id": "AqhUxKYUUw5r"
      }
    },
    {
      "cell_type": "code",
      "source": [
        "# model = Sequential()\n",
        "# model.add(Flatten(input_shape = (28, 28)))   # I1\n",
        "# model.add(Dense(128, activation = 'relu'))   # h1\n",
        "# model.add(Dense(128, activation = 'relu'))   # h2\n",
        "# model.add(Dense(128, activation = 'relu'))   # h3\n",
        "# model.add(Dense(128, activation = 'relu'))   # h4\n",
        "# model.add(Dense(10, activation = 'softmax')) #o\n"
      ],
      "metadata": {
        "id": "FMeKvivJMsiG"
      },
      "execution_count": null,
      "outputs": []
    },
    {
      "cell_type": "markdown",
      "source": [
        "## Mode Compile"
      ],
      "metadata": {
        "id": "A7TqGqZh0awL"
      }
    },
    {
      "cell_type": "markdown",
      "source": [
        "**Model compilation**"
      ],
      "metadata": {
        "id": "6TqZ55IXJzoj"
      }
    },
    {
      "cell_type": "markdown",
      "source": [
        "**Loss Function:** A loss function is used to optimize the parameter values in a neural network model. Loss functions map a set of parameter values for the network onto a scalar value that indicates how well those parameter accomplish the task the network is intended to do.\n",
        "\n",
        "**Optimizer:** Optimizers are algorithms or methods used to change the attributes of your neural network such as weights and learning rate in order to reduce the losses.\n",
        "\n",
        "**Metrics:** A metric is a function that is used to judge the performance of your model. Metric functions are similar to loss functions, except that the results from evaluating a metric are not used when training the model."
      ],
      "metadata": {
        "id": "m_ZrZft4J4PS"
      }
    },
    {
      "cell_type": "markdown",
      "source": [
        "Here we are compiling the model and fitting it to the training data. We will use 10 epochs to train the model. An epoch is an iteration over the entire data provided."
      ],
      "metadata": {
        "id": "Lf3scsD5KIkA"
      }
    },
    {
      "cell_type": "markdown",
      "source": [
        "**Log Loss (Binary Cross-Entropy Loss):** A loss function that represents how much the predicted probabilities deviate from the true ones.\n",
        "\n",
        "It is used in binary cases.\n",
        "\n",
        "**Cross-Entropy Loss:** A generalized form of the log loss, which is used for multi-class classification problems."
      ],
      "metadata": {
        "id": "kyxPW1l17DDu"
      }
    },
    {
      "cell_type": "markdown",
      "source": [
        "<img id=\"dimg_405\" src=\"https://encrypted-tbn0.gstatic.com/images?q=tbn:ANd9GcT4ftm3TWhDf8CX99Liu-i1qHPO-S0OBwPByw&amp;s\" class=\"YQ4gaf\" height=\"172\" style=\"object-position:center\" width=\"293\" alt=\"haltakov.eth 🧱🔨 on X: &quot;Machine Learning ...\" data-csiid=\"59\" data-atf=\"4\" data-ilt=\"1708622077104\" data-deferred=\"3\">"
      ],
      "metadata": {
        "id": "0FYwcTi40Xh4"
      }
    },
    {
      "cell_type": "code",
      "source": [
        "help(model.compile)"
      ],
      "metadata": {
        "id": "Zlfi_sgCCh4w",
        "colab": {
          "base_uri": "https://localhost:8080/"
        },
        "outputId": "7641d64a-bd34-4100-8938-aa2902b39976"
      },
      "execution_count": null,
      "outputs": [
        {
          "output_type": "stream",
          "name": "stdout",
          "text": [
            "Help on method compile in module keras.src.trainers.trainer:\n",
            "\n",
            "compile(optimizer='rmsprop', loss=None, loss_weights=None, metrics=None, weighted_metrics=None, run_eagerly=False, steps_per_execution=1, jit_compile='auto', auto_scale_loss=True) method of keras.src.models.sequential.Sequential instance\n",
            "    Configures the model for training.\n",
            "    \n",
            "    Example:\n",
            "    \n",
            "    ```python\n",
            "    model.compile(\n",
            "        optimizer=keras.optimizers.Adam(learning_rate=1e-3),\n",
            "        loss=keras.losses.BinaryCrossentropy(),\n",
            "        metrics=[\n",
            "            keras.metrics.BinaryAccuracy(),\n",
            "            keras.metrics.FalseNegatives(),\n",
            "        ],\n",
            "    )\n",
            "    ```\n",
            "    \n",
            "    Args:\n",
            "        optimizer: String (name of optimizer) or optimizer instance. See\n",
            "            `keras.optimizers`.\n",
            "        loss: Loss function. May be a string (name of loss function), or\n",
            "            a `keras.losses.Loss` instance. See `keras.losses`. A\n",
            "            loss function is any callable with the signature\n",
            "            `loss = fn(y_true, y_pred)`, where `y_true` are the ground truth\n",
            "            values, and `y_pred` are the model's predictions.\n",
            "            `y_true` should have shape `(batch_size, d0, .. dN)`\n",
            "            (except in the case of sparse loss functions such as\n",
            "            sparse categorical crossentropy which expects integer arrays of\n",
            "            shape `(batch_size, d0, .. dN-1)`).\n",
            "            `y_pred` should have shape `(batch_size, d0, .. dN)`.\n",
            "            The loss function should return a float tensor.\n",
            "        loss_weights: Optional list or dictionary specifying scalar\n",
            "            coefficients (Python floats) to weight the loss contributions of\n",
            "            different model outputs. The loss value that will be minimized\n",
            "            by the model will then be the *weighted sum* of all individual\n",
            "            losses, weighted by the `loss_weights` coefficients.  If a list,\n",
            "            it is expected to have a 1:1 mapping to the model's outputs. If\n",
            "            a dict, it is expected to map output names (strings) to scalar\n",
            "            coefficients.\n",
            "        metrics: List of metrics to be evaluated by the model during\n",
            "            training and testing. Each of this can be a string (name of a\n",
            "            built-in function), function or a `keras.metrics.Metric`\n",
            "            instance. See `keras.metrics`. Typically you will use\n",
            "            `metrics=['accuracy']`. A function is any callable with the\n",
            "            signature `result = fn(y_true, _pred)`. To specify different\n",
            "            metrics for different outputs of a multi-output model, you could\n",
            "            also pass a dictionary, such as\n",
            "            `metrics={'a':'accuracy', 'b':['accuracy', 'mse']}`.\n",
            "            You can also pass a list to specify a metric or a list of\n",
            "            metrics for each output, such as\n",
            "            `metrics=[['accuracy'], ['accuracy', 'mse']]`\n",
            "            or `metrics=['accuracy', ['accuracy', 'mse']]`. When you pass\n",
            "            the strings 'accuracy' or 'acc', we convert this to one of\n",
            "            `keras.metrics.BinaryAccuracy`,\n",
            "            `keras.metrics.CategoricalAccuracy`,\n",
            "            `keras.metrics.SparseCategoricalAccuracy` based on the\n",
            "            shapes of the targets and of the model output. A similar\n",
            "            conversion is done for the strings `\"crossentropy\"`\n",
            "            and `\"ce\"` as well.\n",
            "            The metrics passed here are evaluated without sample weighting;\n",
            "            if you would like sample weighting to apply, you can specify\n",
            "            your metrics via the `weighted_metrics` argument instead.\n",
            "        weighted_metrics: List of metrics to be evaluated and weighted by\n",
            "            `sample_weight` or `class_weight` during training and testing.\n",
            "        run_eagerly: Bool. If `True`, this model's forward pass\n",
            "             will never be compiled. It is recommended to leave this\n",
            "             as `False` when training (for best performance),\n",
            "             and to set it to `True` when debugging.\n",
            "        steps_per_execution: Int. The number of batches to run\n",
            "            during each a single compiled function call. Running multiple\n",
            "            batches inside a single compiled function call can\n",
            "            greatly improve performance on TPUs or small models with a large\n",
            "            Python overhead. At most, one full epoch will be run each\n",
            "            execution. If a number larger than the size of the epoch is\n",
            "            passed, the execution will be truncated to the size of the\n",
            "            epoch. Note that if `steps_per_execution` is set to `N`,\n",
            "            `Callback.on_batch_begin` and `Callback.on_batch_end` methods\n",
            "            will only be called every `N` batches (i.e. before/after\n",
            "            each compiled function execution).\n",
            "            Not supported with the PyTorch backend.\n",
            "        jit_compile: Bool or `\"auto\"`. Whether to use XLA compilation when\n",
            "            compiling a model. For `jax` and `tensorflow` backends,\n",
            "            `jit_compile=\"auto\"` enables XLA compilation if the model\n",
            "            supports it, and disabled otherwise.\n",
            "            For `torch` backend, `\"auto\"` will default to eager\n",
            "            execution and `jit_compile=True` will run with `torch.compile`\n",
            "            with the `\"inductor\"` backend.\n",
            "        auto_scale_loss: Bool. If `True` and the model dtype policy is\n",
            "            `\"mixed_float16\"`, the passed optimizer will be automatically\n",
            "            wrapped in a `LossScaleOptimizer`, which will dynamically\n",
            "            scale the loss to prevent underflow.\n",
            "\n"
          ]
        }
      ]
    },
    {
      "cell_type": "code",
      "source": [
        "from re import VERBOSE\n",
        "# Now we know how many weights need to update\n",
        "# to find the weights we have optimzers\n",
        "model.compile(optimizer='adam',\n",
        "              loss = 'sparse_categorical_crossentropy',\n",
        "              metrics = ['accuracy'])"
      ],
      "metadata": {
        "id": "-70CkL5BJr3D"
      },
      "execution_count": null,
      "outputs": []
    },
    {
      "cell_type": "code",
      "source": [
        "#32 images you want to pass how many = 1875\n",
        "#64 image                            = 937.5==> 938 batches"
      ],
      "metadata": {
        "id": "VGhu7gRmwP_S"
      },
      "execution_count": null,
      "outputs": []
    },
    {
      "cell_type": "code",
      "source": [
        "dir(model)"
      ],
      "metadata": {
        "colab": {
          "base_uri": "https://localhost:8080/"
        },
        "id": "keIT3YUiZIJQ",
        "outputId": "74f1c415-019c-4fcd-9148-7cf37bd52e92"
      },
      "execution_count": null,
      "outputs": [
        {
          "output_type": "execute_result",
          "data": {
            "text/plain": [
              "['__annotations__',\n",
              " '__call__',\n",
              " '__class__',\n",
              " '__delattr__',\n",
              " '__dict__',\n",
              " '__dir__',\n",
              " '__doc__',\n",
              " '__eq__',\n",
              " '__format__',\n",
              " '__ge__',\n",
              " '__getattribute__',\n",
              " '__gt__',\n",
              " '__hash__',\n",
              " '__init__',\n",
              " '__init_subclass__',\n",
              " '__le__',\n",
              " '__lt__',\n",
              " '__module__',\n",
              " '__ne__',\n",
              " '__new__',\n",
              " '__reduce__',\n",
              " '__reduce_ex__',\n",
              " '__repr__',\n",
              " '__setattr__',\n",
              " '__sizeof__',\n",
              " '__str__',\n",
              " '__subclasshook__',\n",
              " '__weakref__',\n",
              " '_add_trackable_child',\n",
              " '_add_variable_with_custom_getter',\n",
              " '_allow_non_tensor_positional_args',\n",
              " '_api_export_path',\n",
              " '_api_export_symbol_id',\n",
              " '_assert_compile_called',\n",
              " '_assert_input_compatibility',\n",
              " '_auto_config',\n",
              " '_build_by_run_for_kwargs',\n",
              " '_build_by_run_for_single_pos_arg',\n",
              " '_build_shapes_dict',\n",
              " '_call_has_mask_arg',\n",
              " '_call_has_training_arg',\n",
              " '_call_signature',\n",
              " '_called',\n",
              " '_check_quantize_args',\n",
              " '_check_super_called',\n",
              " '_checkpoint_adapter',\n",
              " '_checkpoint_dependencies',\n",
              " '_clear_losses',\n",
              " '_compile_config',\n",
              " '_compile_loss',\n",
              " '_compile_metrics',\n",
              " '_compiled_metrics_update_state',\n",
              " '_compute_loss',\n",
              " '_compute_loss_has_training_arg',\n",
              " '_convert_input_args',\n",
              " '_copy_trackable_to_cpu',\n",
              " '_default_save_signature',\n",
              " '_deferred_dependencies',\n",
              " '_delete_tracking',\n",
              " '_deserialization_dependencies',\n",
              " '_deserialize_from_proto',\n",
              " '_distribute_strategy',\n",
              " '_dtype_policy',\n",
              " '_export_to_saved_model_graph',\n",
              " '_flatten_layers',\n",
              " '_flatten_metrics_in_order',\n",
              " '_float8_call',\n",
              " '_functional',\n",
              " '_gather_saveables_for_checkpoint',\n",
              " '_get_call_context',\n",
              " '_get_metrics_result_or_logs',\n",
              " '_get_node_attribute_at_index',\n",
              " '_get_own_losses',\n",
              " '_get_regularization_losses',\n",
              " '_get_variable_map',\n",
              " '_handle_deferred_dependencies',\n",
              " '_inbound_nodes',\n",
              " '_initial_epoch',\n",
              " '_initialize_tracker',\n",
              " '_input_spec',\n",
              " '_int8_call',\n",
              " '_is_layer_name_unique',\n",
              " '_jit_compile',\n",
              " '_layers',\n",
              " '_lock',\n",
              " '_lock_state',\n",
              " '_lookup_dependency',\n",
              " '_loss_ids',\n",
              " '_loss_tracker',\n",
              " '_losses',\n",
              " '_losses_override',\n",
              " '_maybe_build',\n",
              " '_maybe_initialize_trackable',\n",
              " '_maybe_rebuild',\n",
              " '_maybe_reset_call_context',\n",
              " '_maybe_symbolic_build',\n",
              " '_metrics',\n",
              " '_name_based_attribute_restore',\n",
              " '_name_based_restores',\n",
              " '_no_dependency',\n",
              " '_non_trainable_variables',\n",
              " '_not_implemented_error',\n",
              " '_obj_type',\n",
              " '_object_identifier',\n",
              " '_open_name_scope',\n",
              " '_outbound_nodes',\n",
              " '_parent_path',\n",
              " '_path',\n",
              " '_post_build',\n",
              " '_post_track_variable',\n",
              " '_post_untrack_variable',\n",
              " '_preload_simple_restoration',\n",
              " '_pythonify_logs',\n",
              " '_quantization_mode_error',\n",
              " '_resolve_auto_jit_compile',\n",
              " '_restore_from_tensors',\n",
              " '_run_eagerly',\n",
              " '_saved_model_arg_spec',\n",
              " '_saved_model_inputs_spec',\n",
              " '_seed_generators',\n",
              " '_self_name_based_restores',\n",
              " '_self_saveable_object_factories',\n",
              " '_self_setattr_tracking',\n",
              " '_self_unconditional_checkpoint_dependencies',\n",
              " '_self_unconditional_deferred_dependencies',\n",
              " '_self_unconditional_dependency_names',\n",
              " '_self_update_uid',\n",
              " '_serialize_to_proto',\n",
              " '_serialize_to_tensors',\n",
              " '_set_mask_metadata',\n",
              " '_set_save_spec',\n",
              " '_setattr_hook',\n",
              " '_setattr_tracking',\n",
              " '_should_eval',\n",
              " '_supports_masking',\n",
              " '_symbolic_build',\n",
              " '_tf_api_names',\n",
              " '_tf_api_names_v1',\n",
              " '_track_trackable',\n",
              " '_track_variable',\n",
              " '_trackable_children',\n",
              " '_tracked',\n",
              " '_tracker',\n",
              " '_trainable',\n",
              " '_trainable_variables',\n",
              " '_unconditional_checkpoint_dependencies',\n",
              " '_unconditional_dependency_names',\n",
              " '_unpickle_model',\n",
              " '_untrack_variable',\n",
              " '_update_uid',\n",
              " 'activity_regularizer',\n",
              " 'add',\n",
              " 'add_loss',\n",
              " 'add_metric',\n",
              " 'add_variable',\n",
              " 'add_weight',\n",
              " 'autocast',\n",
              " 'build',\n",
              " 'build_from_config',\n",
              " 'built',\n",
              " 'call',\n",
              " 'compile',\n",
              " 'compile_from_config',\n",
              " 'compiled',\n",
              " 'compiled_loss',\n",
              " 'compiled_metrics',\n",
              " 'compute_dtype',\n",
              " 'compute_loss',\n",
              " 'compute_mask',\n",
              " 'compute_metrics',\n",
              " 'compute_output_shape',\n",
              " 'compute_output_spec',\n",
              " 'count_params',\n",
              " 'distribute_reduction_method',\n",
              " 'distribute_strategy',\n",
              " 'dtype',\n",
              " 'dtype_policy',\n",
              " 'evaluate',\n",
              " 'export',\n",
              " 'fit',\n",
              " 'from_config',\n",
              " 'get_build_config',\n",
              " 'get_compile_config',\n",
              " 'get_config',\n",
              " 'get_layer',\n",
              " 'get_metrics_result',\n",
              " 'get_weights',\n",
              " 'input',\n",
              " 'input_dtype',\n",
              " 'input_shape',\n",
              " 'input_spec',\n",
              " 'inputs',\n",
              " 'jit_compile',\n",
              " 'layers',\n",
              " 'load_own_variables',\n",
              " 'load_weights',\n",
              " 'loss',\n",
              " 'losses',\n",
              " 'make_predict_function',\n",
              " 'make_test_function',\n",
              " 'make_train_function',\n",
              " 'metrics',\n",
              " 'metrics_names',\n",
              " 'metrics_variables',\n",
              " 'name',\n",
              " 'non_trainable_variables',\n",
              " 'non_trainable_weights',\n",
              " 'optimizer',\n",
              " 'output',\n",
              " 'output_shape',\n",
              " 'outputs',\n",
              " 'path',\n",
              " 'pop',\n",
              " 'predict',\n",
              " 'predict_function',\n",
              " 'predict_on_batch',\n",
              " 'predict_step',\n",
              " 'quantization_mode',\n",
              " 'quantize',\n",
              " 'quantized_build',\n",
              " 'quantized_call',\n",
              " 'reset_metrics',\n",
              " 'run_eagerly',\n",
              " 'save',\n",
              " 'save_own_variables',\n",
              " 'save_weights',\n",
              " 'set_weights',\n",
              " 'stateless_call',\n",
              " 'stateless_compute_loss',\n",
              " 'steps_per_execution',\n",
              " 'stop_training',\n",
              " 'summary',\n",
              " 'supports_jit',\n",
              " 'supports_masking',\n",
              " 'symbolic_call',\n",
              " 'test_function',\n",
              " 'test_on_batch',\n",
              " 'test_step',\n",
              " 'to_json',\n",
              " 'train_function',\n",
              " 'train_on_batch',\n",
              " 'train_step',\n",
              " 'trainable',\n",
              " 'trainable_variables',\n",
              " 'trainable_weights',\n",
              " 'variable_dtype',\n",
              " 'variables',\n",
              " 'weights']"
            ]
          },
          "metadata": {},
          "execution_count": 164
        }
      ]
    },
    {
      "cell_type": "code",
      "source": [
        "model.trainable_variables"
      ],
      "metadata": {
        "colab": {
          "base_uri": "https://localhost:8080/"
        },
        "id": "EhZuqYWGZRkw",
        "outputId": "e86c7f4b-8292-4e88-a87a-687e41fdeb62"
      },
      "execution_count": null,
      "outputs": [
        {
          "output_type": "execute_result",
          "data": {
            "text/plain": [
              "[<KerasVariable shape=(784, 128), dtype=float32, path=sequential_5/dense_10/kernel>,\n",
              " <KerasVariable shape=(128,), dtype=float32, path=sequential_5/dense_10/bias>,\n",
              " <KerasVariable shape=(128, 10), dtype=float32, path=sequential_5/dense_11/kernel>,\n",
              " <KerasVariable shape=(10,), dtype=float32, path=sequential_5/dense_11/bias>]"
            ]
          },
          "metadata": {},
          "execution_count": 165
        }
      ]
    },
    {
      "cell_type": "markdown",
      "source": [
        "## Mode fit"
      ],
      "metadata": {
        "id": "FuBV2YsC0kBK"
      }
    },
    {
      "cell_type": "code",
      "source": [
        "# Input data : 60k\n",
        "# Batch size=64\n",
        "# 938\n",
        "# Input shape = 28x28"
      ],
      "metadata": {
        "id": "-dN5BrngU4Rn"
      },
      "execution_count": null,
      "outputs": []
    },
    {
      "cell_type": "code",
      "source": [
        "############### Validation Data ###################################\n",
        "from sklearn.model_selection import train_test_split\n",
        "X_train,X_val,y_train,y_val=train_test_split(X_train,y_train,test_size=0.2)"
      ],
      "metadata": {
        "id": "VH6Msl1ILKCl"
      },
      "execution_count": null,
      "outputs": []
    },
    {
      "cell_type": "code",
      "source": [
        "X_train.shape, X_val.shape,y_train.shape,y_val.shape"
      ],
      "metadata": {
        "colab": {
          "base_uri": "https://localhost:8080/"
        },
        "id": "FkeghGlgL72p",
        "outputId": "f205f927-8570-455f-935c-712a37e4106a"
      },
      "execution_count": null,
      "outputs": [
        {
          "output_type": "execute_result",
          "data": {
            "text/plain": [
              "((48000, 28, 28), (12000, 28, 28), (48000,), (12000,))"
            ]
          },
          "metadata": {},
          "execution_count": 168
        }
      ]
    },
    {
      "cell_type": "code",
      "source": [
        "48000/32"
      ],
      "metadata": {
        "colab": {
          "base_uri": "https://localhost:8080/"
        },
        "id": "tMkJ4udQMDQe",
        "outputId": "079aca73-5c3b-470d-aed2-97de1bddd767"
      },
      "execution_count": null,
      "outputs": [
        {
          "output_type": "execute_result",
          "data": {
            "text/plain": [
              "1500.0"
            ]
          },
          "metadata": {},
          "execution_count": 169
        }
      ]
    },
    {
      "cell_type": "code",
      "source": [
        "############################# Fit the model #############################\n",
        "history=model.fit(X_train,\n",
        "                  y_train,\n",
        "                  epochs=20,\n",
        "                  batch_size=64,\n",
        "                  validation_data=(X_val,y_val))"
      ],
      "metadata": {
        "colab": {
          "base_uri": "https://localhost:8080/"
        },
        "id": "9z6wcRiJLZ-J",
        "outputId": "04a74ed3-6cde-450e-d021-4b35bc24d0d5"
      },
      "execution_count": null,
      "outputs": [
        {
          "output_type": "stream",
          "name": "stdout",
          "text": [
            "Epoch 1/20\n",
            "\u001b[1m750/750\u001b[0m \u001b[32m━━━━━━━━━━━━━━━━━━━━\u001b[0m\u001b[37m\u001b[0m \u001b[1m7s\u001b[0m 8ms/step - accuracy: 0.7610 - loss: 0.7023 - val_accuracy: 0.8508 - val_loss: 0.4271\n",
            "Epoch 2/20\n",
            "\u001b[1m750/750\u001b[0m \u001b[32m━━━━━━━━━━━━━━━━━━━━\u001b[0m\u001b[37m\u001b[0m \u001b[1m6s\u001b[0m 8ms/step - accuracy: 0.8570 - loss: 0.4017 - val_accuracy: 0.8567 - val_loss: 0.3997\n",
            "Epoch 3/20\n",
            "\u001b[1m750/750\u001b[0m \u001b[32m━━━━━━━━━━━━━━━━━━━━\u001b[0m\u001b[37m\u001b[0m \u001b[1m8s\u001b[0m 4ms/step - accuracy: 0.8717 - loss: 0.3622 - val_accuracy: 0.8683 - val_loss: 0.3701\n",
            "Epoch 4/20\n",
            "\u001b[1m750/750\u001b[0m \u001b[32m━━━━━━━━━━━━━━━━━━━━\u001b[0m\u001b[37m\u001b[0m \u001b[1m7s\u001b[0m 6ms/step - accuracy: 0.8773 - loss: 0.3375 - val_accuracy: 0.8771 - val_loss: 0.3440\n",
            "Epoch 5/20\n",
            "\u001b[1m750/750\u001b[0m \u001b[32m━━━━━━━━━━━━━━━━━━━━\u001b[0m\u001b[37m\u001b[0m \u001b[1m3s\u001b[0m 4ms/step - accuracy: 0.8869 - loss: 0.3084 - val_accuracy: 0.8732 - val_loss: 0.3443\n",
            "Epoch 6/20\n",
            "\u001b[1m750/750\u001b[0m \u001b[32m━━━━━━━━━━━━━━━━━━━━\u001b[0m\u001b[37m\u001b[0m \u001b[1m5s\u001b[0m 4ms/step - accuracy: 0.8882 - loss: 0.3017 - val_accuracy: 0.8783 - val_loss: 0.3292\n",
            "Epoch 7/20\n",
            "\u001b[1m750/750\u001b[0m \u001b[32m━━━━━━━━━━━━━━━━━━━━\u001b[0m\u001b[37m\u001b[0m \u001b[1m5s\u001b[0m 7ms/step - accuracy: 0.8922 - loss: 0.2900 - val_accuracy: 0.8855 - val_loss: 0.3204\n",
            "Epoch 8/20\n",
            "\u001b[1m750/750\u001b[0m \u001b[32m━━━━━━━━━━━━━━━━━━━━\u001b[0m\u001b[37m\u001b[0m \u001b[1m7s\u001b[0m 9ms/step - accuracy: 0.9051 - loss: 0.2602 - val_accuracy: 0.8880 - val_loss: 0.3118\n",
            "Epoch 9/20\n",
            "\u001b[1m750/750\u001b[0m \u001b[32m━━━━━━━━━━━━━━━━━━━━\u001b[0m\u001b[37m\u001b[0m \u001b[1m3s\u001b[0m 4ms/step - accuracy: 0.9052 - loss: 0.2550 - val_accuracy: 0.8887 - val_loss: 0.3157\n",
            "Epoch 10/20\n",
            "\u001b[1m750/750\u001b[0m \u001b[32m━━━━━━━━━━━━━━━━━━━━\u001b[0m\u001b[37m\u001b[0m \u001b[1m5s\u001b[0m 4ms/step - accuracy: 0.9102 - loss: 0.2463 - val_accuracy: 0.8832 - val_loss: 0.3234\n",
            "Epoch 11/20\n",
            "\u001b[1m750/750\u001b[0m \u001b[32m━━━━━━━━━━━━━━━━━━━━\u001b[0m\u001b[37m\u001b[0m \u001b[1m3s\u001b[0m 4ms/step - accuracy: 0.9125 - loss: 0.2381 - val_accuracy: 0.8798 - val_loss: 0.3339\n",
            "Epoch 12/20\n",
            "\u001b[1m750/750\u001b[0m \u001b[32m━━━━━━━━━━━━━━━━━━━━\u001b[0m\u001b[37m\u001b[0m \u001b[1m6s\u001b[0m 5ms/step - accuracy: 0.9167 - loss: 0.2268 - val_accuracy: 0.8898 - val_loss: 0.3118\n",
            "Epoch 13/20\n",
            "\u001b[1m750/750\u001b[0m \u001b[32m━━━━━━━━━━━━━━━━━━━━\u001b[0m\u001b[37m\u001b[0m \u001b[1m4s\u001b[0m 6ms/step - accuracy: 0.9170 - loss: 0.2253 - val_accuracy: 0.8848 - val_loss: 0.3230\n",
            "Epoch 14/20\n",
            "\u001b[1m750/750\u001b[0m \u001b[32m━━━━━━━━━━━━━━━━━━━━\u001b[0m\u001b[37m\u001b[0m \u001b[1m4s\u001b[0m 4ms/step - accuracy: 0.9190 - loss: 0.2151 - val_accuracy: 0.8863 - val_loss: 0.3305\n",
            "Epoch 15/20\n",
            "\u001b[1m750/750\u001b[0m \u001b[32m━━━━━━━━━━━━━━━━━━━━\u001b[0m\u001b[37m\u001b[0m \u001b[1m5s\u001b[0m 4ms/step - accuracy: 0.9223 - loss: 0.2148 - val_accuracy: 0.8917 - val_loss: 0.3198\n",
            "Epoch 16/20\n",
            "\u001b[1m750/750\u001b[0m \u001b[32m━━━━━━━━━━━━━━━━━━━━\u001b[0m\u001b[37m\u001b[0m \u001b[1m4s\u001b[0m 6ms/step - accuracy: 0.9220 - loss: 0.2083 - val_accuracy: 0.8917 - val_loss: 0.3142\n",
            "Epoch 17/20\n",
            "\u001b[1m750/750\u001b[0m \u001b[32m━━━━━━━━━━━━━━━━━━━━\u001b[0m\u001b[37m\u001b[0m \u001b[1m3s\u001b[0m 4ms/step - accuracy: 0.9269 - loss: 0.1959 - val_accuracy: 0.8755 - val_loss: 0.3497\n",
            "Epoch 18/20\n",
            "\u001b[1m750/750\u001b[0m \u001b[32m━━━━━━━━━━━━━━━━━━━━\u001b[0m\u001b[37m\u001b[0m \u001b[1m3s\u001b[0m 4ms/step - accuracy: 0.9257 - loss: 0.1979 - val_accuracy: 0.8858 - val_loss: 0.3304\n",
            "Epoch 19/20\n",
            "\u001b[1m750/750\u001b[0m \u001b[32m━━━━━━━━━━━━━━━━━━━━\u001b[0m\u001b[37m\u001b[0m \u001b[1m7s\u001b[0m 6ms/step - accuracy: 0.9322 - loss: 0.1883 - val_accuracy: 0.8852 - val_loss: 0.3269\n",
            "Epoch 20/20\n",
            "\u001b[1m750/750\u001b[0m \u001b[32m━━━━━━━━━━━━━━━━━━━━\u001b[0m\u001b[37m\u001b[0m \u001b[1m4s\u001b[0m 4ms/step - accuracy: 0.9287 - loss: 0.1857 - val_accuracy: 0.8892 - val_loss: 0.3325\n"
          ]
        }
      ]
    },
    {
      "cell_type": "code",
      "source": [
        "history.history.keys()"
      ],
      "metadata": {
        "colab": {
          "base_uri": "https://localhost:8080/"
        },
        "id": "ZgrZJ0fLMikG",
        "outputId": "847fe957-1f3e-4612-b05a-7f725e8c3d92"
      },
      "execution_count": null,
      "outputs": [
        {
          "output_type": "execute_result",
          "data": {
            "text/plain": [
              "dict_keys(['accuracy', 'loss', 'val_accuracy', 'val_loss'])"
            ]
          },
          "metadata": {},
          "execution_count": 173
        }
      ]
    },
    {
      "cell_type": "code",
      "source": [
        "plt.plot(history.history['accuracy'], label='accuracy')\n",
        "plt.plot(history.history['val_accuracy'], label = 'val_accuracy')\n",
        "plt.xlabel('Epoch')\n",
        "plt.ylabel('Accuracy')\n",
        "plt.ylim([0.5, 1])\n",
        "plt.legend(loc='lower right')"
      ],
      "metadata": {
        "colab": {
          "base_uri": "https://localhost:8080/",
          "height": 472
        },
        "id": "R1OnhnReMZAU",
        "outputId": "5b9a3286-6186-409a-cc77-ed29f6285771"
      },
      "execution_count": null,
      "outputs": [
        {
          "output_type": "execute_result",
          "data": {
            "text/plain": [
              "<matplotlib.legend.Legend at 0x77fe0fbb9a20>"
            ]
          },
          "metadata": {},
          "execution_count": 174
        },
        {
          "output_type": "display_data",
          "data": {
            "text/plain": [
              "<Figure size 640x480 with 1 Axes>"
            ],
            "image/png": "[encoded data removed]"
          },
          "metadata": {}
        }
      ]
    },
    {
      "cell_type": "code",
      "source": [
        "# model.fit(X_train,\n",
        "#           y_train,\n",
        "#           epochs = 10,\n",
        "#           batch_size=64,\n",
        "#           verbose=True)\n",
        "\n",
        "## By default verbose =True ============ > It will display the information\n",
        "##            verbose=False ============ > It will not display the information\n",
        "# epoch = Forward pass + Backward pass\n",
        "# Forward pass assign weights randomly at intial state\n",
        "# Backward pass update the weight by ADAM\n",
        "# Back prpogation\n",
        "\n",
        "\n",
        "# loss is not reducing\n",
        "# weights are same ====== vansihing gradients problem\n",
        "\n",
        "# loss is reducing\n",
        "# weights are same ==== we are good\n",
        "\n",
        "# here we are passing batch size=64\n",
        "# 60000/64= 938 btaches\n",
        "\n",
        "\n",
        "\n",
        "# 60000k samples are divided into batches\n",
        "# default batch size=32\n",
        "# 60000/32=1875 batches   each batch has 32 samples\n"
      ],
      "metadata": {
        "id": "Y0PJ_Pd00mN1"
      },
      "execution_count": null,
      "outputs": []
    },
    {
      "cell_type": "code",
      "source": [
        "help(model.fit)\n",
        "# when we provided validation data\n",
        "# assume that train accuracy is high === train loss low\n",
        "#             validation accurcay is low --- val loss high (overfit)\n",
        "\n",
        "## assume that train accuracy is low === train loss high\n",
        "#             validation accurcay is low --- val loss high (underfit)\n",
        "\n",
        "# assume that train accuracy is high === train loss low\n",
        "#             validation accurcay is high --- val loss low (normal)\n"
      ],
      "metadata": {
        "id": "E8-3NwZrKsTI"
      },
      "execution_count": null,
      "outputs": []
    },
    {
      "cell_type": "code",
      "source": [
        "# # by default batch size=32\n",
        "# history=model.fit(X_train,\n",
        "#           y_train,\n",
        "#           epochs = 10)"
      ],
      "metadata": {
        "id": "H_XSklBeIcDm"
      },
      "execution_count": null,
      "outputs": []
    },
    {
      "cell_type": "code",
      "source": [
        "# history.history"
      ],
      "metadata": {
        "id": "aXPT6uKpJwK_"
      },
      "execution_count": null,
      "outputs": []
    },
    {
      "cell_type": "code",
      "source": [
        "# plt.plot(history.history['accuracy'])\n",
        "# plt.plot(history.history['loss'])"
      ],
      "metadata": {
        "id": "tMoQ2D05KDWk"
      },
      "execution_count": null,
      "outputs": []
    },
    {
      "cell_type": "markdown",
      "source": [
        "**Hyper parameters**\n",
        "\n",
        "- Number of Hidden layer\n",
        "\n",
        "- Number of Neurons\n",
        "\n",
        "- Optimizer\n",
        "\n",
        "- loss\n",
        "\n",
        "- accuracy\n",
        "\n",
        "- Epochs\n",
        "\n",
        "- Batch size\n",
        "\n",
        "- learning rate\n"
      ],
      "metadata": {
        "id": "-QVXXUMDU8rw"
      }
    },
    {
      "cell_type": "code",
      "source": [],
      "metadata": {
        "id": "ldd2wdSt9WO5"
      },
      "execution_count": null,
      "outputs": []
    },
    {
      "cell_type": "markdown",
      "source": [
        "## Model Evaluation"
      ],
      "metadata": {
        "id": "jsgkPzYF0_Eu"
      }
    },
    {
      "cell_type": "markdown",
      "source": [
        "Now we will evaluate the accuracy using the test data. We have got an accuracy of 87.82%."
      ],
      "metadata": {
        "id": "U1cZ9G7OKSpn"
      }
    },
    {
      "cell_type": "code",
      "source": [
        "X_test.shape,y_test.shape"
      ],
      "metadata": {
        "colab": {
          "base_uri": "https://localhost:8080/"
        },
        "id": "00r9kvMRWHRb",
        "outputId": "cb7eb776-19be-4a91-ec46-236e7705cb19"
      },
      "execution_count": null,
      "outputs": [
        {
          "output_type": "execute_result",
          "data": {
            "text/plain": [
              "((10000, 28, 28), (10000,))"
            ]
          },
          "metadata": {},
          "execution_count": 177
        }
      ]
    },
    {
      "cell_type": "code",
      "source": [
        "test_loss, test_acc = model.evaluate(X_test, y_test)\n",
        "print(test_acc)"
      ],
      "metadata": {
        "colab": {
          "base_uri": "https://localhost:8080/"
        },
        "id": "JEJ33e24KOOt",
        "outputId": "3548090c-9dfe-4be0-e798-e11064164334"
      },
      "execution_count": null,
      "outputs": [
        {
          "output_type": "stream",
          "name": "stdout",
          "text": [
            "\u001b[1m313/313\u001b[0m \u001b[32m━━━━━━━━━━━━━━━━━━━━\u001b[0m\u001b[37m\u001b[0m \u001b[1m1s\u001b[0m 2ms/step - accuracy: 0.8849 - loss: 0.3545\n",
            "0.8851000070571899\n"
          ]
        }
      ]
    },
    {
      "cell_type": "code",
      "source": [
        "0.9091, 0.87\n",
        "\n",
        "# Underfit: Train error high\n",
        "# Normal fit: Train error low- test error low\n",
        "# Overfit : Train errir low - Test error hig"
      ],
      "metadata": {
        "id": "gW5B-C1NSu2K"
      },
      "execution_count": null,
      "outputs": []
    },
    {
      "cell_type": "markdown",
      "source": [
        "## Model Predictions"
      ],
      "metadata": {
        "id": "97068_AV1pr6"
      }
    },
    {
      "cell_type": "markdown",
      "source": [
        "Now we are going to do predictions using sklearn and see the accuracy. For that we will import accuracy_score from sklearn."
      ],
      "metadata": {
        "id": "4GFfdWTKKZGu"
      }
    },
    {
      "cell_type": "code",
      "source": [
        "from sklearn.metrics import accuracy_score"
      ],
      "metadata": {
        "id": "J77QivfmKcZj"
      },
      "execution_count": null,
      "outputs": []
    },
    {
      "cell_type": "markdown",
      "source": [
        "**predict_classes** generates class predictions for the input samples.\n",
        "\n",
        "Here we are giving X_test containing 10000 images as the input.\n",
        "\n",
        " We are even predicting the accuracy.\n",
        "\n",
        " In multilabel classification, accuracy_score computes subset accuracy:\n",
        "\n",
        " the set of labels predicted for a sample must exactly match the corresponding set of labels in y_test."
      ],
      "metadata": {
        "id": "FsjvJzdUKfBx"
      }
    },
    {
      "cell_type": "code",
      "source": [
        "#model.predict()"
      ],
      "metadata": {
        "id": "fFHhCneTV8_i"
      },
      "execution_count": null,
      "outputs": []
    },
    {
      "cell_type": "code",
      "source": [
        "y_pred = model.predict(X_test)\n",
        "y_pred\n",
        "#accuracy_score(y_test, y_pred)\n",
        "\n",
        "# how many probabilities will get for one image = 10\n",
        "\n",
        "# In ML will get direct labels as predictions\n",
        "# but always remember before getting the classes , we actually get some probability values\n",
        "# for one test sample will get probability values that is equal to number of classes\n",
        "# in this problem we have 10 classes\n",
        "# one test sample will get 10 probabilities\n",
        "# which is the higest probability , that will be the answer"
      ],
      "metadata": {
        "colab": {
          "base_uri": "https://localhost:8080/"
        },
        "id": "020Xe1vKK0x-",
        "outputId": "f657db4d-18bc-4a89-810c-6ba984bacf60"
      },
      "execution_count": null,
      "outputs": [
        {
          "output_type": "stream",
          "name": "stdout",
          "text": [
            "\u001b[1m313/313\u001b[0m \u001b[32m━━━━━━━━━━━━━━━━━━━━\u001b[0m\u001b[37m\u001b[0m \u001b[1m1s\u001b[0m 2ms/step\n"
          ]
        },
        {
          "output_type": "execute_result",
          "data": {
            "text/plain": [
              "array([[8.3096419e-09, 3.9881942e-10, 6.0850991e-10, ..., 3.3295886e-03,\n",
              "        1.1712261e-08, 9.9571472e-01],\n",
              "       [3.0420968e-05, 6.1653816e-12, 9.9962026e-01, ..., 2.4043387e-12,\n",
              "        2.3764755e-13, 3.7216083e-10],\n",
              "       [2.2879526e-08, 9.9999994e-01, 9.4743256e-13, ..., 9.8574595e-27,\n",
              "        2.4283376e-15, 4.7106166e-17],\n",
              "       ...,\n",
              "       [3.1632687e-06, 7.4295267e-15, 8.7496455e-06, ..., 3.1604064e-12,\n",
              "        9.9995369e-01, 2.3424599e-11],\n",
              "       [1.1768942e-07, 9.9999875e-01, 4.8597798e-10, ..., 4.7818801e-14,\n",
              "        1.9483075e-10, 6.9413281e-11],\n",
              "       [6.0980466e-07, 1.8424956e-10, 8.8192856e-08, ..., 1.0304262e-03,\n",
              "        2.6489834e-05, 7.6328951e-07]], dtype=float32)"
            ]
          },
          "metadata": {},
          "execution_count": 178
        }
      ]
    },
    {
      "cell_type": "code",
      "source": [
        "print(y_pred[0])\n",
        "\n",
        "# what is the final output of y_pred[0]\n",
        "# we are passing X_test[0] ====== y_pred[0]\n",
        "# we are passing X_test[1] ===== y_pred[1]\n",
        "# we are passing X_test(10k) ======= y_pred(10k)\n",
        "\n",
        "print(class_names)\n",
        "# what is the meaning of 2.1053414e-14\n",
        "# we are passing a X_test[0] image to NN\n",
        "# then the NN says : there is a 0.000000000000000002 % chance that image become a top"
      ],
      "metadata": {
        "colab": {
          "base_uri": "https://localhost:8080/"
        },
        "id": "-2e--oFLQDOZ",
        "outputId": "80f6d0b3-7a2d-44ca-e26a-fce5d6eb7f35"
      },
      "execution_count": null,
      "outputs": [
        {
          "output_type": "stream",
          "name": "stdout",
          "text": [
            "[8.3096419e-09 3.9881942e-10 6.0850991e-10 9.0915150e-14 4.4002233e-09\n",
            " 9.5554197e-04 1.5764682e-07 3.3295886e-03 1.1712261e-08 9.9571472e-01]\n",
            "['top', 'trouser', 'pullover', 'dress', 'coat', 'sandal', 'shirt', 'sneaker', 'bag', 'ankle boot']\n"
          ]
        }
      ]
    },
    {
      "cell_type": "code",
      "source": [
        "max_prob=9.9571472e-01\n",
        "# we are passing X_test[0] the NN is giving 10 probabilities\n",
        "# the maximum probabilty index =  the value = 0.99\n",
        "# now i need to check two things\n",
        " # what is the class name my NN is giving\n",
        "class_names[9]\n",
        " # is it matching with y_test[0]\n",
        "y_test[0]\n",
        "max_prob,class_names[9],y_test[0]"
      ],
      "metadata": {
        "colab": {
          "base_uri": "https://localhost:8080/"
        },
        "id": "CLNr3OspT1PP",
        "outputId": "fe32f71a-878d-4bb2-b597-c759cb48341d"
      },
      "execution_count": null,
      "outputs": [
        {
          "output_type": "execute_result",
          "data": {
            "text/plain": [
              "(0.99571472, 'ankle boot', 9)"
            ]
          },
          "metadata": {},
          "execution_count": 182
        }
      ]
    },
    {
      "cell_type": "code",
      "source": [
        "y_test[0]"
      ],
      "metadata": {
        "id": "ItNzjMNJceal"
      },
      "execution_count": null,
      "outputs": []
    },
    {
      "cell_type": "code",
      "source": [
        "plt.imshow(X_test[0])\n",
        "# human === ankle boot   y_test[0]\n",
        "# model === ankle boot 0.99"
      ],
      "metadata": {
        "id": "BovOHqzkcN0K"
      },
      "execution_count": null,
      "outputs": []
    },
    {
      "cell_type": "markdown",
      "source": [
        "**np.argmax vs np.max**\n",
        "\n",
        "- np.max will give maximum value of array\n",
        "\n",
        "- np.argmax will give index of the maximum value"
      ],
      "metadata": {
        "id": "Z80VpGEIQSMe"
      }
    },
    {
      "cell_type": "code",
      "source": [
        "np.argmax(y_pred[0]),np.max(y_pred[0])"
      ],
      "metadata": {
        "colab": {
          "base_uri": "https://localhost:8080/"
        },
        "id": "zrruInOi0kxk",
        "outputId": "92c66b5e-bdfa-4dce-b25a-22be183af666"
      },
      "execution_count": null,
      "outputs": [
        {
          "output_type": "execute_result",
          "data": {
            "text/plain": [
              "(9, 0.9957147)"
            ]
          },
          "metadata": {},
          "execution_count": 183
        }
      ]
    },
    {
      "cell_type": "code",
      "source": [
        "np.argmax(y_pred[3])==y_test[3]"
      ],
      "metadata": {
        "colab": {
          "base_uri": "https://localhost:8080/"
        },
        "id": "nZlq1tgYVWDW",
        "outputId": "04c7d94a-14eb-47ba-8383-368bdde1c68e"
      },
      "execution_count": null,
      "outputs": [
        {
          "output_type": "execute_result",
          "data": {
            "text/plain": [
              "True"
            ]
          },
          "metadata": {},
          "execution_count": 187
        }
      ]
    },
    {
      "cell_type": "code",
      "source": [
        "# y_pred_zero = model.predict(X_test[0])\n",
        "# y_pred_zero"
      ],
      "metadata": {
        "id": "FBsrVseI0ePE"
      },
      "execution_count": null,
      "outputs": []
    },
    {
      "cell_type": "code",
      "source": [
        "len(X_test)"
      ],
      "metadata": {
        "id": "7bWU8WViHumj"
      },
      "execution_count": null,
      "outputs": []
    },
    {
      "cell_type": "code",
      "source": [
        "y_pred[0]  #  how many predictons =  number test cases"
      ],
      "metadata": {
        "id": "hcPNQ1eAHWyi"
      },
      "execution_count": null,
      "outputs": []
    },
    {
      "cell_type": "code",
      "source": [
        "np.sum(y_pred[0]) # Summation of all probabilities =1"
      ],
      "metadata": {
        "id": "Y2ErrWkV-Xg1"
      },
      "execution_count": null,
      "outputs": []
    },
    {
      "cell_type": "code",
      "source": [
        "l=[10,15,25,30,35,5,7]\n",
        "for i in range(len(l)):\n",
        "    if l[i]==np.max(l):\n",
        "        print(i)\n",
        "\n"
      ],
      "metadata": {
        "id": "A370y1NDXiL2"
      },
      "execution_count": null,
      "outputs": []
    },
    {
      "cell_type": "code",
      "source": [
        "l=[10,15,25,30,35,5,7]\n",
        "l.index(np.max(l))"
      ],
      "metadata": {
        "id": "YzDuS1AOXxaW"
      },
      "execution_count": null,
      "outputs": []
    },
    {
      "cell_type": "markdown",
      "source": [],
      "metadata": {
        "id": "UozIUujuYKxP"
      }
    },
    {
      "cell_type": "code",
      "source": [
        "# Total 10k predictions\n",
        "# we are taking first prediction\n",
        "y_pred[0]"
      ],
      "metadata": {
        "id": "pHd7g0SL104z"
      },
      "execution_count": null,
      "outputs": []
    },
    {
      "cell_type": "code",
      "source": [
        "max=np.max(y_pred[0])\n",
        "max"
      ],
      "metadata": {
        "id": "x4GJ8yjZJH08"
      },
      "execution_count": null,
      "outputs": []
    },
    {
      "cell_type": "code",
      "source": [
        "np.argmax(y_pred[0])"
      ],
      "metadata": {
        "id": "mqQ4YzKc2Ecx"
      },
      "execution_count": null,
      "outputs": []
    },
    {
      "cell_type": "code",
      "source": [
        "# plot\n",
        "# y_test\n",
        "y_test[0]"
      ],
      "metadata": {
        "id": "NKMv_1PN2KpZ"
      },
      "execution_count": null,
      "outputs": []
    },
    {
      "cell_type": "code",
      "source": [
        "class_names[y_test[0]]"
      ],
      "metadata": {
        "id": "NvF7f0-32_Ss"
      },
      "execution_count": null,
      "outputs": []
    },
    {
      "cell_type": "code",
      "source": [
        "plt.imshow(X_test[0])\n",
        "plt.xlabel(f\"Actual:{y_test[0]}\") # Directly index\n",
        "plt.ylabel(f\"prediction:{np.argmax(y_pred[0])}\") # proba=== argmax\n",
        "plt.title(f\"Image name:{class_names[np.argmax(y_pred[0])]}\")"
      ],
      "metadata": {
        "id": "Axla_l_02gmm"
      },
      "execution_count": null,
      "outputs": []
    },
    {
      "cell_type": "code",
      "source": [
        "plt.figure(figsize=(18,16))\n",
        "for i in range(25):\n",
        "    plt.subplot(5,5,i+1)\n",
        "    plt.xticks([])\n",
        "    plt.yticks([])\n",
        "    plt.grid(False)\n",
        "    plt.imshow(X_test[i])\n",
        "    plt.xlabel(f\"Actual:{y_test[i]}\") # Directly index\n",
        "    plt.ylabel(f\"prediction:{np.argmax(y_pred[i])}\") # proba=== argmax\n",
        "    plt.title(f\"original Image name:{class_names[y_test[i]]}\")\n",
        "plt.show()"
      ],
      "metadata": {
        "colab": {
          "base_uri": "https://localhost:8080/",
          "height": 1000
        },
        "id": "iuJUSWLP3m-N",
        "outputId": "9dd6973a-762b-45a1-c6e3-efb8fe09a6a8"
      },
      "execution_count": null,
      "outputs": [
        {
          "output_type": "display_data",
          "data": {
            "text/plain": [
              "<Figure size 1800x1600 with 25 Axes>"
            ],
            "image/png": "[encoded data removed]"
          },
          "metadata": {}
        }
      ]
    },
    {
      "cell_type": "code",
      "source": [
        "index=list(y_pred[0]).index(max)\n",
        "index"
      ],
      "metadata": {
        "id": "ilbLKERdJU-l"
      },
      "execution_count": null,
      "outputs": []
    },
    {
      "cell_type": "markdown",
      "source": [
        "**np.max  vs np.argmax**\n",
        "\n",
        "- np.max  will give maximum value in array\n",
        "\n",
        "- np.argmax will give index of the maximum value\n",
        "\n",
        "- using these index we can get the class names"
      ],
      "metadata": {
        "id": "VNZhnqqW13g5"
      }
    },
    {
      "cell_type": "code",
      "source": [
        "np.max(y_pred[0]),np.argmax(y_pred[0])"
      ],
      "metadata": {
        "id": "wqY4elGmKr7E"
      },
      "execution_count": null,
      "outputs": []
    },
    {
      "cell_type": "code",
      "source": [
        "class_names"
      ],
      "metadata": {
        "id": "EGHvCYdrY1vp"
      },
      "execution_count": null,
      "outputs": []
    },
    {
      "cell_type": "markdown",
      "source": [
        "- y_test is actual (10k)\n",
        "\n",
        "- y_pred is predictions (10k)\n",
        "\n",
        "- y_pred[0]: index  with y_test[0] : index\n",
        "\n",
        "- that index we are passing in class names\n",
        "\n",
        "- comparing class names\n",
        "\n",
        "- for y_pred : predicted class\n",
        "\n",
        "- for y_test: actaul prediction or **ground truth**"
      ],
      "metadata": {
        "id": "fSnfDsgxY-u5"
      }
    },
    {
      "cell_type": "code",
      "source": [
        "y_pred[0]  # First prediction\n",
        "max_prob=np.max(y_pred[0]) # Predicton wil give probabilites of all classes\n",
        "index=np.argmax(y_pred[0]) # Index of maximum probability\n",
        "prediction_class=class_names[index] # Using index we are getting class name\n",
        "Ground_Truth_class= class_names[y_test[0]] # We also passing orfinal test input value and getting the class\n",
        "\n",
        "plt.figure()\n",
        "plt.imshow(X_test[0])\n",
        "plt.xlabel(Ground_Truth_class)\n",
        "plt.ylabel(prediction_class)\n",
        "plt.colorbar()"
      ],
      "metadata": {
        "id": "HiS9KW-z2M6c"
      },
      "execution_count": null,
      "outputs": []
    },
    {
      "cell_type": "code",
      "source": [
        "max_prob=[np.max(i)  for i in y_pred]\n",
        "index=[np.argmax(i) for i in y_pred]\n",
        "prediction_class=[class_names[i] for i in index]\n",
        "Ground_Truth_class=[class_names[i] for i in y_test]\n",
        "\n",
        "d1=pd.DataFrame(zip(max_prob,index,prediction_class,\n",
        "                    Ground_Truth_class),\n",
        "             columns=['Max_proba','Index','Prediction_class',\n",
        "                      'Ground_Truth_class'])\n",
        "con=d1['Prediction_class']==d1['Ground_Truth_class']\n",
        "d1['output']=np.where(con,1,0)\n",
        "accuracy=d1['output'].sum()/len(d1['output'])\n",
        "accuracy"
      ],
      "metadata": {
        "colab": {
          "base_uri": "https://localhost:8080/"
        },
        "id": "TaoMGPFmK6Al",
        "outputId": "500e3016-2204-4ea3-821d-3bea38c72ce3"
      },
      "execution_count": null,
      "outputs": [
        {
          "output_type": "execute_result",
          "data": {
            "text/plain": [
              "0.8851"
            ]
          },
          "metadata": {},
          "execution_count": 189
        }
      ]
    },
    {
      "cell_type": "code",
      "source": [
        "d1"
      ],
      "metadata": {
        "colab": {
          "base_uri": "https://localhost:8080/",
          "height": 423
        },
        "id": "QjGI85oYL3MA",
        "outputId": "78594a89-25ee-4929-8a26-6b61f350dbb1"
      },
      "execution_count": null,
      "outputs": [
        {
          "output_type": "execute_result",
          "data": {
            "text/plain": [
              "      Max_proba  Index Prediction_class Ground_Truth_class  output\n",
              "0      0.995715      9       ankle boot         ankle boot       1\n",
              "1      0.999620      2         pullover           pullover       1\n",
              "2      1.000000      1          trouser            trouser       1\n",
              "3      0.999999      1          trouser            trouser       1\n",
              "4      0.745629      6            shirt              shirt       1\n",
              "...         ...    ...              ...                ...     ...\n",
              "9995   0.999999      9       ankle boot         ankle boot       1\n",
              "9996   0.999951      1          trouser            trouser       1\n",
              "9997   0.999954      8              bag                bag       1\n",
              "9998   0.999999      1          trouser            trouser       1\n",
              "9999   0.998938      5           sandal             sandal       1\n",
              "\n",
              "[10000 rows x 5 columns]"
            ],
            "text/html": [
              "\n",
              "  <div id=\"df-59acbf4d-8f18-4cdd-9da2-06f937071948\" class=\"colab-df-container\">\n",
              "    <div>\n",
              "<style scoped>\n",
              "    .dataframe tbody tr th:only-of-type {\n",
              "        vertical-align: middle;\n",
              "    }\n",
              "\n",
              "    .dataframe tbody tr th {\n",
              "        vertical-align: top;\n",
              "    }\n",
              "\n",
              "    .dataframe thead th {\n",
              "        text-align: right;\n",
              "    }\n",
              "</style>\n",
              "<table border=\"1\" class=\"dataframe\">\n",
              "  <thead>\n",
              "    <tr style=\"text-align: right;\">\n",
              "      <th></th>\n",
              "      <th>Max_proba</th>\n",
              "      <th>Index</th>\n",
              "      <th>Prediction_class</th>\n",
              "      <th>Ground_Truth_class</th>\n",
              "      <th>output</th>\n",
              "    </tr>\n",
              "  </thead>\n",
              "  <tbody>\n",
              "    <tr>\n",
              "      <th>0</th>\n",
              "      <td>0.995715</td>\n",
              "      <td>9</td>\n",
              "      <td>ankle boot</td>\n",
              "      <td>ankle boot</td>\n",
              "      <td>1</td>\n",
              "    </tr>\n",
              "    <tr>\n",
              "      <th>1</th>\n",
              "      <td>0.999620</td>\n",
              "      <td>2</td>\n",
              "      <td>pullover</td>\n",
              "      <td>pullover</td>\n",
              "      <td>1</td>\n",
              "    </tr>\n",
              "    <tr>\n",
              "      <th>2</th>\n",
              "      <td>1.000000</td>\n",
              "      <td>1</td>\n",
              "      <td>trouser</td>\n",
              "      <td>trouser</td>\n",
              "      <td>1</td>\n",
              "    </tr>\n",
              "    <tr>\n",
              "      <th>3</th>\n",
              "      <td>0.999999</td>\n",
              "      <td>1</td>\n",
              "      <td>trouser</td>\n",
              "      <td>trouser</td>\n",
              "      <td>1</td>\n",
              "    </tr>\n",
              "    <tr>\n",
              "      <th>4</th>\n",
              "      <td>0.745629</td>\n",
              "      <td>6</td>\n",
              "      <td>shirt</td>\n",
              "      <td>shirt</td>\n",
              "      <td>1</td>\n",
              "    </tr>\n",
              "    <tr>\n",
              "      <th>...</th>\n",
              "      <td>...</td>\n",
              "      <td>...</td>\n",
              "      <td>...</td>\n",
              "      <td>...</td>\n",
              "      <td>...</td>\n",
              "    </tr>\n",
              "    <tr>\n",
              "      <th>9995</th>\n",
              "      <td>0.999999</td>\n",
              "      <td>9</td>\n",
              "      <td>ankle boot</td>\n",
              "      <td>ankle boot</td>\n",
              "      <td>1</td>\n",
              "    </tr>\n",
              "    <tr>\n",
              "      <th>9996</th>\n",
              "      <td>0.999951</td>\n",
              "      <td>1</td>\n",
              "      <td>trouser</td>\n",
              "      <td>trouser</td>\n",
              "      <td>1</td>\n",
              "    </tr>\n",
              "    <tr>\n",
              "      <th>9997</th>\n",
              "      <td>0.999954</td>\n",
              "      <td>8</td>\n",
              "      <td>bag</td>\n",
              "      <td>bag</td>\n",
              "      <td>1</td>\n",
              "    </tr>\n",
              "    <tr>\n",
              "      <th>9998</th>\n",
              "      <td>0.999999</td>\n",
              "      <td>1</td>\n",
              "      <td>trouser</td>\n",
              "      <td>trouser</td>\n",
              "      <td>1</td>\n",
              "    </tr>\n",
              "    <tr>\n",
              "      <th>9999</th>\n",
              "      <td>0.998938</td>\n",
              "      <td>5</td>\n",
              "      <td>sandal</td>\n",
              "      <td>sandal</td>\n",
              "      <td>1</td>\n",
              "    </tr>\n",
              "  </tbody>\n",
              "</table>\n",
              "<p>10000 rows × 5 columns</p>\n",
              "</div>\n",
              "    <div class=\"colab-df-buttons\">\n",
              "\n",
              "  <div class=\"colab-df-container\">\n",
              "    <button class=\"colab-df-convert\" onclick=\"convertToInteractive('df-59acbf4d-8f18-4cdd-9da2-06f937071948')\"\n",
              "            title=\"Convert this dataframe to an interactive table.\"\n",
              "            style=\"display:none;\">\n",
              "\n",
              "  <svg xmlns=\"http://www.w3.org/2000/svg\" height=\"24px\" viewBox=\"0 -960 960 960\">\n",
              "    <path d=\"M120-120v-720h720v720H120Zm60-500h600v-160H180v160Zm220 220h160v-160H400v160Zm0 220h160v-160H400v160ZM180-400h160v-160H180v160Zm440 0h160v-160H620v160ZM180-180h160v-160H180v160Zm440 0h160v-160H620v160Z\"/>\n",
              "  </svg>\n",
              "    </button>\n",
              "\n",
              "  <style>\n",
              "    .colab-df-container {\n",
              "      display:flex;\n",
              "      gap: 12px;\n",
              "    }\n",
              "\n",
              "    .colab-df-convert {\n",
              "      background-color: #E8F0FE;\n",
              "      border: none;\n",
              "      border-radius: 50%;\n",
              "      cursor: pointer;\n",
              "      display: none;\n",
              "      fill: #1967D2;\n",
              "      height: 32px;\n",
              "      padding: 0 0 0 0;\n",
              "      width: 32px;\n",
              "    }\n",
              "\n",
              "    .colab-df-convert:hover {\n",
              "      background-color: #E2EBFA;\n",
              "      box-shadow: 0px 1px 2px rgba(60, 64, 67, 0.3), 0px 1px 3px 1px rgba(60, 64, 67, 0.15);\n",
              "      fill: #174EA6;\n",
              "    }\n",
              "\n",
              "    .colab-df-buttons div {\n",
              "      margin-bottom: 4px;\n",
              "    }\n",
              "\n",
              "    [theme=dark] .colab-df-convert {\n",
              "      background-color: #3B4455;\n",
              "      fill: #D2E3FC;\n",
              "    }\n",
              "\n",
              "    [theme=dark] .colab-df-convert:hover {\n",
              "      background-color: #434B5C;\n",
              "      box-shadow: 0px 1px 3px 1px rgba(0, 0, 0, 0.15);\n",
              "      filter: drop-shadow(0px 1px 2px rgba(0, 0, 0, 0.3));\n",
              "      fill: #FFFFFF;\n",
              "    }\n",
              "  </style>\n",
              "\n",
              "    <script>\n",
              "      const buttonEl =\n",
              "        document.querySelector('#df-59acbf4d-8f18-4cdd-9da2-06f937071948 button.colab-df-convert');\n",
              "      buttonEl.style.display =\n",
              "        google.colab.kernel.accessAllowed ? 'block' : 'none';\n",
              "\n",
              "      async function convertToInteractive(key) {\n",
              "        const element = document.querySelector('#df-59acbf4d-8f18-4cdd-9da2-06f937071948');\n",
              "        const dataTable =\n",
              "          await google.colab.kernel.invokeFunction('convertToInteractive',\n",
              "                                                    [key], {});\n",
              "        if (!dataTable) return;\n",
              "\n",
              "        const docLinkHtml = 'Like what you see? Visit the ' +\n",
              "          '<a target=\"_blank\" href=https://colab.research.google.com/notebooks/data_table.ipynb>data table notebook</a>'\n",
              "          + ' to learn more about interactive tables.';\n",
              "        element.innerHTML = '';\n",
              "        dataTable['output_type'] = 'display_data';\n",
              "        await google.colab.output.renderOutput(dataTable, element);\n",
              "        const docLink = document.createElement('div');\n",
              "        docLink.innerHTML = docLinkHtml;\n",
              "        element.appendChild(docLink);\n",
              "      }\n",
              "    </script>\n",
              "  </div>\n",
              "\n",
              "\n",
              "<div id=\"df-014114d6-4baf-441c-82d2-4f59a2b646d3\">\n",
              "  <button class=\"colab-df-quickchart\" onclick=\"quickchart('df-014114d6-4baf-441c-82d2-4f59a2b646d3')\"\n",
              "            title=\"Suggest charts\"\n",
              "            style=\"display:none;\">\n",
              "\n",
              "<svg xmlns=\"http://www.w3.org/2000/svg\" height=\"24px\"viewBox=\"0 0 24 24\"\n",
              "     width=\"24px\">\n",
              "    <g>\n",
              "        <path d=\"M19 3H5c-1.1 0-2 .9-2 2v14c0 1.1.9 2 2 2h14c1.1 0 2-.9 2-2V5c0-1.1-.9-2-2-2zM9 17H7v-7h2v7zm4 0h-2V7h2v10zm4 0h-2v-4h2v4z\"/>\n",
              "    </g>\n",
              "</svg>\n",
              "  </button>\n",
              "\n",
              "<style>\n",
              "  .colab-df-quickchart {\n",
              "      --bg-color: #E8F0FE;\n",
              "      --fill-color: #1967D2;\n",
              "      --hover-bg-color: #E2EBFA;\n",
              "      --hover-fill-color: #174EA6;\n",
              "      --disabled-fill-color: #AAA;\n",
              "      --disabled-bg-color: #DDD;\n",
              "  }\n",
              "\n",
              "  [theme=dark] .colab-df-quickchart {\n",
              "      --bg-color: #3B4455;\n",
              "      --fill-color: #D2E3FC;\n",
              "      --hover-bg-color: #434B5C;\n",
              "      --hover-fill-color: #FFFFFF;\n",
              "      --disabled-bg-color: #3B4455;\n",
              "      --disabled-fill-color: #666;\n",
              "  }\n",
              "\n",
              "  .colab-df-quickchart {\n",
              "    background-color: var(--bg-color);\n",
              "    border: none;\n",
              "    border-radius: 50%;\n",
              "    cursor: pointer;\n",
              "    display: none;\n",
              "    fill: var(--fill-color);\n",
              "    height: 32px;\n",
              "    padding: 0;\n",
              "    width: 32px;\n",
              "  }\n",
              "\n",
              "  .colab-df-quickchart:hover {\n",
              "    background-color: var(--hover-bg-color);\n",
              "    box-shadow: 0 1px 2px rgba(60, 64, 67, 0.3), 0 1px 3px 1px rgba(60, 64, 67, 0.15);\n",
              "    fill: var(--button-hover-fill-color);\n",
              "  }\n",
              "\n",
              "  .colab-df-quickchart-complete:disabled,\n",
              "  .colab-df-quickchart-complete:disabled:hover {\n",
              "    background-color: var(--disabled-bg-color);\n",
              "    fill: var(--disabled-fill-color);\n",
              "    box-shadow: none;\n",
              "  }\n",
              "\n",
              "  .colab-df-spinner {\n",
              "    border: 2px solid var(--fill-color);\n",
              "    border-color: transparent;\n",
              "    border-bottom-color: var(--fill-color);\n",
              "    animation:\n",
              "      spin 1s steps(1) infinite;\n",
              "  }\n",
              "\n",
              "  @keyframes spin {\n",
              "    0% {\n",
              "      border-color: transparent;\n",
              "      border-bottom-color: var(--fill-color);\n",
              "      border-left-color: var(--fill-color);\n",
              "    }\n",
              "    20% {\n",
              "      border-color: transparent;\n",
              "      border-left-color: var(--fill-color);\n",
              "      border-top-color: var(--fill-color);\n",
              "    }\n",
              "    30% {\n",
              "      border-color: transparent;\n",
              "      border-left-color: var(--fill-color);\n",
              "      border-top-color: var(--fill-color);\n",
              "      border-right-color: var(--fill-color);\n",
              "    }\n",
              "    40% {\n",
              "      border-color: transparent;\n",
              "      border-right-color: var(--fill-color);\n",
              "      border-top-color: var(--fill-color);\n",
              "    }\n",
              "    60% {\n",
              "      border-color: transparent;\n",
              "      border-right-color: var(--fill-color);\n",
              "    }\n",
              "    80% {\n",
              "      border-color: transparent;\n",
              "      border-right-color: var(--fill-color);\n",
              "      border-bottom-color: var(--fill-color);\n",
              "    }\n",
              "    90% {\n",
              "      border-color: transparent;\n",
              "      border-bottom-color: var(--fill-color);\n",
              "    }\n",
              "  }\n",
              "</style>\n",
              "\n",
              "  <script>\n",
              "    async function quickchart(key) {\n",
              "      const quickchartButtonEl =\n",
              "        document.querySelector('#' + key + ' button');\n",
              "      quickchartButtonEl.disabled = true;  // To prevent multiple clicks.\n",
              "      quickchartButtonEl.classList.add('colab-df-spinner');\n",
              "      try {\n",
              "        const charts = await google.colab.kernel.invokeFunction(\n",
              "            'suggestCharts', [key], {});\n",
              "      } catch (error) {\n",
              "        console.error('Error during call to suggestCharts:', error);\n",
              "      }\n",
              "      quickchartButtonEl.classList.remove('colab-df-spinner');\n",
              "      quickchartButtonEl.classList.add('colab-df-quickchart-complete');\n",
              "    }\n",
              "    (() => {\n",
              "      let quickchartButtonEl =\n",
              "        document.querySelector('#df-014114d6-4baf-441c-82d2-4f59a2b646d3 button');\n",
              "      quickchartButtonEl.style.display =\n",
              "        google.colab.kernel.accessAllowed ? 'block' : 'none';\n",
              "    })();\n",
              "  </script>\n",
              "</div>\n",
              "\n",
              "  <div id=\"id_9b0cc70f-56e1-42d6-be09-b29acb3b45b5\">\n",
              "    <style>\n",
              "      .colab-df-generate {\n",
              "        background-color: #E8F0FE;\n",
              "        border: none;\n",
              "        border-radius: 50%;\n",
              "        cursor: pointer;\n",
              "        display: none;\n",
              "        fill: #1967D2;\n",
              "        height: 32px;\n",
              "        padding: 0 0 0 0;\n",
              "        width: 32px;\n",
              "      }\n",
              "\n",
              "      .colab-df-generate:hover {\n",
              "        background-color: #E2EBFA;\n",
              "        box-shadow: 0px 1px 2px rgba(60, 64, 67, 0.3), 0px 1px 3px 1px rgba(60, 64, 67, 0.15);\n",
              "        fill: #174EA6;\n",
              "      }\n",
              "\n",
              "      [theme=dark] .colab-df-generate {\n",
              "        background-color: #3B4455;\n",
              "        fill: #D2E3FC;\n",
              "      }\n",
              "\n",
              "      [theme=dark] .colab-df-generate:hover {\n",
              "        background-color: #434B5C;\n",
              "        box-shadow: 0px 1px 3px 1px rgba(0, 0, 0, 0.15);\n",
              "        filter: drop-shadow(0px 1px 2px rgba(0, 0, 0, 0.3));\n",
              "        fill: #FFFFFF;\n",
              "      }\n",
              "    </style>\n",
              "    <button class=\"colab-df-generate\" onclick=\"generateWithVariable('d1')\"\n",
              "            title=\"Generate code using this dataframe.\"\n",
              "            style=\"display:none;\">\n",
              "\n",
              "  <svg xmlns=\"http://www.w3.org/2000/svg\" height=\"24px\"viewBox=\"0 0 24 24\"\n",
              "       width=\"24px\">\n",
              "    <path d=\"M7,19H8.4L18.45,9,17,7.55,7,17.6ZM5,21V16.75L18.45,3.32a2,2,0,0,1,2.83,0l1.4,1.43a1.91,1.91,0,0,1,.58,1.4,1.91,1.91,0,0,1-.58,1.4L9.25,21ZM18.45,9,17,7.55Zm-12,3A5.31,5.31,0,0,0,4.9,8.1,5.31,5.31,0,0,0,1,6.5,5.31,5.31,0,0,0,4.9,4.9,5.31,5.31,0,0,0,6.5,1,5.31,5.31,0,0,0,8.1,4.9,5.31,5.31,0,0,0,12,6.5,5.46,5.46,0,0,0,6.5,12Z\"/>\n",
              "  </svg>\n",
              "    </button>\n",
              "    <script>\n",
              "      (() => {\n",
              "      const buttonEl =\n",
              "        document.querySelector('#id_9b0cc70f-56e1-42d6-be09-b29acb3b45b5 button.colab-df-generate');\n",
              "      buttonEl.style.display =\n",
              "        google.colab.kernel.accessAllowed ? 'block' : 'none';\n",
              "\n",
              "      buttonEl.onclick = () => {\n",
              "        google.colab.notebook.generateWithVariable('d1');\n",
              "      }\n",
              "      })();\n",
              "    </script>\n",
              "  </div>\n",
              "\n",
              "    </div>\n",
              "  </div>\n"
            ],
            "application/vnd.google.colaboratory.intrinsic+json": {
              "type": "dataframe",
              "variable_name": "d1",
              "summary": "{\n  \"name\": \"d1\",\n  \"rows\": 10000,\n  \"fields\": [\n    {\n      \"column\": \"Max_proba\",\n      \"properties\": {\n        \"dtype\": \"float32\",\n        \"num_unique_values\": 6997,\n        \"samples\": [\n          0.9983055591583252,\n          0.8169508576393127,\n          0.9837185144424438\n        ],\n        \"semantic_type\": \"\",\n        \"description\": \"\"\n      }\n    },\n    {\n      \"column\": \"Index\",\n      \"properties\": {\n        \"dtype\": \"number\",\n        \"std\": 2,\n        \"min\": 0,\n        \"max\": 9,\n        \"num_unique_values\": 10,\n        \"samples\": [\n          8,\n          2,\n          5\n        ],\n        \"semantic_type\": \"\",\n        \"description\": \"\"\n      }\n    },\n    {\n      \"column\": \"Prediction_class\",\n      \"properties\": {\n        \"dtype\": \"category\",\n        \"num_unique_values\": 10,\n        \"samples\": [\n          \"bag\",\n          \"pullover\",\n          \"sandal\"\n        ],\n        \"semantic_type\": \"\",\n        \"description\": \"\"\n      }\n    },\n    {\n      \"column\": \"Ground_Truth_class\",\n      \"properties\": {\n        \"dtype\": \"category\",\n        \"num_unique_values\": 10,\n        \"samples\": [\n          \"bag\",\n          \"pullover\",\n          \"sandal\"\n        ],\n        \"semantic_type\": \"\",\n        \"description\": \"\"\n      }\n    },\n    {\n      \"column\": \"output\",\n      \"properties\": {\n        \"dtype\": \"number\",\n        \"std\": 0,\n        \"min\": 0,\n        \"max\": 1,\n        \"num_unique_values\": 2,\n        \"samples\": [\n          0,\n          1\n        ],\n        \"semantic_type\": \"\",\n        \"description\": \"\"\n      }\n    }\n  ]\n}"
            }
          },
          "metadata": {},
          "execution_count": 190
        }
      ]
    },
    {
      "cell_type": "code",
      "source": [
        "y_pred[4]  # First prediction\n",
        "max_prob=np.max(y_pred[4]) # Predicton wil give probabilites of all classes\n",
        "index=np.argmax(y_pred[4]) # Index of maximum probability\n",
        "prediction_class=class_names[index] # Using index we are getting class name\n",
        "Ground_Truth_class= class_names[y_test[4]] # We also passing orfinal test input value and getting the class\n",
        "\n",
        "plt.figure()\n",
        "plt.imshow(X_test[4])\n",
        "plt.xlabel(Ground_Truth_class)\n",
        "plt.ylabel(prediction_class)\n",
        "plt.colorbar()"
      ],
      "metadata": {
        "id": "cJ7ng2CD2ff7"
      },
      "execution_count": null,
      "outputs": []
    },
    {
      "cell_type": "code",
      "source": [
        "plt.figure(figsize=(10,10))\n",
        "for i in range(25):\n",
        "    plt.subplot(5,5,i+1)\n",
        "    plt.xticks([])\n",
        "    plt.yticks([])\n",
        "    plt.grid(False)\n",
        "    plt.imshow(X_test[i])\n",
        "    plt.xlabel(f'prediction:{class_names[np.argmax(y_pred[i])]}')\n",
        "    plt.ylabel(f'gt:{class_names[y_test[i]]}')\n",
        "plt.show()"
      ],
      "metadata": {
        "id": "_v9WIg73L3J5"
      },
      "execution_count": null,
      "outputs": []
    },
    {
      "cell_type": "markdown",
      "source": [
        "- Model creation\n",
        "\n",
        "           - sequential\n",
        "           - add\n",
        "           - dense\n",
        "\n",
        "\n",
        "- Model compile\n",
        "\n",
        "          - optimizer\n",
        "\n",
        "          - loss (cross entropy)\n",
        "\n",
        "          - metrics (accuracy)\n",
        "\n",
        "- Model fit\n",
        "\n",
        "          - X_train\n",
        "\n",
        "          - y_train\n",
        "\n",
        "          - epochs\n",
        "\n",
        "          - batch size\n",
        "\n",
        "- Model evaluation\n",
        "\n",
        "          - On the test data what are the metrics and loss that\n",
        "\n",
        "          - X_test\n",
        "\n",
        "          - y_test\n",
        "\n",
        "- Model predictions\n",
        "\n",
        "          - X_test\n",
        "\n",
        "          - probability values it is providing"
      ],
      "metadata": {
        "id": "-Tgmam6s_t_V"
      }
    },
    {
      "cell_type": "markdown",
      "source": [
        "**Fine tuning**\n",
        "\n",
        "- By increasing Hidden layers\n",
        "\n",
        "- By increasing Neurons\n",
        "\n",
        "- By chnaging optimizer\n",
        "\n",
        "- By changing Epochs\n",
        "\n",
        "- By adding drop out technqiue"
      ],
      "metadata": {
        "id": "-U7_759BAlC_"
      }
    },
    {
      "cell_type": "code",
      "source": [],
      "metadata": {
        "id": "eEhX-WnxfHrx"
      },
      "execution_count": null,
      "outputs": []
    },
    {
      "cell_type": "markdown",
      "source": [
        "## Save the model"
      ],
      "metadata": {
        "id": "c7hXEyIm40vM"
      }
    },
    {
      "cell_type": "code",
      "source": [
        "len(model.weights[3].numpy())"
      ],
      "metadata": {
        "id": "DDg5yZWx4C5f"
      },
      "execution_count": null,
      "outputs": []
    },
    {
      "cell_type": "code",
      "source": [
        "model"
      ],
      "metadata": {
        "id": "A6AYY3r5Fzek"
      },
      "execution_count": null,
      "outputs": []
    },
    {
      "cell_type": "code",
      "source": [
        "# Save full model\n",
        "# my model name: model\n",
        "# I want to save with name of Ann\n",
        "model.save('Ann.keras')"
      ],
      "metadata": {
        "id": "Hdq9nDdHbnRV"
      },
      "execution_count": null,
      "outputs": []
    },
    {
      "cell_type": "code",
      "source": [
        "from tensorflow.keras.models import load_model\n",
        "\n",
        "# Load the model\n",
        "loaded_model = load_model('Ann.keras')\n",
        "loaded_model.summary()"
      ],
      "metadata": {
        "id": "Y9X-j3GecIBS"
      },
      "execution_count": null,
      "outputs": []
    },
    {
      "cell_type": "markdown",
      "source": [
        "**Total params:** The sum of all parameters, both trainable and non-trainable.\n",
        "\n",
        "**Trainable params:** Parameters that the model will adjust during training.\n",
        "\n",
        "**Non-trainable params:** Parameters that do not change during training.\n",
        "\n",
        "**Optimizer params:** Parameters used by the optimizer, which may include internal state or configurations."
      ],
      "metadata": {
        "id": "42Opt20gchO_"
      }
    },
    {
      "source": [
        "# Save only the weights\n",
        "# model name is : model\n",
        "# .h5 format\n",
        "# name: model_weights\n",
        "model.save_weights('model_weights.weights.h5') # Added '.weights' to the filename"
      ],
      "cell_type": "code",
      "metadata": {
        "id": "5miVOknWGX_Y"
      },
      "execution_count": null,
      "outputs": []
    },
    {
      "cell_type": "code",
      "source": [
        "# Restore the weights\n",
        "model.load_weights('model_weights.weights.h5')\n",
        "\n",
        "\n",
        "# model configuration\n",
        "# model weights\n",
        "# model classes\n"
      ],
      "metadata": {
        "id": "3EzwiIDvAb9y"
      },
      "execution_count": null,
      "outputs": []
    },
    {
      "cell_type": "markdown",
      "source": [
        "## Evaluate on Unseen Data\n",
        "\n",
        "**1. Loading the Image:**\n",
        "\n",
        "we use PIL (Python Imaging Library) to open the image. This image can be in various formats like JPG, PNG, etc.\n",
        "\n",
        "**2. Resizing the Image to 28x28:**\n",
        "\n",
        "Since we trained your model on 28x28 images, you're resizing the input image to this specific size. If the input images during training were also grayscale, the dimensions would be (28, 28).\n",
        "\n",
        "**3. Converting Image to Numpy Array:**\n",
        "\n",
        "This converts the resized image into a NumPy array. The result is a 3D array with dimensions (28, 28, 3) because your original image is likely in RGB format (3 channels).\n",
        "\n",
        "**4. Converting to Grayscale:**\n",
        "\n",
        "Here, ywe are averaging the pixel values across the 3 color channels (Red, Green, and Blue). This operation reduces the array from a shape of (28, 28, 3) to (28, 28), effectively converting it into a grayscale image.\n",
        "\n",
        "**5. Scaling the Image:**\n",
        "\n",
        "we are normalizing the pixel values by dividing by 255. In this case, pixel values are in the range of 0 to 255, and dividing by 255 scales them to a range between 0 and 1, which is common in neural networks for better convergence.\n",
        "\n",
        "**6. Visualizing the Scaled Image:**\n",
        "\n",
        "This uses matplotlib to display the scaled grayscale image. It's useful for verifying that the image processing is correct.\n",
        "\n",
        "**7. Reshaping the Image:**\n",
        "\n",
        "Here, you are reshaping the image to add a batch dimension. The expected input to most neural networks is a 4D tensor where the shape is (batch_size, height, width, channels).\n",
        "\n",
        "Since you trained your model with 28x28 grayscale images, you reshape it to (1, 28, 28) where:\n",
        "\n",
        "- 1 is the batch size (since you're testing with one image).\n",
        "\n",
        "- 28, 28 is the height and width of the image.\n",
        "\n",
        "No channel dimension is specified because it's a single-channel grayscale image."
      ],
      "metadata": {
        "id": "hcHoYwPSKR93"
      }
    },
    {
      "cell_type": "code",
      "source": [
        "from PIL import Image\n",
        "import numpy as np\n",
        "img = Image.open('/content/bag.webp') # provide file extension\n",
        "img"
      ],
      "metadata": {
        "id": "7aRrUlnQMJqn"
      },
      "execution_count": null,
      "outputs": []
    },
    {
      "cell_type": "code",
      "source": [
        "# Convert image to array using numpy\n",
        "img1=np.array(img)\n",
        "img1.shape"
      ],
      "metadata": {
        "id": "vN5efIiYNK23"
      },
      "execution_count": null,
      "outputs": []
    },
    {
      "cell_type": "code",
      "source": [
        "# resize to 28x28\n",
        "img2 = img.resize((28, 28))\n",
        "img2"
      ],
      "metadata": {
        "id": "1Vv81Z48NnsS"
      },
      "execution_count": null,
      "outputs": []
    },
    {
      "cell_type": "code",
      "source": [
        "img3=np.array(img2)\n",
        "img3.shape"
      ],
      "metadata": {
        "id": "Y7N79lWfNv2Z"
      },
      "execution_count": null,
      "outputs": []
    },
    {
      "cell_type": "code",
      "source": [
        "# Convert into gray scale\n",
        "# Optional\n",
        "gray_image=np.mean(img3,axis=2) # (28,28)\n",
        "gray_image.shape"
      ],
      "metadata": {
        "id": "VJt4Lr8EN9e4"
      },
      "execution_count": null,
      "outputs": []
    },
    {
      "cell_type": "code",
      "source": [
        "scaled_image=gray_image/255\n",
        "scaled_image.shape"
      ],
      "metadata": {
        "id": "CkAVBTvQOibm"
      },
      "execution_count": null,
      "outputs": []
    },
    {
      "cell_type": "code",
      "source": [
        "plt.subplot(1,2,1).imshow(img) # starting\n",
        "plt.subplot(1,2,2).imshow(scaled_image) # Ending"
      ],
      "metadata": {
        "id": "UhYHKewcOoJt"
      },
      "execution_count": null,
      "outputs": []
    },
    {
      "cell_type": "code",
      "source": [
        "X_train[0].shape\n",
        "# Have you pass entire X_train\n",
        "# Havt you pass only X_train[0]\n",
        "X_train.shape"
      ],
      "metadata": {
        "id": "9sfzMCEkPgvZ"
      },
      "execution_count": null,
      "outputs": []
    },
    {
      "cell_type": "code",
      "source": [
        "#model.predict(img1)"
      ],
      "metadata": {
        "id": "DJelV1U7NaQF"
      },
      "execution_count": null,
      "outputs": []
    },
    {
      "cell_type": "code",
      "source": [
        "scaled_image_final = scaled_image.reshape(1, 28, 28)\n",
        "scaled_image_final.shape"
      ],
      "metadata": {
        "id": "VqNBhtxeQJ6b"
      },
      "execution_count": null,
      "outputs": []
    },
    {
      "cell_type": "code",
      "source": [
        "pred=model.predict(scaled_image_final)\n",
        "np.argmax(pred)"
      ],
      "metadata": {
        "id": "QQHK_gAsQNQ0"
      },
      "execution_count": null,
      "outputs": []
    },
    {
      "cell_type": "code",
      "source": [
        "class_names[np.argmax(pred)]"
      ],
      "metadata": {
        "id": "CfoaudwkQloh"
      },
      "execution_count": null,
      "outputs": []
    },
    {
      "cell_type": "code",
      "source": [
        "## All together\n",
        "from PIL import Image\n",
        "import numpy as np\n",
        "img = Image.open('/content/bag.jpg')\n",
        "image = img.resize((28, 28))\n",
        "img_pixels=np.array(image) # (28,28,3)\n",
        "\n",
        "# Convert into gray scale\n",
        "gray_image=np.mean(img_pixels,axis=2) # (28,28)\n",
        "\n",
        "#Scale the image\n",
        "scaled_image=gray_image/255  # scaled the image\n",
        "plt.subplot(1,2,1).imshow(img)\n",
        "plt.subplot(1,2,2).imshow(scaled_image)\n",
        "\n",
        "#Re shape the image according the model\n",
        "gray_image_final = gray_image.reshape(1, 28, 28)\n",
        "print(gray_image_final.shape,gray_image_final.ndim)\n",
        "scaled_image_final = scaled_image.reshape(1, 28, 28)\n",
        "print(scaled_image_final.shape,scaled_image_final.ndim)"
      ],
      "metadata": {
        "id": "knDu2P3QJF6A"
      },
      "execution_count": null,
      "outputs": []
    },
    {
      "cell_type": "code",
      "source": [
        "# Now pass this img_array to your model for prediction\n",
        "prediction = model.predict(gray_image_final)\n",
        "print(prediction)"
      ],
      "metadata": {
        "id": "LfpYHqcYJJ8b"
      },
      "execution_count": null,
      "outputs": []
    },
    {
      "cell_type": "code",
      "source": [
        "class_names[np.argmax(prediction)]"
      ],
      "metadata": {
        "id": "YkOjT6alJdwM"
      },
      "execution_count": null,
      "outputs": []
    },
    {
      "cell_type": "markdown",
      "source": [
        "**Method-2**"
      ],
      "metadata": {
        "id": "P5t_ZvPqdjli"
      }
    },
    {
      "cell_type": "markdown",
      "source": [],
      "metadata": {
        "id": "B0BgiRYYdlZ3"
      }
    },
    {
      "cell_type": "code",
      "source": [
        "img = Image.open('/content/bag.jpg')\n",
        "img"
      ],
      "metadata": {
        "id": "c-zXWRe0dn36"
      },
      "execution_count": null,
      "outputs": []
    },
    {
      "cell_type": "code",
      "source": [
        "image = img.convert('L')\n",
        "image"
      ],
      "metadata": {
        "id": "nhCtFlIddqW5"
      },
      "execution_count": null,
      "outputs": []
    },
    {
      "cell_type": "code",
      "source": [
        "# Resize image to 28x28\n",
        "image1 = image.resize((28, 28))\n",
        "image1"
      ],
      "metadata": {
        "id": "DCNn5JQRd1-z"
      },
      "execution_count": null,
      "outputs": []
    },
    {
      "cell_type": "code",
      "source": [
        "np.array(img).shape"
      ],
      "metadata": {
        "id": "TidAYjsGeEAs"
      },
      "execution_count": null,
      "outputs": []
    },
    {
      "cell_type": "code",
      "source": [
        "# Convert image to array\n",
        "image_array1 = np.array(image1)\n",
        "image_array1.shape"
      ],
      "metadata": {
        "id": "QVAvXLeAeAlU"
      },
      "execution_count": null,
      "outputs": []
    },
    {
      "cell_type": "code",
      "source": [
        "# Normalize the image\n",
        "image_array2 = image_array1 / 255.0\n"
      ],
      "metadata": {
        "id": "3hC-7SupeIaM"
      },
      "execution_count": null,
      "outputs": []
    },
    {
      "cell_type": "code",
      "source": [
        "# Add a batch dimension\n",
        "image_array3 = np.expand_dims(image_array2, axis=0)\n",
        "image_array3.shape"
      ],
      "metadata": {
        "id": "SOcrAHnBeK_7"
      },
      "execution_count": null,
      "outputs": []
    },
    {
      "cell_type": "code",
      "source": [
        "# Add a channel dimension\n",
        "image_array4 = np.expand_dims(image_array3, axis=-1)\n",
        "image_array4.shape"
      ],
      "metadata": {
        "id": "9cBGNrGaeN70"
      },
      "execution_count": null,
      "outputs": []
    },
    {
      "cell_type": "code",
      "source": [
        "predictions = model.predict(image_array3)\n",
        "predictions"
      ],
      "metadata": {
        "id": "ZK3OF0vXeRVx"
      },
      "execution_count": null,
      "outputs": []
    },
    {
      "cell_type": "code",
      "source": [
        "np.argmax(predictions)"
      ],
      "metadata": {
        "id": "DBsqi2XE4m_8"
      },
      "execution_count": null,
      "outputs": []
    },
    {
      "cell_type": "code",
      "source": [],
      "metadata": {
        "id": "kcP5n5jPeyEo"
      },
      "execution_count": null,
      "outputs": []
    }
  ]
}